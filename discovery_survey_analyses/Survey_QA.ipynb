{
 "cells": [
  {
   "cell_type": "markdown",
   "metadata": {},
   "source": [
    "This notebook outlines some quality control measures for the mTurk survey data."
   ]
  },
  {
   "cell_type": "code",
   "execution_count": 66,
   "metadata": {
    "collapsed": true
   },
   "outputs": [],
   "source": [
    "import os,glob,json\n",
    "import numpy,pandas\n",
    "import scipy.stats\n",
    "from sklearn.decomposition import PCA\n",
    "from sklearn.preprocessing import scale\n",
    "\n",
    "import matplotlib.pyplot as plt\n",
    "\n",
    "%matplotlib inline"
   ]
  },
  {
   "cell_type": "markdown",
   "metadata": {},
   "source": [
    "Load the datafiles and check for bad items. Note that the one level mismatch is due to averaging of two presentation of a single item."
   ]
  },
  {
   "cell_type": "code",
   "execution_count": 2,
   "metadata": {
    "collapsed": false
   },
   "outputs": [
    {
     "name": "stdout",
     "output_type": "stream",
     "text": [
      "level mismatch: self_regulation_survey_26 ['2', '3', '5', '1', '4'] [ 4.   5.   3.5  4.5  3.   1.5  2.5  2.   1. ]\n"
     ]
    }
   ],
   "source": [
    "datafiles=glob.glob('surveydata/*survey.tsv')\n",
    "\n",
    "skewness={}\n",
    "unused={}\n",
    "mismatch={}\n",
    "lowfreq={}\n",
    "low_thresh=0.01\n",
    "\n",
    "for f in datafiles:\n",
    "    d=pandas.read_csv(f,delimiter='\\t',index_col=0)\n",
    "    mdfile=f.replace('.tsv','.json').replace('surveydata','metadata')\n",
    "    with open(mdfile) as md:\n",
    "        metadata = json.loads(md.read())\n",
    "    for c in d.columns:\n",
    "        assert c in metadata\n",
    "        levels=[l.replace(' ','') for l in metadata[c]['Levels'].keys()]\n",
    "        if  len(levels)<len(d[c].unique()):\n",
    "            print('level mismatch:',c,levels,d[c].unique())\n",
    "            mismatch[c]=(levels,d[c].unique())\n",
    "            continue\n",
    "        if  len(levels)>len(d[c].unique()):\n",
    "            #print('unused levels:',c,levels,d[c].unique())\n",
    "            unused[c]=(levels,d[c].unique())\n",
    "        nvals=[]\n",
    "        for datalevel in d[c].unique():\n",
    "            if not '%d'%datalevel in levels:\n",
    "                print(c,datalevel,'not in',levels)\n",
    "            nvals.append((d[c]==datalevel).sum())\n",
    "        nvals=numpy.array(nvals)\n",
    "        nvals=nvals/numpy.sum(nvals)\n",
    "        bcut=numpy.where(nvals<low_thresh)[0]\n",
    "        if len(bcut)>0:\n",
    "            for bc in bcut:\n",
    "                #print('%s: p(%s)=%f'%(c,levels[bc],nvals[bc]))\n",
    "                lowfreq[c]=(levels[bc],nvals[bc])\n"
   ]
  },
  {
   "cell_type": "code",
   "execution_count": 65,
   "metadata": {
    "collapsed": false
   },
   "outputs": [
    {
     "name": "stdout",
     "output_type": "stream",
     "text": [
      "found 56 items with a response present for less than 1 percent of subjects\n",
      "found 42 items with at least 1 unused response\n"
     ]
    }
   ],
   "source": [
    "print('found %d items with a response present for less than %d percent of subjects'%(len(lowfreq),int(low_thresh*100)))\n",
    "print('found %d items with at least 1 unused response'%len(unused))"
   ]
  },
  {
   "cell_type": "code",
   "execution_count": null,
   "metadata": {
    "collapsed": true
   },
   "outputs": [],
   "source": []
  },
  {
   "cell_type": "markdown",
   "metadata": {},
   "source": [
    "Now let's look for outlier subjects.  Simple approach here is to compute first two principal components, and see which subjects fall more than 3 SD's from the crowd.  There are almost certainly better approaches - e.g. http://stats.stackexchange.com/questions/213/what-is-the-best-way-to-identify-outliers-in-multivariate-data"
   ]
  },
  {
   "cell_type": "code",
   "execution_count": 74,
   "metadata": {
    "collapsed": false
   },
   "outputs": [
    {
     "name": "stdout",
     "output_type": "stream",
     "text": [
      "Subjects more than 3 SD on either PCA component\n",
      "s202 0.339441953505 -3.41390719533\n"
     ]
    },
    {
     "data": {
      "image/png": "[encoded data removed]",
      "text/plain": [
       "<matplotlib.figure.Figure at 0x119ab6518>"
      ]
     },
     "metadata": {},
     "output_type": "display_data"
    }
   ],
   "source": [
    "alldata=pandas.read_csv('surveydata.csv',index_col=0)\n",
    "pca=PCA(n_components=2,whiten=True)\n",
    "pca_result=pca.fit_transform(alldata)\n",
    "plt.scatter(pca_result[:,0],pca_result[:,1])\n",
    "possible_outliers=numpy.where(numpy.max(numpy.abs(pca_result),1)>3)[0]\n",
    "print('Subjects more than 3 SD on either PCA component')\n",
    "for p in possible_outliers:\n",
    "    plt.text(scaled_result[p,0],scaled_result[p,1],alldata.index[p])\n",
    "    print(alldata.index[p],scaled_result[p,0],scaled_result[p,1])\n"
   ]
  },
  {
   "cell_type": "code",
   "execution_count": null,
   "metadata": {
    "collapsed": true
   },
   "outputs": [],
   "source": []
  }
 ],
 "metadata": {
  "kernelspec": {
   "display_name": "Python 3",
   "language": "python",
   "name": "python3"
  },
  "language_info": {
   "codemirror_mode": {
    "name": "ipython",
    "version": 3
   },
   "file_extension": ".py",
   "mimetype": "text/x-python",
   "name": "python",
   "nbconvert_exporter": "python",
   "pygments_lexer": "ipython3",
   "version": "3.4.4"
  }
 },
 "nbformat": 4,
 "nbformat_minor": 1
}
