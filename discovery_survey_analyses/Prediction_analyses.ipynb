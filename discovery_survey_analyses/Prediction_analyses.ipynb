{
 "cells": [
  {
   "cell_type": "markdown",
   "metadata": {},
   "source": [
    "This notebook assesses the ability to predict demographic outcomes from survey data.  "
   ]
  },
  {
   "cell_type": "code",
   "execution_count": 21,
   "metadata": {
    "collapsed": false
   },
   "outputs": [
    {
     "name": "stdout",
     "output_type": "stream",
     "text": [
      "The rpy2.ipython extension is already loaded. To reload it, use:\n",
      "  %reload_ext rpy2.ipython\n"
     ]
    },
    {
     "data": {
      "text/plain": [
       "array([1], dtype=int32)"
      ]
     },
     "execution_count": 21,
     "metadata": {},
     "output_type": "execute_result"
    }
   ],
   "source": [
    "import os,glob\n",
    "import numpy,pandas\n",
    "from sklearn.svm import LinearSVC,SVC\n",
    "from sklearn.linear_model import LinearRegression,LogisticRegressionCV,RandomizedLogisticRegression,ElasticNet,ElasticNetCV,Ridge,RidgeCV\n",
    "from sklearn.preprocessing import scale\n",
    "from sklearn.cross_validation import StratifiedKFold,KFold\n",
    "from sklearn.metrics import accuracy_score,f1_score,roc_auc_score\n",
    "%matplotlib inline\n",
    "\n",
    "%load_ext rpy2.ipython\n",
    "%R require(mirt)"
   ]
  },
  {
   "cell_type": "code",
   "execution_count": 2,
   "metadata": {
    "collapsed": false
   },
   "outputs": [],
   "source": [
    "if not os.path.exists('factor_scores'):\n",
    "    os.mkdir('factor_scores')\n"
   ]
  },
  {
   "cell_type": "code",
   "execution_count": null,
   "metadata": {
    "collapsed": false
   },
   "outputs": [],
   "source": []
  },
  {
   "cell_type": "code",
   "execution_count": 3,
   "metadata": {
    "collapsed": false
   },
   "outputs": [],
   "source": [
    "binary_vars=[\"ArrestedChargedLifeCount\",\"DivorceCount\",\"GamblingProblem\",\"ChildrenNumber\",\n",
    "            \"CreditCardDebt\",\"RentOwn\",\"RetirementAccount\",\"TrafficTicketsLastYearCount\",\"Obese\",\n",
    "             \"TrafficAccidentsLifeCount\",\"CaffienatedSodaCansPerDay\"]\n",
    "\n",
    "demogdata=pandas.read_csv('surveydata/demographics.tsv',index_col=0,delimiter='\\t')\n",
    "# remove a couple of outliers\n",
    "demogdata=demogdata.query('WeightPounds>50')\n",
    "demogdata=demogdata.query('CaffienatedSodaCansPerDay>-1')\n",
    "\n",
    "demogdata['BMI']=demogdata['WeightPounds']*0.45 / (demogdata['HeightInches']*0.025)**2\n",
    "demogdata['Obese']=(demogdata['BMI']>30).astype('int')\n",
    "demogdata=demogdata[binary_vars]\n",
    "demogdata=demogdata[demogdata.isnull().sum(1)==0]\n",
    "workers=list(demogdata.index)\n",
    "\n",
    "subscale_data=pandas.read_csv('survey_subscales.csv',index_col=0)\n",
    "\n",
    "subscale_data=subscale_data.ix[workers]\n",
    "subscale_data=subscale_data[subscale_data.isnull().sum(1)==0]\n",
    "subscale_vars=list(subscale_data.columns)\n",
    "demogdata=demogdata.ix[subscale_data.index]\n",
    "assert list(demogdata.index)==list(subscale_data.index)\n",
    "demogdata_scaled=scale(demogdata.values)\n",
    "subscale_data=scale(subscale_data.values)"
   ]
  },
  {
   "cell_type": "code",
   "execution_count": null,
   "metadata": {
    "collapsed": true
   },
   "outputs": [],
   "source": []
  },
  {
   "cell_type": "markdown",
   "metadata": {},
   "source": [
    "First get binary variables and test classification based on survey data.  Only include variables that have at least 10% of the infrequent category. Some of these were not collected as binary variables, but we binarize by calling anything above the minimum value a positive outcome."
   ]
  },
  {
   "cell_type": "code",
   "execution_count": 4,
   "metadata": {
    "collapsed": false
   },
   "outputs": [],
   "source": [
    "\n",
    "bvardata=numpy.zeros((len(demogdata),len(binary_vars)))\n",
    "for i in range(len(binary_vars)):\n",
    "    v=binary_vars[i]\n",
    "    d=demogdata[v].copy()\n",
    "    if not d.min()==0:\n",
    "        d[d==d.min()]=0\n",
    "    d[d>d.min()]=1\n",
    "    assert d.isnull().sum()==0\n",
    "    bvardata[:,i]=d.values\n",
    "\n"
   ]
  },
  {
   "cell_type": "code",
   "execution_count": 24,
   "metadata": {
    "collapsed": false
   },
   "outputs": [
    {
     "name": "stdout",
     "output_type": "stream",
     "text": [
      "\n",
      "ArrestedChargedLifeCount: predictive accuracy (AUC - chance = 0.5) = 0.552\n",
      "Features sorted by their absolute correlation with outcome (top 5):\n",
      "-0.158825: future_time_perspective_survey.future_time_perspective\n",
      "0.131977: dospert_eb_survey.recreational\n",
      "0.129978: eating_survey.cognitive_restraint\n",
      "0.128566: impulsive_venture_survey.venturesomeness\n",
      "0.121823: bis_bas_survey.BAS_fun_seeking\n",
      "\n",
      "DivorceCount: predictive accuracy (AUC - chance = 0.5) = 0.523\n",
      "Features sorted by their absolute correlation with outcome (top 5):\n",
      "0.229985: eating_survey.emotional_eating\n",
      "0.182185: leisure_time_activity_survey.activity_level\n",
      "0.180984: dospert_rt_survey.financial\n",
      "-0.178070: time_perspective_survey.past_positive\n",
      "-0.166550: five_facet_mindfulness_survey.describe\n",
      "\n"
     ]
    },
    {
     "name": "stderr",
     "output_type": "stream",
     "text": [
      "/Users/poldrack/anaconda/envs/py34/lib/python3.4/site-packages/ipykernel/__main__.py:14: DeprecationWarning: assignment will raise an error in the future, most likely because your index result shape does not match the value array shape. You can use `arr.flat[index] = values` to keep the old behaviour.\n"
     ]
    },
    {
     "name": "stdout",
     "output_type": "stream",
     "text": [
      "GamblingProblem: predictive accuracy (AUC - chance = 0.5) = 0.594\n",
      "Features sorted by their absolute correlation with outcome (top 5):\n",
      "0.224106: dickman_survey.functional\n",
      "0.170774: dospert_eb_survey.social\n",
      "0.155250: bis_bas_survey.BAS_drive\n",
      "0.151556: dospert_eb_survey.recreational\n",
      "0.140211: time_perspective_survey.past_positive\n",
      "\n",
      "ChildrenNumber: predictive accuracy (AUC - chance = 0.5) = 0.506\n",
      "Features sorted by their absolute correlation with outcome (top 5):\n",
      "-0.306942: dospert_rp_survey.financial\n",
      "-0.210904: bis_bas_survey.BAS_reward_responsiveness\n",
      "0.201684: dospert_eb_survey.financial\n",
      "0.179619: dospert_rt_survey.financial\n",
      "-0.171689: dospert_rp_survey.health/safety\n",
      "\n",
      "CreditCardDebt: predictive accuracy (AUC - chance = 0.5) = 0.459\n",
      "Features sorted by their absolute correlation with outcome (top 5):\n",
      "-0.163655: leisure_time_activity_survey.activity_level\n",
      "0.147613: time_perspective_survey.present_hedonistic\n",
      "-0.142226: erq_survey.suppression\n",
      "-0.136683: bis11_survey.first_order_attention\n",
      "-0.131757: bis11_survey.Attentional\n",
      "\n",
      "RentOwn: predictive accuracy (AUC - chance = 0.5) = 0.539\n",
      "Features sorted by their absolute correlation with outcome (top 5):\n",
      "-0.245422: bis_bas_survey.BAS_reward_responsiveness\n",
      "0.185966: erq_survey.suppression\n",
      "0.176076: dospert_rt_survey.financial\n",
      "-0.157080: selection_optimization_compensation_survey.compensation\n",
      "-0.144342: time_perspective_survey.past_positive\n",
      "\n",
      "RetirementAccount: predictive accuracy (AUC - chance = 0.5) = 0.522\n",
      "Features sorted by their absolute correlation with outcome (top 5):\n",
      "0.148983: dospert_rt_survey.financial\n",
      "0.137323: mindful_attention_awareness_survey.mindfulness\n",
      "0.133733: leisure_time_activity_survey.activity_level\n",
      "0.131324: eating_survey.cognitive_restraint\n",
      "-0.121089: eating_survey.emotional_eating\n",
      "\n",
      "TrafficTicketsLastYearCount: predictive accuracy (AUC - chance = 0.5) = 0.634\n",
      "Features sorted by their absolute correlation with outcome (top 5):\n",
      "-0.161823: cognitive_reflection_survey.acc\n",
      "-0.151255: five_facet_mindfulness_survey.observe\n",
      "0.133106: sensation_seeking_survey.thrill_adventure_seeking\n",
      "-0.120288: five_facet_mindfulness_survey.nonjudge\n",
      "0.119856: upps_impulsivity_survey.positive_urgency\n",
      "\n",
      "Obese: predictive accuracy (AUC - chance = 0.5) = 0.448\n",
      "Features sorted by their absolute correlation with outcome (top 5):\n",
      "-0.138285: bis11_survey.first_order_motor\n",
      "-0.134892: selection_optimization_compensation_survey.loss-based_selection\n",
      "-0.133726: selection_optimization_compensation_survey.optimization\n",
      "0.126068: bis11_survey.first_order_perseverance\n",
      "-0.123825: future_time_perspective_survey.future_time_perspective\n",
      "\n",
      "TrafficAccidentsLifeCount: predictive accuracy (AUC - chance = 0.5) = 0.435\n",
      "Features sorted by their absolute correlation with outcome (top 5):\n",
      "0.153347: dospert_rp_survey.social\n",
      "-0.133356: upps_impulsivity_survey.negative_urgency\n",
      "-0.127322: eating_survey.emotional_eating\n",
      "0.125390: dospert_rp_survey.ethical\n",
      "0.113920: bis11_survey.first_order_motor\n",
      "\n",
      "CaffienatedSodaCansPerDay: predictive accuracy (AUC - chance = 0.5) = 0.474\n",
      "Features sorted by their absolute correlation with outcome (top 5):\n",
      "-0.212915: bis_bas_survey.BAS_reward_responsiveness\n",
      "-0.185018: bis_bas_survey.BIS\n",
      "0.160253: upps_impulsivity_survey.lack_of__premeditation\n",
      "-0.154762: cognitive_reflection_survey.acc\n",
      "-0.142202: eating_survey.emotional_eating\n"
     ]
    }
   ],
   "source": [
    "nfeatures=5 # number of features to show\n",
    "\n",
    "for i in range(len(binary_vars)):\n",
    "    print('')\n",
    "    y=bvardata[:,i]\n",
    "    kf=StratifiedKFold(y,n_folds=8) # use stratified K-fold CV to get roughly equal folds\n",
    "    # we use an inner CV loop on training data to estimate the best penalty value\n",
    "    clf=SVC(probability=True) #LogisticRegressionCV(solver='liblinear',penalty='l1')  #LinearSVC()\n",
    "    \n",
    "    pred=numpy.zeros(len(y))\n",
    "\n",
    "    for train,test in kf:\n",
    "        clf.fit(subscale_data[train,:],y[train])\n",
    "        pred[test]=clf.predict_proba(subscale_data[test,:])\n",
    "    rocauc=roc_auc_score(y,pred)\n",
    "\n",
    "    print('%s)\n",
    "          : predictive accuracy (AUC - chance = 0.5) = %0.3f'%(,rocauc))\n",
    "    print(\"Features sorted by their absolute correlation with outcome (top %d):\"%nfeatures)\n",
    "    featcorr=numpy.array([numpy.corrcoef(subscale_data[:,x],y)[0,1] for x in range(subscale_data.shape[1])])\n",
    "    idx=numpy.argsort(numpy.abs(featcorr))[::-1]\n",
    "    for i in range(nfeatures):\n",
    "        print('%f: %s'%(featcorr[idx[i]],subscale_vars[idx[i]]))"
   ]
  },
  {
   "cell_type": "code",
   "execution_count": null,
   "metadata": {
    "collapsed": true
   },
   "outputs": [],
   "source": [
    "%%R -i workers\n",
    "compnums=c(3:10)\n",
    "for (i in 1:length(compnums)) {\n",
    "  ncomps=compnums[i]\n",
    "  load(sprintf('rdata_files_wrangler/mirt_%ddims.Rdata',ncomps))\n",
    "  scores=fscores(m,full.scores = TRUE,method='MAP')\n",
    "  scores=data.frame(scores)\n",
    "  row.names(scores)=workers\n",
    "  write.table(scores,file=sprintf('factor_scores/factor_scores_%ddims.tsv',ncomps),sep='\\t',quote=FALSE,col.names=FALSE)\n",
    "}"
   ]
  }
 ],
 "metadata": {
  "kernelspec": {
   "display_name": "Python 3",
   "language": "python",
   "name": "python3"
  },
  "language_info": {
   "codemirror_mode": {
    "name": "ipython",
    "version": 3
   },
   "file_extension": ".py",
   "mimetype": "text/x-python",
   "name": "python",
   "nbconvert_exporter": "python",
   "pygments_lexer": "ipython3",
   "version": "3.4.4"
  }
 },
 "nbformat": 4,
 "nbformat_minor": 1
}
