{
 "cells": [
  {
   "cell_type": "markdown",
   "metadata": {
    "toc-hr-collapsed": false
   },
   "source": [
    "# Reconstructing out-of-sample DVs\n",
    "\n",
    "Given a quantitative ontology, or psychological space, that DVs can be projected into, how can we deterine the embedding of new variables?\n",
    "\n",
    "Currently, our embedding is determined by factor analysis. Thus ontological embedding are only known for the DVs entered into the original model. How could we extend this?\n",
    "\n",
    "One possibility is measuring new variables in the same population that completed our original battery. After doing this we could either (1) run the model anew, or (2) use linear regression to map the already discovered factors onto the new variables. The former is better, but results in small changes to the actual factors with each new variable. The latter method ensures that our factors stay the same. Neither is scalable, however, as we do not, in general, have access to a constant population that can be remeasured whenever new measures come into the picture.\n",
    "\n",
    "Another possibility that works with new populations requires that the new population completes the entire battery used to estimate the original factors, in addition to whatever new variables are of interest. Doing so allows the calculation of factor scores for this new population based on the original model, which can then be mapped to the new measures of interest. This allows researchers to capitalize on the original model (presumably fit on more subjects than the new study), while expanding the ontology. Problems exist here, however.\n",
    "- The most obvious problem is that you have to measure the new sample on the entire battery used to fit the original EFA model. Given that this takes many hours (the exact number depending on whether tasks, surveys or both are used), this is exceedingly impractical. In our cas we did have our new fMRI sample take the entire battery (or at least a subset of participants), so this problem isn't as relevant\n",
    "- Still problems remain. If N is small, the estimate of the ontological embedding for new DVs is likely unstable.\n",
    "\n",
    "This latter problem necessitates some quantitative exploration. This notebook simulates the issue by:\n",
    "1. Removing a DV from the original ontology dataset\n",
    "2. Performing EFA on this subset\n",
    "3. Using linear regression to map these EFA factors to the left out variable\n",
    "\n",
    "(3) is performed on smaller population sizes to reflect the reality of most studies (including ours) and is repeated to get a sense of the mapping's variability\n",
    "\n",
    "### Small issues not currently addressed\n",
    "\n",
    "- The EFA model is fit on the entire population. An even more stringent simulation would subset the subjects used in the \"new study\" and fit the EFA model on a completely independent group. I tried this once - the factor scores hardly differed. In addition, I want the EFA model to be as well-powered as possible, as that will be the reality for this method moving forward\n",
    "- I am currently not holding out entire tasks, but only specific DVs"
   ]
  },
  {
   "cell_type": "code",
   "execution_count": null,
   "metadata": {},
   "outputs": [],
   "source": [
    "import argparse\n",
    "from glob import glob\n",
    "import numpy as np\n",
    "from os import makedirs, path\n",
    "import pandas as pd\n",
    "import pickle\n",
    "from sklearn.linear_model import LinearRegression, Ridge, RidgeCV\n",
    "from sklearn.preprocessing import normalize \n",
    "\n",
    "from dimensional_structure.EFA_plots import get_communality\n",
    "from dimensional_structure.reconstruction_plots import (plot_factor_reconstructions,\n",
    "                                                       plot_reconstruction_hist)\n",
    "from dimensional_structure.reconstruction_utils import (get_reconstruction_results, \n",
    "                                                        linear_reconstruction,\n",
    "                                                        k_nearest_reconstruction)\n",
    "from selfregulation.utils.plot_utils import format_num\n",
    "from selfregulation.utils.result_utils import load_results\n",
    "from selfregulation.utils.utils import get_recent_dataset, get_info, get_retest_data"
   ]
  },
  {
   "cell_type": "code",
   "execution_count": null,
   "metadata": {},
   "outputs": [],
   "source": [
    "# argparse\n",
    "if __name__ == '__main__':\n",
    "    parser = argparse.ArgumentParser()\n",
    "    parser.add_argument('-pop_sizes', nargs='+', default=[25, 50, 100, 400], type=int)\n",
    "    parser.add_argument('-n_reps', default=100)\n",
    "    parser.add_argument('-n_measures', default=None, type=int)\n",
    "    parser.add_argument('-dataset', default=None)\n",
    "    parser.add_argument('-rerun', action='store_true')\n",
    "    parser.add_argument('-append', action='store_true')\n",
    "    parser.add_argument('-EFA_rotation', default='oblimin')\n",
    "    args, _ = parser.parse_known_args()\n",
    "    pop_sizes = args.pop_sizes\n",
    "    n_reps = args.n_reps\n",
    "    n_measures = args.n_measures\n",
    "    rerun = args.rerun\n",
    "    append = args.append\n",
    "    EFA_rotation = args.EFA_rotation\n",
    "    if args.dataset is not None:\n",
    "        dataset = args.dataset\n",
    "    else:\n",
    "        dataset = get_recent_dataset()"
   ]
  },
  {
   "cell_type": "code",
   "execution_count": null,
   "metadata": {},
   "outputs": [],
   "source": [
    "n_reps=200\n",
    "#append = True"
   ]
  },
  {
   "cell_type": "code",
   "execution_count": null,
   "metadata": {},
   "outputs": [],
   "source": [
    "# additional setup\n",
    "np.random.seed(12412)\n",
    "results = load_results(dataset)['task']\n",
    "retest_data = get_retest_data(dataset.replace('Complete', 'Retest'))\n",
    "c = results.EFA.results['num_factors']\n",
    "\n",
    "classifiers = {'Ridge': Ridge(fit_intercept=False),\n",
    "               'LR': LinearRegression(fit_intercept=False)}\n",
    "# get output dir to store results\n",
    "output_dir = path.join(get_info('results_directory'),\n",
    "                       'ontology_reconstruction', results.ID, EFA_rotation)\n",
    "makedirs(output_dir, exist_ok=True)\n",
    "# get plot dir to store plots\n",
    "plot_dir = path.join(output_dir, 'Plots')\n",
    "makedirs(plot_dir, exist_ok=True)"
   ]
  },
  {
   "cell_type": "code",
   "execution_count": null,
   "metadata": {},
   "outputs": [],
   "source": [
    "# get a random subset of variables to perform the calculation on if n_vars is set\n",
    "measures = np.unique([i.split('.')[0] for i in results.data.columns])\n",
    "if n_measures is not None:\n",
    "    measure_list = np.random.choice(measures, n_measures, replace=False)\n",
    "else:\n",
    "    measure_list = measures\n",
    "# get all variables from selected tasks\n",
    "var_list = results.data.filter(regex='|'.join(measure_list)).columns"
   ]
  },
  {
   "cell_type": "code",
   "execution_count": null,
   "metadata": {},
   "outputs": [],
   "source": [
    "def load_files(reconstruction_files, query_string=None):\n",
    "    out = {}\n",
    "    for f in reconstruction_files:\n",
    "        tmp = pd.read_pickle(f)\n",
    "        if query_string:\n",
    "            tmp = tmp.query(query_string)\n",
    "        name = f.split('-')[-1][:-4]\n",
    "        out[name] = tmp\n",
    "    return out\n",
    "\n",
    "def update_files(old, new):\n",
    "    for k, df in old.items():\n",
    "        add = new.pop(k)\n",
    "        add = add.query('label == \"partial_reconstruct\"')\n",
    "        add.loc[:,'rep'] += df.rep.max()\n",
    "        old[k] = pd.concat([df, add], sort=False).reset_index(drop=True)\n",
    "    old.update(new)\n",
    "        \n",
    "def combine_files(reconstruction_files, query_string=None):\n",
    "    if type(reconstruction_files) != dict:\n",
    "        out = load_files(reconstruction_files, query_string)\n",
    "    else:\n",
    "        out = reconstruction_files\n",
    "    return pd.concat(out, sort=False).reset_index(drop=True)\n",
    "\n",
    "def normalize_reconstruction(reconstruction, c, inplace=True):\n",
    "    \"\"\" Ensures reconstructions lie on the unit circle \"\"\"\n",
    "    if not inplace:\n",
    "        reconstruction = reconstruction.copy()\n",
    "    normed = normalize(reconstruction.iloc[:,:c])\n",
    "    reconstruction.iloc[:,:c] = normed\n",
    "    if not inplace:\n",
    "        return reconstruction\n",
    "    "
   ]
  },
  {
   "cell_type": "markdown",
   "metadata": {},
   "source": [
    "Run simulation for every variable at different population sizes. \n",
    "\n",
    "That is, do the following:\n",
    "\n",
    "1. take a variable (say stroop incongruent-congruent RT), remove it from the data matrix\n",
    "2. Run EFA on the data matrix composes of the 522 (subject) x N-1 (variable) data matrix\n",
    "3. Calculate factor scores for all 522 subjects\n",
    "4. Select a subset of \"pop_size\" to do an \"ontological mapping\". That is, pretend that these subjects did the whole battery (missing the one variable) *and then* completed one more task. The idea is we want to do a mapping from those subject's factor scores to the new variable\n",
    "   1. We can do a linear mapping (regression) from the ontological scores to the output variable\n",
    "   2. We can do a k-nearest neighbor interpolation, where we say the unknown ontological factor is a blend of the \"nearest\" variables in the dataset\n",
    "5. Repeat (4) a number of times to get a sense for the accuracy and variability of that mapping\n",
    "6. Compare the estimated ontological scores for the held out var (stroop incongruent-congruent) to the original \"correct\" ontological mapping (that would have been obtained if the variable was included in the original data matrix"
   ]
  },
  {
   "cell_type": "markdown",
   "metadata": {},
   "source": [
    "## Perform reconstruction"
   ]
  },
  {
   "cell_type": "markdown",
   "metadata": {},
   "source": [
    "### K Nearest Neighbor Reconstruction"
   ]
  },
  {
   "cell_type": "code",
   "execution_count": null,
   "metadata": {},
   "outputs": [],
   "source": [
    "%%time\n",
    "k_list = list(range(1,20))\n",
    "basename = path.join(output_dir, 'k_reconstruct*')\n",
    "files = glob(basename)\n",
    "updated = []\n",
    "if rerun: # rerun everything\n",
    "    regex_list = ['^'+m for m in measure_list]\n",
    "    k_reconstructions=get_reconstruction_results(results, regex_list, pop_sizes, \n",
    "                                                 n_reps=n_reps, \n",
    "                                                 recon_fun=k_nearest_reconstruction, \n",
    "                                                 k_list=k_list, \n",
    "                                                 EFA_rotation=EFA_rotation,\n",
    "                                                 verbose=False)\n",
    "    updated = measure_list\n",
    "else:\n",
    "    k_reconstructions = load_files(files)\n",
    "    if append: # add more simulations to previous files\n",
    "        regex_list = ['^'+m for m in measure_list]\n",
    "        to_append = get_reconstruction_results(results, regex_list, pop_sizes, \n",
    "                                                n_reps=n_reps, \n",
    "                                                recon_fun=k_nearest_reconstruction, \n",
    "                                                k_list=k_list, \n",
    "                                                EFA_rotation=EFA_rotation,\n",
    "                                               verbose=False)\n",
    "        updated = list(to_append.keys())\n",
    "        update_files(k_reconstructions, to_append)\n",
    "    else: # load previous files and add run any additional ones required\n",
    "        tmp_measures = set(measure_list) - set(k_reconstructions.keys())\n",
    "        regex_list = ['^'+m for m in tmp_measures]\n",
    "        additional = get_reconstruction_results(results, regex_list, pop_sizes, \n",
    "                                                n_reps=n_reps, \n",
    "                                                recon_fun=k_nearest_reconstruction, \n",
    "                                                k_list=k_list, \n",
    "                                                EFA_rotation=EFA_rotation,\n",
    "                                                verbose=False)\n",
    "        k_reconstructions.update(additional)\n",
    "        updated = additional.keys()\n",
    "\n",
    "for measure in updated:\n",
    "    df = k_reconstructions[measure]\n",
    "    df.to_pickle(basename[:-1]+'-%s.pkl' % measure)\n",
    "\n",
    "files = glob(basename)\n",
    "if len(files)>0:\n",
    "    k_reconstruction = combine_files(files)"
   ]
  },
  {
   "cell_type": "code",
   "execution_count": null,
   "metadata": {},
   "outputs": [],
   "source": [
    "summary = k_reconstruction.query('label==\"partial_reconstruct\"') \\\n",
    "                .groupby(['pop_size', 'k', 'weighting'])['corr_score'].agg([np.mean, np.std])"
   ]
  },
  {
   "cell_type": "code",
   "execution_count": null,
   "metadata": {},
   "outputs": [],
   "source": [
    "# summarize further\n",
    "k_best_params = {}\n",
    "for pop_size in pop_sizes:\n",
    "    tmp=summary.query('pop_size == %s' % pop_size)\n",
    "    best_params = tmp.loc[:,'mean'].idxmax()\n",
    "    best_val = tmp.loc[best_params,'mean']\n",
    "    k_best_params[pop_size] = {'k': best_params[1], \n",
    "                               'weighting': best_params[2],\n",
    "                               'best_val': best_val}"
   ]
  },
  {
   "cell_type": "code",
   "execution_count": null,
   "metadata": {},
   "outputs": [],
   "source": [
    "k_best_reconstruction = pd.DataFrame()\n",
    "for k, v in k_best_params.items():\n",
    "    tmp_partial = k_reconstruction.query('pop_size == %s and \\\n",
    "                                 k == %s and \\\n",
    "                                 weighting == \"%s\"' % (k, v['k'], v['weighting']))\n",
    "    full = k_reconstruction.query('label == \"full_reconstruct\" and \\\n",
    "                                 k == %s and \\\n",
    "                                 weighting == \"%s\"' % (v['k'], v['weighting']))\n",
    "    k_best_reconstruction = pd.concat([k_best_reconstruction,  full, tmp_partial], axis=0, sort=False)\n",
    "k_best_reconstruction = pd.concat([k_best_reconstruction, k_reconstruction.query('label == \"true\"')],\n",
    "                                   axis=0, sort=False)\n",
    "\n",
    "k_best_reconstruction.query('label==\"partial_reconstruct\"') \\\n",
    "    .groupby('pop_size')['corr_score'].agg(['mean','std'])"
   ]
  },
  {
   "cell_type": "markdown",
   "metadata": {},
   "source": [
    "### Linear Reconstruction"
   ]
  },
  {
   "cell_type": "code",
   "execution_count": null,
   "metadata": {},
   "outputs": [],
   "source": [
    "%%time\n",
    "clfs = {'Linear': LinearRegression(fit_intercept=False),\n",
    "       'Ridge': Ridge(fit_intercept=False),\n",
    "       'RidgeCV': RidgeCV(fit_intercept=False, cv=10)}\n",
    "linear_reconstructions = {}\n",
    "for clf_name, clf in clfs.items():\n",
    "    basename = path.join(output_dir, 'linear-%s_reconstruct*' % clf_name)\n",
    "    files = glob(basename)\n",
    "    updated = []\n",
    "    if rerun: # rerun everything\n",
    "        regex_list = ['^'+m for m in measure_list]\n",
    "        tmp_reconstructions=get_reconstruction_results(results, regex_list, pop_sizes, \n",
    "                                                       n_reps=n_reps, \n",
    "                                                       recon_fun=linear_reconstruction, \n",
    "                                                       clf=clf,\n",
    "                                                       EFA_rotation=EFA_rotation,\n",
    "                                                       verbose=False)\n",
    "        updated = measure_list\n",
    "    else:\n",
    "        tmp_reconstructions = load_files(files)\n",
    "        if append: # add more simulations to previous files\n",
    "            regex_list = ['^'+m for m in measure_list]\n",
    "            to_append = get_reconstruction_results(results, regex_list, pop_sizes, \n",
    "                                                       n_reps=n_reps, \n",
    "                                                       recon_fun=linear_reconstruction, \n",
    "                                                       clf=clf,\n",
    "                                                       EFA_rotation=EFA_rotation,\n",
    "                                                       verbose=False)\n",
    "            updated = list(to_append.keys())\n",
    "            update_files(tmp_reconstructions, to_append)\n",
    "        else: # load previous files and add run any additional ones required\n",
    "            tmp_measures = set(measure_list) - set(tmp_reconstructions.keys())\n",
    "            regex_list = ['^'+m for m in tmp_measures]\n",
    "            additional = get_reconstruction_results(results, regex_list, pop_sizes, \n",
    "                                                    n_reps=n_reps, \n",
    "                                                    recon_fun=linear_reconstruction, \n",
    "                                                    clf=clf,\n",
    "                                                    EFA_rotation=EFA_rotation,\n",
    "                                                    verbose=False)\n",
    "            tmp_reconstructions.update(additional)\n",
    "            updated = additional.keys()\n",
    "\n",
    "    for measure in updated:\n",
    "        df = tmp_reconstructions[measure]\n",
    "        df.to_pickle(basename[:-1]+'-%s.pkl' % measure)\n",
    "        \n",
    "    files = glob(basename)\n",
    "    if len(files) > 0:\n",
    "        linear_reconstructions[clf_name] = combine_files(files)"
   ]
  },
  {
   "cell_type": "code",
   "execution_count": null,
   "metadata": {},
   "outputs": [],
   "source": [
    "summary = pd.DataFrame()\n",
    "for clf, df in linear_reconstructions.items():\n",
    "    tmp = df.query('label==\"partial_reconstruct\"') \\\n",
    "        .groupby('pop_size').corr_score.agg([np.mean, np.std])\n",
    "    tmp.loc[:,'clf'] = clf\n",
    "    summary = pd.concat([summary, tmp], sort=False)\n",
    "print(summary)"
   ]
  },
  {
   "cell_type": "markdown",
   "metadata": {},
   "source": [
    "## Visualization\n",
    "\n",
    "Of concern is the average correspondence and variability between the estimated ontological fingerprint of a DV and its \"ground-truth\" (the original estimate when it was part of the EFA model)\n",
    "\n",
    "One way to look at this is just the average reconstruction score (e.g., for example) and variability of reconstruction score as a function of pseudo-pop-size and model parameters"
   ]
  },
  {
   "cell_type": "code",
   "execution_count": null,
   "metadata": {},
   "outputs": [],
   "source": [
    "%matplotlib inline\n",
    "# import matplotlib.pyplot as plt\n",
    "import matplotlib.pyplot as plt\n",
    "import seaborn as sns\n",
    "from sklearn.manifold import MDS, TSNE\n",
    "from sklearn.decomposition import PCA\n",
    "from scipy.spatial.distance import pdist, squareform\n",
    "colors = sns.color_palette('Set1', n_colors = len(pop_sizes), desat=.8)"
   ]
  },
  {
   "cell_type": "markdown",
   "metadata": {
    "toc-hr-collapsed": false
   },
   "source": [
    "### K Nearest Visualization (Example)"
   ]
  },
  {
   "cell_type": "markdown",
   "metadata": {},
   "source": [
    "#### Average Performance by Model Parameters"
   ]
  },
  {
   "cell_type": "code",
   "execution_count": null,
   "metadata": {},
   "outputs": [],
   "source": [
    "sns.set_context('talk')\n",
    "plot_df = k_reconstruction.query('label == \"partial_reconstruct\"')\n",
    "n_cols = 1\n",
    "n_rows = len(pop_sizes)//n_cols\n",
    "f, axes = plt.subplots(n_rows, n_cols, figsize=(12,n_rows*6))\n",
    "axes = f.get_axes()\n",
    "legend_on=True\n",
    "for ax, pop_size in zip(axes, pop_sizes):\n",
    "    sns.pointplot(x='k', y='corr_score', hue='weighting', \n",
    "                data=plot_df.query('pop_size==%s' % pop_size),\n",
    "                ax=ax, dodge=.3, alpha=.75, join=False, ci=None)\n",
    "    ax.set_title('Simulated Population Size: %s' % pop_size)\n",
    "    ax.set_ylim(-1.1,1.1)\n",
    "    ax.legend().set_visible(legend_on)\n",
    "    legend_on=False\n",
    "plt.subplots_adjust(hspace=.4)"
   ]
  },
  {
   "cell_type": "markdown",
   "metadata": {
    "toc-hr-collapsed": true
   },
   "source": [
    "#### Performance for each DV\n",
    "\n",
    "Only taking the best parameters from the k-nearest neighbor algorithm"
   ]
  },
  {
   "cell_type": "markdown",
   "metadata": {},
   "source": [
    "##### Histogram of DV reconstruction scores"
   ]
  },
  {
   "cell_type": "code",
   "execution_count": null,
   "metadata": {},
   "outputs": [],
   "source": [
    "plot_reconstruction_hist(k_best_reconstruction, title='KNN Reconstruction', size=14)"
   ]
  },
  {
   "cell_type": "markdown",
   "metadata": {},
   "source": [
    "There is clearly a bit of variability in the reconstruction accuracy based on the variable itself. While this variability narrows with larger populations, it's still there, and there are a few variables that cannot be reconstructed at all\n",
    "\n",
    "One possibility is that the least reliable variables are the worst reconstructed. Let's look at that..."
   ]
  },
  {
   "cell_type": "markdown",
   "metadata": {},
   "source": [
    "##### Reconstruction score vs. Reliability"
   ]
  },
  {
   "cell_type": "code",
   "execution_count": null,
   "metadata": {},
   "outputs": [],
   "source": [
    "retest_index = [i.replace('.logTr','').replace('.ReflogTr','') for i in k_reconstruction['var'].unique()]\n",
    "retest_vals = retest_data.loc[retest_index,'icc']\n",
    "sns.set_context('talk')\n",
    "f, axes = plt.subplots(1,2,figsize=(14,6))\n",
    "for i, pop_size in enumerate(pop_sizes):\n",
    "    reconstruction = k_best_reconstruction.query('pop_size == %s' % pop_size) \\\n",
    "                                     .groupby('var')['corr_score'].agg(['mean','std'])\n",
    "    sns.regplot(retest_vals, reconstruction['mean'], 'o', label=pop_size, ax=axes[0], color=colors[i])\n",
    "    sns.regplot(retest_vals, reconstruction['std'], 'o', label=pop_size, ax=axes[1], color=colors[i])\n",
    "axes[1].legend()\n",
    "plt.suptitle('Reliability vs Reconstruction Score Mean/Std')\n",
    "plt.subplots_adjust(wspace=.3)"
   ]
  },
  {
   "cell_type": "markdown",
   "metadata": {},
   "source": [
    "We can dive in and look at one high/mediun/low reliable variable to see the reconstruction performance"
   ]
  },
  {
   "cell_type": "code",
   "execution_count": null,
   "metadata": {},
   "outputs": [],
   "source": [
    "sorted_retest_vals = retest_vals.sort_values().index\n",
    "N = len(sorted_retest_vals)\n",
    "high_var = sorted_retest_vals[N-1]\n",
    "med_var = sorted_retest_vals[N//2]\n",
    "low_var = sorted_retest_vals[0]"
   ]
  },
  {
   "cell_type": "code",
   "execution_count": null,
   "metadata": {},
   "outputs": [],
   "source": [
    "f, axes = plt.subplots(1,3, figsize=(20,8))\n",
    "for ax, var in zip(axes, [high_var, med_var, low_var]):\n",
    "    retest_in = var.replace('.logTr','').replace('.ReflogTr','')\n",
    "    reliability = format_num(retest_data.loc[retest_in]['icc'])\n",
    "    plot_df = k_best_reconstruction.query('var == \"%s\" and label==\"partial_reconstruct\"' % var)\n",
    "    sns.boxplot(x='pop_size', y='corr_score', data=plot_df,  ax=ax)\n",
    "    ax.set_title('%s\\nICC: %s' % (var, reliability))\n",
    "plt.subplots_adjust(wspace=.6)"
   ]
  },
  {
   "cell_type": "markdown",
   "metadata": {},
   "source": [
    "So that doesn't seem to be the problem. Instead, what might be important is the DVs actual relationship to the ontology. That is, some DVs are better captured by the ontology to begin with. Maybe DVs \"peripheral\" to this particular ontology (not well captured by the space) are poorly reconstructed.\n",
    "\n",
    "We can look at this by looking at the relationship between communality and DV reconstruction"
   ]
  },
  {
   "cell_type": "markdown",
   "metadata": {},
   "source": [
    "##### Reconstruction Score vs Communality"
   ]
  },
  {
   "cell_type": "code",
   "execution_count": null,
   "metadata": {},
   "outputs": [],
   "source": [
    "communality = get_communality(results.EFA)\n",
    "sns.set_context('talk')\n",
    "f, axes = plt.subplots(1,2,figsize=(14,6))\n",
    "colors = sns.color_palette(n_colors = len(pop_sizes))\n",
    "for i, pop_size in enumerate(pop_sizes):\n",
    "    reconstruction = k_best_reconstruction.query('pop_size == %s' % pop_size) \\\n",
    "                                     .groupby('var')['corr_score'].agg(['mean','std'])\n",
    "    sns.regplot(communality, reconstruction['mean'], 'o', label=pop_size, ax=axes[0], color=colors[i])\n",
    "    sns.regplot(communality, reconstruction['std'], 'o', label=pop_size, ax=axes[1], color=colors[i])\n",
    "axes[1].legend()\n",
    "plt.suptitle('Communality vs Reconstruction Score Mean/Std')\n",
    "plt.subplots_adjust(wspace=.3)"
   ]
  },
  {
   "cell_type": "markdown",
   "metadata": {},
   "source": [
    "It seems clear that DVs with poor communality are not reconstructed well. A less \"analysis based\" way to think about this is reconstruction will be worse if you are far away from the other variables in the set."
   ]
  },
  {
   "cell_type": "markdown",
   "metadata": {},
   "source": [
    "##### Reconstruction Score vs Average Correlation"
   ]
  },
  {
   "cell_type": "code",
   "execution_count": null,
   "metadata": {},
   "outputs": [],
   "source": [
    "avg_corr = results.data.corr().replace(1,0).mean()\n",
    "avg_corr.name = \"Average Correlation\"\n",
    "sns.set_context('talk')\n",
    "f, axes = plt.subplots(1,2,figsize=(14,6))\n",
    "colors = sns.color_palette(n_colors = len(pop_sizes))\n",
    "for i, pop_size in enumerate(pop_sizes):\n",
    "    reconstruction = k_best_reconstruction.query('pop_size == %s' % pop_size) \\\n",
    "                                     .groupby('var')['corr_score'].agg(['mean','std'])\n",
    "    sns.regplot(avg_corr, reconstruction['mean'], 'o', label=pop_size, ax=axes[0], color=colors[i])\n",
    "    sns.regplot(avg_corr, reconstruction['std'], 'o', label=pop_size, ax=axes[1], color=colors[i])\n",
    "axes[1].legend()\n",
    "plt.suptitle('Average Correlation vs Reconstruction Score Mean/Std')\n",
    "plt.subplots_adjust(wspace=.3)"
   ]
  },
  {
   "cell_type": "markdown",
   "metadata": {},
   "source": [
    "It seems that the correlation with the overall dataset is important for reconstruction. All of this says that ontological mapping will be more successful if you have an a-priori reason to believe your new variable has something to do with the rest of the variables in the ontology. The weaker you believe that bond, the more data you should collect to articulate the connection"
   ]
  },
  {
   "cell_type": "markdown",
   "metadata": {},
   "source": [
    "#### Visualization of Variability"
   ]
  },
  {
   "cell_type": "markdown",
   "metadata": {},
   "source": [
    "##### Visualizing each factor's reconstruction separately"
   ]
  },
  {
   "cell_type": "code",
   "execution_count": null,
   "metadata": {},
   "outputs": [],
   "source": [
    "plot_factor_reconstructions(k_best_reconstruction, size=10)"
   ]
  },
  {
   "cell_type": "markdown",
   "metadata": {},
   "source": [
    "##### Using TSNE"
   ]
  },
  {
   "cell_type": "markdown",
   "metadata": {},
   "source": [
    "More complicate, we can visualize this by looking at the MDS plotting:\n",
    "1. The original DVs\n",
    "2. The \"best\" reconstruction using all the data\n",
    "3. The n_reps simulated estimates with a smaller population size"
   ]
  },
  {
   "cell_type": "code",
   "execution_count": null,
   "metadata": {},
   "outputs": [],
   "source": [
    "def plot_reconstruction_2D(reconstructions, n_reps=None, \n",
    "                           reducer = TSNE(2, metric='precomputed'),\n",
    "                           n_colored=5, title=None, size=12, \n",
    "                           filename=None, dpi=300):\n",
    "    if n_reps is None:\n",
    "        n_reps = reconstructions.rep.max()\n",
    "    reconstructions = reconstructions.query('label != \"full_reconstruct\" \\\n",
    "                                            and rep<=%s' % n_reps)\n",
    "    var_list = reconstructions['var'].unique()\n",
    "    pop_sizes = sorted(reconstructions.pop_size.dropna().unique())\n",
    "    c = reconstructions.columns.get_loc('var') \n",
    "    # create reduced representation\n",
    "    reduced = []\n",
    "    for pop_size in pop_sizes:\n",
    "        subset = reconstructions.query('label==\"true\" or pop_size == %s'% pop_size)\n",
    "        subset = subset.iloc[:, :c]\n",
    "        distances = squareform(pdist(subset, metric='correlation'))\n",
    "        reduced.append(reducer.fit_transform(distances))\n",
    "        \n",
    "    # get colors\n",
    "    tmp_subset = plot_df.query('label==\"true\" or pop_size == %s'% pop_sizes[-1]).reset_index(drop=True)\n",
    "    colored_vars = np.random.choice(var_list, size=n_colored, replace=False)\n",
    "    base_colors = sns.color_palette(palette='Paired', n_colors=len(colored_vars))\n",
    "    color_map = {k:v for k,v in zip(colored_vars, base_colors)}\n",
    "    colored_indices = tmp_subset[tmp_subset['var'].isin(colored_vars)].index\n",
    "    color_list = list(tmp_subset.loc[colored_indices,'var'].apply(lambda x: color_map[x]))\n",
    "    colored_sizes = [300 if x=='true' else 75 for x in tmp_subset.loc[colored_indices,'label']]\n",
    "    uncolored_indices = list(set(tmp_subset.index) - set(colored_indices))\n",
    "    \n",
    "    N_pop = len(pop_sizes)\n",
    "    f,axes = plt.subplots(N_pop,1,figsize=(12,12*N_pop))\n",
    "    for ax, reduced, pop_size in zip(axes, reduced, pop_sizes):\n",
    "        ax.scatter(reduced[uncolored_indices,0], reduced[uncolored_indices,1], s=10, c=[.5,.5,.5])\n",
    "        ax.scatter(reduced[colored_indices,0], reduced[colored_indices,1], s=colored_sizes,\n",
    "                   c=color_list, edgecolor='black', linewidth=2)\n",
    "        ax.set_title('Pseudo-Population Size: %s' % pop_size)\n",
    "\n",
    "    if title:\n",
    "        f.suptitle(title, y=1.15, size=size*1.75)\n",
    "    if filename is not None:\n",
    "        save_figure(f, filename, {'bbox_inches': 'tight', 'dpi': dpi})\n",
    "        plt.close()"
   ]
  },
  {
   "cell_type": "code",
   "execution_count": null,
   "metadata": {},
   "outputs": [],
   "source": [
    "plot_reconstruction_2D(k_best_reconstruction, n_reps=20)"
   ]
  },
  {
   "cell_type": "code",
   "execution_count": null,
   "metadata": {},
   "outputs": [],
   "source": []
  },
  {
   "cell_type": "markdown",
   "metadata": {},
   "source": [
    "### Save Visualizations"
   ]
  },
  {
   "cell_type": "code",
   "execution_count": null,
   "metadata": {},
   "outputs": [],
   "source": [
    "reconstructions = linear_reconstructions.copy()\n",
    "reconstructions.update({'KNN': k_best_reconstruction})"
   ]
  },
  {
   "cell_type": "code",
   "execution_count": null,
   "metadata": {},
   "outputs": [],
   "source": [
    "for name, reconstruction in reconstructions.items():\n",
    "    plot_reconstruction_hist(reconstruction, title='KNN Reconstruction', size=14)\n",
    "    plot_factor_reconstructions(reconstruction, size=10)"
   ]
  }
 ],
 "metadata": {
  "kernelspec": {
   "display_name": "Python 3",
   "language": "python",
   "name": "python3"
  },
  "language_info": {
   "codemirror_mode": {
    "name": "ipython",
    "version": 3
   },
   "file_extension": ".py",
   "mimetype": "text/x-python",
   "name": "python",
   "nbconvert_exporter": "python",
   "pygments_lexer": "ipython3",
   "version": "3.5.3"
  }
 },
 "nbformat": 4,
 "nbformat_minor": 2
}
