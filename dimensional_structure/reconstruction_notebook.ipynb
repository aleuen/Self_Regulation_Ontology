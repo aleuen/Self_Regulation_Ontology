{
 "cells": [
  {
   "cell_type": "markdown",
   "metadata": {
    "toc-hr-collapsed": false
   },
   "source": [
    "# Reconstructing out-of-sample DVs\n",
    "\n",
    "Given a quantitative ontology, or psychological space, that DVs can be projected into, how can we deterine the embedding of new variables?\n",
    "\n",
    "Currently, our embedding is determined by factor analysis. Thus ontological embedding are only known for the DVs entered into the original model. How could we extend this?\n",
    "\n",
    "One possibility is measuring new variables in the same population that completed our original battery. After doing this we could either (1) run the model anew, or (2) use linear regression to map the already discovered factors onto the new variables. The former is better, but results in small changes to the actual factors with each new variable. The latter method ensures that our factors stay the same. Neither is scalable, however, as we do not, in general, have access to a constant population that can be remeasured whenever new measures come into the picture.\n",
    "\n",
    "Another possibility that works with new populations requires that the new population completes the entire battery used to estimate the original factors, in addition to whatever new variables are of interest. Doing so allows the calculation of factor scores for this new population based on the original model, which can then be mapped to the new measures of interest. This allows researchers to capitalize on the original model (presumably fit on more subjects than the new study), while expanding the ontology. Problems exist here, however.\n",
    "- The most obvious problem is that you have to measure the new sample on the entire battery used to fit the original EFA model. Given that this takes many hours (the exact number depending on whether tasks, surveys or both are used), this is exceedingly impractical. In our cas we did have our new fMRI sample take the entire battery (or at least a subset of participants), so this problem isn't as relevant\n",
    "- Still problems remain. If N is small, the estimate of the ontological embedding for new DVs is likely unstable.\n",
    "\n",
    "This latter problem necessitates some quantitative exploration. This notebook simulates the issue by:\n",
    "1. Removing a DV from the original ontology dataset\n",
    "2. Performing EFA on this subset\n",
    "3. Using linear regression to map these EFA factors to the left out variable\n",
    "\n",
    "(3) is performed on smaller population sizes to reflect the reality of most studies (including ours) and is repeated to get a sense of the mapping's variability\n",
    "\n",
    "### Small issues not currently addressed\n",
    "\n",
    "- The EFA model is fit on the entire population. An even more stringent simulation would subset the subjects used in the \"new study\" and fit the EFA model on a completely independent group. I tried this once - the factor scores hardly differed. In addition, I want the EFA model to be as well-powered as possible, as that will be the reality for this method moving forward\n",
    "- I am currently not holding out entire tasks, but only specific DVs"
   ]
  },
  {
   "cell_type": "code",
   "execution_count": 1,
   "metadata": {},
   "outputs": [
    {
     "name": "stderr",
     "output_type": "stream",
     "text": [
      "/media/Data/Ian/miniconda/envs/SRO/lib/python3.5/site-packages/sklearn/ensemble/weight_boosting.py:29: DeprecationWarning: numpy.core.umath_tests is an internal NumPy module and should not be imported. It will be removed in a future NumPy release.\n",
      "  from numpy.core.umath_tests import inner1d\n",
      "Using TensorFlow backend.\n"
     ]
    }
   ],
   "source": [
    "import argparse\n",
    "import numpy as np\n",
    "from os import makedirs, path\n",
    "import pandas as pd\n",
    "import pickle\n",
    "from sklearn.linear_model import LinearRegression, Ridge, Lasso\n",
    "\n",
    "from dimensional_structure.reconstruction_utils import (get_reconstruction_results, \n",
    "                                                        k_nearest_reconstruction, \n",
    "                                                        linear_weighted_reconstruction)\n",
    "from selfregulation.utils.plot_utils import format_num\n",
    "from selfregulation.utils.result_utils import load_results\n",
    "from selfregulation.utils.utils import get_recent_dataset, get_info, get_retest_data"
   ]
  },
  {
   "cell_type": "code",
   "execution_count": 2,
   "metadata": {},
   "outputs": [],
   "source": [
    "# argparse\n",
    "if __name__ == '__main__':\n",
    "    parser = argparse.ArgumentParser()\n",
    "    parser.add_argument('-pop_sizes', nargs='+', default=[50, 100, 400], type=int)\n",
    "    parser.add_argument('-n_reps', default=100)\n",
    "    parser.add_argument('-n_measures', default=None, type=int)\n",
    "    parser.add_argument('-dataset', default=None)\n",
    "    parser.add_argument('-rerun', default=False)\n",
    "    args, _ = parser.parse_known_args()\n",
    "    pop_sizes = args.pop_sizes\n",
    "    n_reps = args.n_reps\n",
    "    n_measures = args.n_measures\n",
    "    rerun = args.rerun\n",
    "    if args.dataset is not None:\n",
    "        dataset = args.dataset\n",
    "    else:\n",
    "        dataset = get_recent_dataset()"
   ]
  },
  {
   "cell_type": "code",
   "execution_count": 3,
   "metadata": {},
   "outputs": [
    {
     "name": "stderr",
     "output_type": "stream",
     "text": [
      "/media/Data/Ian/miniconda/envs/SRO/lib/python3.5/site-packages/IPython/core/interactiveshell.py:2862: DtypeWarning: Columns (1,3,4,5,6,7,8,9,10,11,12,13,14,15,16,17) have mixed types. Specify dtype option on import or set low_memory=False.\n",
      "  exec(code_obj, self.user_global_ns, self.user_ns)\n"
     ]
    }
   ],
   "source": [
    "# additional setup\n",
    "np.random.seed(12412)\n",
    "results = load_results(dataset)['task']\n",
    "retest_data = get_retest_data(dataset.replace('Complete', 'Retest'))\n",
    "c = results.EFA.results['num_factors']\n",
    "\n",
    "classifiers = {'Ridge': Ridge(fit_intercept=False),\n",
    "               'LR': LinearRegression(fit_intercept=False)}\n",
    "# get output dir to store results\n",
    "output_dir = path.join(get_info('results_directory'),\n",
    "                       'ontology_reconstruction', results.ID)\n",
    "makedirs(output_dir, exist_ok=True)"
   ]
  },
  {
   "cell_type": "code",
   "execution_count": null,
   "metadata": {},
   "outputs": [],
   "source": [
    "# get a random subset of variables to perform the calculation on if n_vars is set\n",
    "measures = np.unique(['^'+i.split('.')[0] for i in results.data.columns])\n",
    "if n_measures is not None:\n",
    "    measure_list = np.random.choice(measures, n_measures, replace=False)\n",
    "else:\n",
    "    measure_list = measures\n",
    "# get all variables from selected tasks\n",
    "var_list = results.data.filter(regex='|'.join(measure_list)).columns"
   ]
  },
  {
   "cell_type": "markdown",
   "metadata": {},
   "source": [
    "Run simulation for every variable at different population sizes. \n",
    "\n",
    "That is, do the following:\n",
    "\n",
    "1. take a variable (say stroop incongruent-congruent RT), remove it from the data matrix\n",
    "2. Run EFA on the data matrix composes of the 522 (subject) x N-1 (variable) data matrix\n",
    "3. Calculate factor scores for all 522 subjects\n",
    "4. Select a subset of \"pop_size\" to do an \"ontological mapping\". That is, pretend that these subjects did the whole battery (missing the one variable) *and then* completed one more task. The idea is we want to do a mapping from those subject's factor scores to the new variable\n",
    "   1. We can do a linear mapping (regression) from the ontological scores to the output variable\n",
    "   2. We can do a k-nearest neighbor interpolation, where we say the unknown ontological factor is a blend of the \"nearest\" variables in the dataset\n",
    "5. Repeat (4) a number of times to get a sense for the accuracy and variability of that mapping\n",
    "6. Compare the estimated ontological scores for the held out var (stroop incongruent-congruent) to the original \"correct\" ontological mapping (that would have been obtained if the variable was included in the original data matrix"
   ]
  },
  {
   "cell_type": "markdown",
   "metadata": {},
   "source": [
    "## Perform reconstruction"
   ]
  },
  {
   "cell_type": "markdown",
   "metadata": {},
   "source": [
    "### K Nearest Neighbor Reconstruction"
   ]
  },
  {
   "cell_type": "code",
   "execution_count": null,
   "metadata": {},
   "outputs": [
    {
     "name": "stdout",
     "output_type": "stream",
     "text": [
      "*******************************************************************************\n",
      "Starting K Nearest reconstruction, measures: ['adaptive_n_back.hddm_drift', 'adaptive_n_back.hddm_drift_load', 'adaptive_n_back.hddm_non_decision', 'adaptive_n_back.hddm_thresh', 'adaptive_n_back.mean_load']\n",
      "*******************************************************************************\n",
      "Starting full reconstruction\n",
      "Starting partial reconstruction, pop size: 50\n",
      "Rep 0\n",
      "*******************************************************************************\n",
      "Starting K Nearest reconstruction, measures: ['angling_risk_task_always_sunny.keep_adjusted_clicks', 'angling_risk_task_always_sunny.keep_coef_of_variation', 'angling_risk_task_always_sunny.release_adjusted_clicks', 'angling_risk_task_always_sunny.release_coef_of_variation']\n",
      "*******************************************************************************\n",
      "Starting full reconstruction\n",
      "Starting partial reconstruction, pop size: 50\n",
      "Rep 0\n",
      "*******************************************************************************\n",
      "Starting K Nearest reconstruction, measures: ['attention_network_task.alerting_hddm_drift', 'attention_network_task.conflict_hddm_drift', 'attention_network_task.hddm_drift', 'attention_network_task.hddm_non_decision', 'attention_network_task.hddm_thresh', 'attention_network_task.orienting_hddm_drift']\n",
      "*******************************************************************************\n",
      "Starting full reconstruction\n",
      "Starting partial reconstruction, pop size: 50\n",
      "Rep 0\n",
      "*******************************************************************************\n",
      "Starting K Nearest reconstruction, measures: ['bickel_titrator.hyp_discount_rate_large.logTr', 'bickel_titrator.hyp_discount_rate_medium.logTr']\n",
      "*******************************************************************************\n",
      "Starting full reconstruction\n",
      "Starting partial reconstruction, pop size: 50\n",
      "Rep 0\n",
      "*******************************************************************************\n",
      "Starting K Nearest reconstruction, measures: ['choice_reaction_time.hddm_drift', 'choice_reaction_time.hddm_non_decision', 'choice_reaction_time.hddm_thresh']\n",
      "*******************************************************************************\n",
      "Starting full reconstruction\n",
      "Starting partial reconstruction, pop size: 50\n",
      "Rep 0\n",
      "*******************************************************************************\n",
      "Starting K Nearest reconstruction, measures: ['cognitive_reflection_survey.correct_proportion', 'cognitive_reflection_survey.intuitive_proportion']\n",
      "*******************************************************************************\n",
      "Starting full reconstruction\n",
      "Starting partial reconstruction, pop size: 50\n",
      "Rep 0\n",
      "*******************************************************************************\n",
      "Starting K Nearest reconstruction, measures: ['columbia_card_task_cold.avg_cards_chosen', 'columbia_card_task_cold.gain_sensitivity', 'columbia_card_task_cold.information_use', 'columbia_card_task_cold.loss_sensitivity', 'columbia_card_task_cold.probability_sensitivity']\n",
      "*******************************************************************************\n",
      "Starting full reconstruction\n",
      "Starting partial reconstruction, pop size: 50\n",
      "Rep 0\n",
      "*******************************************************************************\n",
      "Starting K Nearest reconstruction, measures: ['columbia_card_task_hot.avg_cards_chosen', 'columbia_card_task_hot.gain_sensitivity', 'columbia_card_task_hot.information_use', 'columbia_card_task_hot.loss_sensitivity', 'columbia_card_task_hot.probability_sensitivity']\n",
      "*******************************************************************************\n",
      "Starting full reconstruction\n",
      "Starting partial reconstruction, pop size: 50\n",
      "Rep 0\n",
      "*******************************************************************************\n",
      "Starting K Nearest reconstruction, measures: ['dietary_decision.health_sensitivity', 'dietary_decision.taste_sensitivity']\n",
      "*******************************************************************************\n",
      "Starting full reconstruction\n",
      "Starting partial reconstruction, pop size: 50\n",
      "Rep 0\n",
      "*******************************************************************************\n",
      "Starting K Nearest reconstruction, measures: ['digit_span.forward_span', 'digit_span.reverse_span']\n",
      "*******************************************************************************\n",
      "Starting full reconstruction\n",
      "Starting partial reconstruction, pop size: 50\n",
      "Rep 0\n",
      "*******************************************************************************\n",
      "Starting K Nearest reconstruction, measures: ['directed_forgetting.hddm_drift', 'directed_forgetting.hddm_non_decision', 'directed_forgetting.hddm_thresh', 'directed_forgetting.proactive_interference_hddm_drift']\n",
      "*******************************************************************************\n",
      "Starting full reconstruction\n",
      "Starting partial reconstruction, pop size: 50\n",
      "Rep 0\n",
      "*******************************************************************************\n",
      "Starting K Nearest reconstruction, measures: ['discount_titrate.percent_patient']\n",
      "*******************************************************************************\n",
      "Starting full reconstruction\n",
      "Starting partial reconstruction, pop size: 50\n",
      "Rep 0\n",
      "*******************************************************************************\n",
      "Starting K Nearest reconstruction, measures: ['dot_pattern_expectancy.AY-BY_hddm_drift', 'dot_pattern_expectancy.BX-BY_hddm_drift', 'dot_pattern_expectancy.bias', 'dot_pattern_expectancy.dprime', 'dot_pattern_expectancy.hddm_drift', 'dot_pattern_expectancy.hddm_non_decision', 'dot_pattern_expectancy.hddm_thresh']\n",
      "*******************************************************************************\n",
      "Starting full reconstruction\n",
      "Starting partial reconstruction, pop size: 50\n",
      "Rep 0\n",
      "*******************************************************************************\n",
      "Starting K Nearest reconstruction, measures: ['go_nogo.bias', 'go_nogo.dprime']\n",
      "*******************************************************************************\n",
      "Starting full reconstruction\n",
      "Starting partial reconstruction, pop size: 50\n",
      "Rep 0\n",
      "*******************************************************************************\n",
      "Starting K Nearest reconstruction, measures: ['hierarchical_rule.score']\n",
      "*******************************************************************************\n",
      "Starting full reconstruction\n",
      "Starting partial reconstruction, pop size: 50\n",
      "Rep 0\n",
      "*******************************************************************************\n",
      "Starting K Nearest reconstruction, measures: ['holt_laury_survey.beta', 'holt_laury_survey.risk_aversion', 'holt_laury_survey.safe_choices']\n",
      "*******************************************************************************\n",
      "Starting full reconstruction\n",
      "Starting partial reconstruction, pop size: 50\n",
      "Rep 0\n",
      "*******************************************************************************\n",
      "Starting K Nearest reconstruction, measures: ['information_sampling_task.Decreasing_Win_P_correct', 'information_sampling_task.Decreasing_Win_motivation', 'information_sampling_task.Fixed_Win_P_correct', 'information_sampling_task.Fixed_Win_motivation']\n",
      "*******************************************************************************\n",
      "Starting full reconstruction\n",
      "Starting partial reconstruction, pop size: 50\n",
      "Rep 0\n",
      "*******************************************************************************\n",
      "Starting K Nearest reconstruction, measures: ['keep_track.score']\n",
      "*******************************************************************************\n",
      "Starting full reconstruction\n",
      "Starting partial reconstruction, pop size: 50\n",
      "Rep 0\n",
      "*******************************************************************************\n",
      "Starting K Nearest reconstruction, measures: ['kirby.hyp_discount_rate_large.logTr', 'kirby.hyp_discount_rate_medium.logTr', 'kirby.hyp_discount_rate_small.logTr', 'kirby.percent_patient']\n",
      "*******************************************************************************\n",
      "Starting full reconstruction\n",
      "Starting partial reconstruction, pop size: 50\n",
      "Rep 0\n",
      "*******************************************************************************\n",
      "Starting K Nearest reconstruction, measures: ['local_global_letter.conflict_hddm_drift', 'local_global_letter.global_bias_hddm_drift', 'local_global_letter.hddm_drift', 'local_global_letter.hddm_non_decision', 'local_global_letter.hddm_thresh', 'local_global_letter.switch_cost_hddm_drift']\n",
      "*******************************************************************************\n",
      "Starting full reconstruction\n",
      "Starting partial reconstruction, pop size: 50\n",
      "Rep 0\n",
      "*******************************************************************************\n",
      "Starting K Nearest reconstruction, measures: ['motor_selective_stop_signal.SSRT', 'motor_selective_stop_signal.hddm_drift', 'motor_selective_stop_signal.hddm_non_decision', 'motor_selective_stop_signal.hddm_thresh', 'motor_selective_stop_signal.proactive_control_hddm_drift', 'motor_selective_stop_signal.reactive_control_hddm_drift']\n",
      "*******************************************************************************\n",
      "Starting full reconstruction\n",
      "Starting partial reconstruction, pop size: 50\n",
      "Rep 0\n"
     ]
    }
   ],
   "source": [
    "k_list = list(range(1,20))\n",
    "filename = path.join(output_dir, 'k_reconstruct.pkl')\n",
    "if not path.exists(filename) or rerun:\n",
    "    k_reconstruction=get_reconstruction_results(results, measure_list, pop_sizes, \n",
    "                                                n_reps=n_reps, \n",
    "                                                recon_fun=k_nearest_reconstruction, \n",
    "                                                k_list=k_list)\n",
    "    k_reconstruction.to_pickle(filename)\n",
    "else:\n",
    "    k_reconstruction = pd.read_pickle(filename)"
   ]
  },
  {
   "cell_type": "code",
   "execution_count": null,
   "metadata": {},
   "outputs": [],
   "source": [
    "summary = k_reconstruction.query('label==\"partial_reconstruct\"') \\\n",
    "                .groupby(['pop_size', 'k', 'weighted'])['corr_score'].agg([np.mean, np.std])"
   ]
  },
  {
   "cell_type": "code",
   "execution_count": null,
   "metadata": {},
   "outputs": [],
   "source": [
    "# summarize further\n",
    "k_best_params = {}\n",
    "for pop_size in pop_sizes:\n",
    "    tmp=summary.query('pop_size == %s' % pop_size)\n",
    "    best_params = tmp.loc[:,'mean'].idxmax()\n",
    "    best_val = tmp.loc[best_params,'mean']\n",
    "    k_best_params[pop_size] = {'k': best_params[1], \n",
    "                               'weighted': bool(best_params[2]),\n",
    "                               'best_val': best_val}"
   ]
  },
  {
   "cell_type": "code",
   "execution_count": null,
   "metadata": {},
   "outputs": [],
   "source": [
    "k_best_reconstruction = pd.DataFrame()\n",
    "for k, v in k_best_params.items():\n",
    "    tmp = k_reconstruction.query('pop_size == %s and \\\n",
    "                                 k == %s and \\\n",
    "                                 weighted == %s' % (k, v['k'], v['weighted']))\n",
    "    k_best_reconstruction = pd.concat([k_best_reconstruction, tmp], axis=0)\n",
    "k_best_reconstruction.groupby('pop_size')['corr_score'].agg(['mean','std'])"
   ]
  },
  {
   "cell_type": "markdown",
   "metadata": {},
   "source": [
    "### Linear Weighted Reconstruction"
   ]
  },
  {
   "cell_type": "code",
   "execution_count": null,
   "metadata": {},
   "outputs": [],
   "source": [
    "weight_functions = [('Lasso', Lasso(fit_intercept=False)),\n",
    "                    ('Ridge', Ridge(fit_intercept=False))]\n",
    "weighted_reconstructions = {}\n",
    "for name, clf in weight_functions:\n",
    "    filename = path.join(output_dir, '%s_weighted_reconstruct.pkl' % name)\n",
    "    if not path.exists(filename) or rerun:\n",
    "        tmp_reconstruction=get_reconstruction_results(results, measure_list, pop_sizes, \n",
    "                                                      n_reps=n_reps, \n",
    "                                                      recon_fun=linear_weighted_reconstruction,\n",
    "                                                      clf=clf)\n",
    "        tmp_reconstruction.to_pickle(filename)\n",
    "    else:\n",
    "        tmp_reconstruction = pd.read_pickle(filename)\n",
    "    weighted_reconstructions[name] = tmp_reconstruction"
   ]
  },
  {
   "cell_type": "markdown",
   "metadata": {},
   "source": [
    "### Linear Reconstruction"
   ]
  },
  {
   "cell_type": "code",
   "execution_count": null,
   "metadata": {},
   "outputs": [],
   "source": [
    "linear_reconstructions = {}\n",
    "for name, clf in classifiers.items():\n",
    "    for robust in [True, False]:\n",
    "        out=get_reconstruction_results(results, measure_list, pop_sizes, n_reps=n_reps, clf=clf, robust=robust)\n",
    "        filename = path.join(output_dir, 'linearreconstruct_clf-%s_robust-%s.pkl' % (name, str(robust)))\n",
    "        out.to_pickle(filename)\n",
    "        robust_str = '_robust' if robust else ''\n",
    "        linear_reconstructions['%s%s' % (name, robust_str)] = out"
   ]
  },
  {
   "cell_type": "code",
   "execution_count": null,
   "metadata": {},
   "outputs": [],
   "source": [
    "# summarize further\n",
    "for name, reconstruction_df in linear_reconstructions.items():\n",
    "    print(name)\n",
    "    print(reconstruction_df.query('label==\"partial_reconstruct\"') \\\n",
    "            .groupby(['pop_size']).agg([np.mean, np.std])[['score-MSE', 'score-corr']])\n",
    "    print('')"
   ]
  },
  {
   "cell_type": "markdown",
   "metadata": {},
   "source": [
    "## Visualization\n",
    "\n",
    "Of concern is the average correspondence and variability between the estimated ontological fingerprint of a DV and its \"ground-truth\" (the original estimate when it was part of the EFA model)\n",
    "\n",
    "One way to look at this is just the average reconstruction score (e.g., for example) and variability of reconstruction score as a function of pseudo-pop-size and model parameters"
   ]
  },
  {
   "cell_type": "code",
   "execution_count": null,
   "metadata": {},
   "outputs": [],
   "source": [
    "%matplotlib inline\n",
    "# import matplotlib.pyplot as plt\n",
    "import matplotlib.pyplot as plt\n",
    "import seaborn as sns\n",
    "from sklearn.manifold import MDS, TSNE\n",
    "from scipy.spatial.distance import pdist, squareform"
   ]
  },
  {
   "cell_type": "markdown",
   "metadata": {},
   "source": [
    "### K Nearest Visualization"
   ]
  },
  {
   "cell_type": "markdown",
   "metadata": {},
   "source": [
    "#### Average Performance by Model Parameters"
   ]
  },
  {
   "cell_type": "code",
   "execution_count": null,
   "metadata": {},
   "outputs": [],
   "source": [
    "sns.set_context('talk')\n",
    "n_cols = 1\n",
    "n_rows = len(pop_sizes)//n_cols\n",
    "f, axes = plt.subplots(n_rows, n_cols, figsize=(12,n_rows*6))\n",
    "axes = f.get_axes()\n",
    "legend_on=True\n",
    "for ax, pop_size in zip(axes, pop_sizes):\n",
    "    sns.boxplot(x='k', y='corr_score', hue='weighted', \n",
    "                data=k_reconstruction.query('pop_size==%s' % pop_size),\n",
    "                ax=ax)\n",
    "    ax.set_title('Simulated Population Size: %s' % pop_size)\n",
    "    ax.set_ylim(-1.1,1.1)\n",
    "    ax.legend().set_visible(legend_on)\n",
    "    legend_on=False\n",
    "plt.subplots_adjust(hspace=.4)"
   ]
  },
  {
   "cell_type": "markdown",
   "metadata": {},
   "source": [
    "#### Performance for each DV by reliability\n",
    "\n",
    "Only taking the best parameters from the k-nearest neighbor algorithm"
   ]
  },
  {
   "cell_type": "code",
   "execution_count": null,
   "metadata": {},
   "outputs": [],
   "source": [
    "retest_index = [i.replace('.logTr','').replace('.ReflogTr','') for i in k_reconstruction['var'].unique()]\n",
    "retest_vals = retest_data.loc[retest_index,'icc']\n",
    "sns.set_context('talk')\n",
    "f, axes = plt.subplots(1,2,figsize=(14,6))\n",
    "colors = sns.color_palette(n_colors = len(pop_sizes))\n",
    "for i, pop_size in enumerate(pop_sizes):\n",
    "    reconstruction = k_best_reconstruction.query('pop_size == %s' % pop_size) \\\n",
    "                                     .groupby('var')['corr_score'].agg(['mean','std'])\n",
    "    sns.regplot(retest_vals, reconstruction['mean'], 'o', label=pop_size, ax=axes[0], color=colors[i])\n",
    "    sns.regplot(retest_vals, reconstruction['std'], 'o', label=pop_size, ax=axes[1], color=colors[i])\n",
    "axes[1].legend()\n",
    "plt.subplots_adjust(wspace=.3)"
   ]
  },
  {
   "cell_type": "markdown",
   "metadata": {},
   "source": [
    "We can dive in and look at one high/mediun/low reliable variable to see the reconstruction performance"
   ]
  },
  {
   "cell_type": "code",
   "execution_count": null,
   "metadata": {},
   "outputs": [],
   "source": [
    "sorted_retest_vals = retest_vals.sort_values().index\n",
    "N = len(sorted_retest_vals)\n",
    "high_var = sorted_retest_vals[N-1]\n",
    "med_var = sorted_retest_vals[N//2]\n",
    "low_var = sorted_retest_vals[0]"
   ]
  },
  {
   "cell_type": "code",
   "execution_count": null,
   "metadata": {},
   "outputs": [],
   "source": [
    "f, axes = plt.subplots(1,3, figsize=(20,8))\n",
    "for ax, var in zip(axes, [high_var, med_var, low_var]):\n",
    "    retest_in = var.replace('.logTr','').replace('.ReflogTr','')\n",
    "    reliability = format_num(retest_data.loc[retest_in]['icc'])\n",
    "    plot_df = k_best_reconstruction.query('var == \"%s\" and label==\"partial_reconstruct\"' % var)\n",
    "    sns.boxplot(x='pop_size', y='corr_score', data=plot_df,  ax=ax)\n",
    "    ax.set_title('%s\\nICC: %s' % (var, reliability))\n",
    "plt.subplots_adjust(wspace=.6)"
   ]
  },
  {
   "cell_type": "markdown",
   "metadata": {},
   "source": [
    "More complicate, we can visualize this by looking at the MDS plotting:\n",
    "1. The original DVs\n",
    "2. The \"best\" reconstruction using all the data\n",
    "3. The n_reps simulated estimates with a smaller population size"
   ]
  },
  {
   "cell_type": "code",
   "execution_count": null,
   "metadata": {},
   "outputs": [],
   "source": [
    "plot_df = pd.concat([k_best_reconstruction,\n",
    "                    k_reconstruction.query('label==\"true\"')]).reset_index(drop=True)"
   ]
  },
  {
   "cell_type": "code",
   "execution_count": null,
   "metadata": {},
   "outputs": [],
   "source": [
    "# MDS\n",
    "mds_reduced = []\n",
    "tsne_reduced = []\n",
    "for pop_size in pop_sizes:\n",
    "    mds = MDS(2, dissimilarity='precomputed')\n",
    "    tsne = TSNE(2, metric='precomputed')\n",
    "    subset = plot_df.query('label==\"true\" or pop_size == %s'% pop_size)\n",
    "    reconstructions = subset.iloc[:, :c]\n",
    "    distances = squareform(pdist(reconstructions, metric='correlation'))\n",
    "    mds_reduced.append(mds.fit_transform(distances)) # taking too long\n",
    "    tsne_reduced.append(tsne.fit_transform(1-reconstructions.T.corr()))"
   ]
  },
  {
   "cell_type": "code",
   "execution_count": null,
   "metadata": {},
   "outputs": [],
   "source": [
    "tmp_subset = plot_df.query('label==\"true\" or pop_size == %s'% pop_sizes[-1]).reset_index(drop=True)\n",
    "colored_vars = np.random.choice(var_list, size=10, replace=False)\n",
    "base_colors = sns.color_palette(palette='Paired', n_colors=len(colored_vars))\n",
    "color_map = {k:v for k,v in zip(colored_vars, base_colors)}\n",
    "colored_indices = tmp_subset[tmp_subset['var'].isin(colored_vars)].index\n",
    "color_list = list(tmp_subset.loc[colored_indices,'var'].apply(lambda x: color_map[x]))\n",
    "colored_sizes = [200 if x=='true' else 75 for x in tmp_subset.loc[colored_indices,'label']]\n",
    "uncolored_indices = list(set(tmp_subset.index) - set(colored_indices))"
   ]
  },
  {
   "cell_type": "code",
   "execution_count": null,
   "metadata": {},
   "outputs": [],
   "source": [
    "N_pop = len(pop_sizes)\n",
    "f,axes = plt.subplots(N_pop,1,figsize=(12,12*N_pop))\n",
    "for ax, reduced, pop_size in zip(axes, tsne_reduced, pop_sizes):\n",
    "    ax.scatter(reduced[uncolored_indices,0], reduced[uncolored_indices,1], s=10, c=[.5,.5,.5])\n",
    "    ax.scatter(reduced[colored_indices,0], reduced[colored_indices,1], s=colored_sizes,\n",
    "               c=color_list, edgecolor='black', linewidth=2)\n",
    "    ax.set_title('Pseudo-Population Size: %s' % pop_size)"
   ]
  },
  {
   "cell_type": "code",
   "execution_count": null,
   "metadata": {},
   "outputs": [],
   "source": []
  }
 ],
 "metadata": {
  "kernelspec": {
   "display_name": "Python 3",
   "language": "python",
   "name": "python3"
  },
  "language_info": {
   "codemirror_mode": {
    "name": "ipython",
    "version": 3
   },
   "file_extension": ".py",
   "mimetype": "text/x-python",
   "name": "python",
   "nbconvert_exporter": "python",
   "pygments_lexer": "ipython3",
   "version": "3.5.3"
  }
 },
 "nbformat": 4,
 "nbformat_minor": 2
}
