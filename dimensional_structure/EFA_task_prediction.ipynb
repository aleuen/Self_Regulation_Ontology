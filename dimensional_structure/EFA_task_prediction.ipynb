{
 "cells": [
  {
   "cell_type": "code",
   "execution_count": 125,
   "metadata": {
    "collapsed": false
   },
   "outputs": [],
   "source": [
    "import numpy as np\n",
    "import pandas as pd\n",
    "from matplotlib import pyplot as plt\n",
    "import seaborn as sns\n",
    "from selfregulation.utils.utils import get_behav_data\n",
    "from sklearn.linear_model import ElasticNet, LinearRegression, Ridge\n",
    "from sklearn.preprocessing import StandardScaler\n",
    "from sklearn.decomposition import FactorAnalysis, PCA\n",
    "from sklearn.model_selection import KFold, cross_val_predict, cross_val_score\n",
    "from sklearn.pipeline import make_pipeline\n",
    "from fancyimpute import SoftImpute\n",
    "% matplotlib inline"
   ]
  },
  {
   "cell_type": "markdown",
   "metadata": {},
   "source": [
    "### Define Helper functions\n"
   ]
  },
  {
   "cell_type": "code",
   "execution_count": 13,
   "metadata": {
    "collapsed": true
   },
   "outputs": [],
   "source": [
    "# using for speed, for the time being\n",
    "def SoftImpute_df(data):\n",
    "    imputed_mat = SoftImpute(verbose=False).complete(data)\n",
    "    return pd.DataFrame(data=imputed_mat, columns=data.columns, index=data.index)\n",
    "\n",
    "def run_FA(n_components,data,cv):\n",
    "    fa=FactorAnalysis(n_components)\n",
    "    scores = []\n",
    "    # cross-validate fit across different train/test splits\n",
    "    for train_index, test_index in cv.split(data.values):\n",
    "        data_train, data_test = data.iloc[train_index], \\\n",
    "                                data.iloc[test_index]\n",
    "        # Impute (replace with missForest later)\n",
    "        imputed_train = SoftImpute_df(data_train)\n",
    "        imputed_test = SoftImpute_df(data_test)\n",
    "        # Scale data\n",
    "        scaler = StandardScaler()\n",
    "        scaled_train = scaler.fit_transform(imputed_train)\n",
    "        scaled_test = scaler.transform(imputed_test)\n",
    "        # fit model on training\n",
    "        fa.fit(scaled_train)\n",
    "        # score on test set\n",
    "        scores.append(fa.score(scaled_test))\n",
    "    #average score across kfolds\n",
    "    score = np.mean(scores)\n",
    "    return score, fa\n",
    "\n",
    "def find_optimal_components(data, method='sklearn', cv=None):\n",
    "    if method == 'sklearn':\n",
    "        assert cv, \"Must Supply a CV if using sklearn\"\n",
    "        # find best number of components\n",
    "        n_components = range(1,12)\n",
    "        best_c = 0\n",
    "        component_scores = []\n",
    "        for c in n_components:\n",
    "            score, fa = run_FA(c,data,cv)\n",
    "            component_scores.append(score)\n",
    "        best_c = np.argmax(component_scores)+1\n",
    "        print('Best Component: ', best_c)\n",
    "        return best_c, component_scores\n",
    "    elif method == 'psych':\n",
    "        BICs = []\n",
    "        outputs = []\n",
    "        n_components = range(1,12)\n",
    "        scaler = StandardScaler()\n",
    "        scaled_data = scaler.fit_transform(data)\n",
    "        for c in n_components:\n",
    "            fa, output = psychFA(scaled_data, c, method='ml')\n",
    "            BICs.append(output['BIC'])\n",
    "            outputs.append(output)\n",
    "        best_c = np.argmin(BICs)+1\n",
    "        print('Best Component: ', best_c)\n",
    "        return best_c, BICs"
   ]
  },
  {
   "cell_type": "code",
   "execution_count": 128,
   "metadata": {
    "collapsed": true
   },
   "outputs": [],
   "source": [
    "def data_reduce(data, n_components, method=FactorAnalysis):\n",
    "    fa=method(n_components)\n",
    "    # Impute (replace with missForest later)\n",
    "    imputed_data = SoftImpute_df(data)\n",
    "    # Scale data\n",
    "    scaler = StandardScaler()\n",
    "    scaled_data = scaler.fit_transform(imputed_data)\n",
    "    # fit model on subset\n",
    "    transformed_data = fa.fit_transform(scaled_data)\n",
    "    return transformed_data \n",
    "\n",
    "def out_of_task_prediction(data, task=None,n_components=None,verbose=True):\n",
    "    if task is None:\n",
    "        tasks = np.unique([i.split('.')[0] for i in data.columns])\n",
    "        target_task = np.random.choice(tasks)\n",
    "    else:\n",
    "        target_task = task\n",
    "    target = data.filter(regex = '^'+target_task+'\\.')\n",
    "    subset = data.drop(target.columns, axis=1)\n",
    "    if n_components is None:\n",
    "        # find optimal number of dimensions\n",
    "        kf = KFold(n_splits = 4)\n",
    "        n_components, component_scores = find_optimal_components(data,cv=kf)\n",
    "    \n",
    "    FA_transformed_subset = data_reduce(subset, n_components)\n",
    "    PCA_transformed_subset = data_reduce(subset, n_components, method=PCA)\n",
    "    # remove nans\n",
    "    data_rows = target.notnull().all(1).nonzero()[0]\n",
    "    imputed_subset = SoftImpute_df(subset)\n",
    "    imputed_subset = imputed_subset.iloc[data_rows,:]\n",
    "    target = target.iloc[data_rows,:]\n",
    "    FA_transformed_subset = FA_transformed_subset[data_rows,:]\n",
    "    PCA_transformed_subset = PCA_transformed_subset[data_rows,:]\n",
    "    # predict left out task\n",
    "    lr = LinearRegression()\n",
    "    rr = Ridge()\n",
    "    FA_scores = cross_val_score(lr, FA_transformed_subset, target, cv=10)\n",
    "    PCA_scores = cross_val_score(lr, PCA_transformed_subset, target, cv=10)\n",
    "    RR_scores = cross_val_score(rr, imputed_subset, target, cv=10)\n",
    "    if verbose:\n",
    "        print('*'*40)\n",
    "        print('Leaving out task: %s' % target_task)\n",
    "        print(\"FA Accuracy: %0.2f (+/- %0.2f)\" % (FA_scores.mean(), FA_scores.std() * 2))\n",
    "        print(\"PCA Accuracy: %0.2f (+/- %0.2f)\" % (PCA_scores.mean(), FA_scores.std() * 2))\n",
    "        print(\"RR Accuracy: %0.2f (+/- %0.2f)\" % (RR_scores.mean(), RR_scores.std() * 2))\n",
    "        \n",
    "    predicted = cross_val_predict(lr, FA_transformed_subset, target, cv=10)\n",
    "    predicted = pd.DataFrame(predicted,index=target.index,columns=[i+'_pred' for i in target.columns])\n",
    "    df = pd.concat([target,predicted], axis=1)\n",
    "    return df, FA_scores.mean(), PCA_scores.mean(), RR_scores.mean()"
   ]
  },
  {
   "cell_type": "markdown",
   "metadata": {},
   "source": [
    "### Load Data"
   ]
  },
  {
   "cell_type": "code",
   "execution_count": 101,
   "metadata": {
    "collapsed": false
   },
   "outputs": [
    {
     "name": "stdout",
     "output_type": "stream",
     "text": [
      "Getting datasets...:\n",
      " /home/ian/Experiments/expfactory/Self_Regulation_Ontology/Data/Complete_01-16-2017\n"
     ]
    }
   ],
   "source": [
    "datafile = 'Complete_01-16-2017'\n",
    "data = get_behav_data(dataset=datafile, file = 'taskdata_clean.csv')\n"
   ]
  },
  {
   "cell_type": "code",
   "execution_count": 129,
   "metadata": {
    "collapsed": false
   },
   "outputs": [
    {
     "name": "stdout",
     "output_type": "stream",
     "text": [
      "****************************************\n",
      "Leaving out task: choice_reaction_time\n",
      "FA Accuracy: 0.48 (+/- 0.17)\n",
      "PCA Accuracy: 0.48 (+/- 0.17)\n",
      "RR Accuracy: 0.40 (+/- 0.25)\n"
     ]
    },
    {
     "data": {
      "text/plain": [
       "<matplotlib.axes._subplots.AxesSubplot at 0x7ff9dc091828>"
      ]
     },
     "execution_count": 129,
     "metadata": {},
     "output_type": "execute_result"
    },
    {
     "data": {
      "image/png": "[encoded data removed]",
      "text/plain": [
       "<matplotlib.figure.Figure at 0x7ff9dc0ebd30>"
      ]
     },
     "metadata": {},
     "output_type": "display_data"
    }
   ],
   "source": [
    "# show one example\n",
    "df, FA_score, PCA_score, RR_score = out_of_task_prediction(data ,n_components=11, task='choice_reaction_time')\n",
    "sns.heatmap(df.sort_index(axis=1).corr())"
   ]
  },
  {
   "cell_type": "code",
   "execution_count": 130,
   "metadata": {
    "collapsed": false
   },
   "outputs": [],
   "source": [
    "# run it on every task\n",
    "tasks = np.unique([i.split('.')[0] for i in data.columns])\n",
    "scores = {}\n",
    "for task in tasks:\n",
    "    df, FA_score, PCA_score, RR_score = out_of_task_prediction(data ,n_components=11, \n",
    "                                                     task=task,verbose=False)\n",
    "    scores[task] = {'FA_score': FA_score, 'PCA_score': PCA_score, 'RR_score': RR_score}"
   ]
  },
  {
   "cell_type": "code",
   "execution_count": 132,
   "metadata": {
    "collapsed": false,
    "scrolled": false
   },
   "outputs": [
    {
     "name": "stdout",
     "output_type": "stream",
     "text": [
      "Average Reconstruction Score\n",
      "FA     0.175462\n",
      "PCA    0.174365\n",
      "RR     0.011156\n",
      "dtype: float64\n"
     ]
    },
    {
     "name": "stderr",
     "output_type": "stream",
     "text": [
      "/home/ian/miniconda3/envs/py34/lib/python3.4/site-packages/seaborn/categorical.py:2342: UserWarning: The violinplot API has been changed. Attempting to adjust your arguments for the new API (which might not work). Please update your code. See the version 0.6 release notes for more info.\n",
      "  warnings.warn(msg, UserWarning)\n"
     ]
    },
    {
     "data": {
      "text/plain": [
       "<matplotlib.axes._subplots.AxesSubplot at 0x7ff9dc0d9630>"
      ]
     },
     "execution_count": 132,
     "metadata": {},
     "output_type": "execute_result"
    },
    {
     "data": {
      "image/png": "[encoded data removed]",
      "text/plain": [
       "<matplotlib.figure.Figure at 0x7ff9dc1e7518>"
      ]
     },
     "metadata": {},
     "output_type": "display_data"
    }
   ],
   "source": [
    "# plot score for FA and PCA reconstruction\n",
    "score_df = pd.DataFrame({'FA': [i['FA_score'] for i in scores.values()],\n",
    "                         'PCA': [i['PCA_score'] for i in scores.values()],\n",
    "                         'RR': [i['RR_score'] for i in scores.values()]}, index = tasks)\n",
    "print('Average Reconstruction Score')\n",
    "print(score_df.mean())\n",
    "sns.violinplot(score_df)"
   ]
  },
  {
   "cell_type": "code",
   "execution_count": 133,
   "metadata": {
    "collapsed": false
   },
   "outputs": [
    {
     "data": {
      "text/html": [
       "<div>\n",
       "<table border=\"1\" class=\"dataframe\">\n",
       "  <thead>\n",
       "    <tr style=\"text-align: right;\">\n",
       "      <th></th>\n",
       "      <th>FA</th>\n",
       "      <th>PCA</th>\n",
       "      <th>RR</th>\n",
       "    </tr>\n",
       "  </thead>\n",
       "  <tbody>\n",
       "    <tr>\n",
       "      <th>discount_titrate</th>\n",
       "      <td>0.623210</td>\n",
       "      <td>0.581091</td>\n",
       "      <td>0.544277</td>\n",
       "    </tr>\n",
       "    <tr>\n",
       "      <th>psychological_refractory_period_two_choices</th>\n",
       "      <td>0.487201</td>\n",
       "      <td>0.404196</td>\n",
       "      <td>0.469557</td>\n",
       "    </tr>\n",
       "    <tr>\n",
       "      <th>simon</th>\n",
       "      <td>0.479722</td>\n",
       "      <td>0.476415</td>\n",
       "      <td>0.403934</td>\n",
       "    </tr>\n",
       "    <tr>\n",
       "      <th>local_global_letter</th>\n",
       "      <td>0.452720</td>\n",
       "      <td>0.444701</td>\n",
       "      <td>0.347550</td>\n",
       "    </tr>\n",
       "    <tr>\n",
       "      <th>choice_reaction_time</th>\n",
       "      <td>0.292782</td>\n",
       "      <td>0.284975</td>\n",
       "      <td>0.133343</td>\n",
       "    </tr>\n",
       "    <tr>\n",
       "      <th>holt_laury_survey</th>\n",
       "      <td>0.290793</td>\n",
       "      <td>0.292780</td>\n",
       "      <td>0.241212</td>\n",
       "    </tr>\n",
       "    <tr>\n",
       "      <th>ravens</th>\n",
       "      <td>0.287152</td>\n",
       "      <td>0.281594</td>\n",
       "      <td>0.226087</td>\n",
       "    </tr>\n",
       "    <tr>\n",
       "      <th>threebytwo</th>\n",
       "      <td>0.262012</td>\n",
       "      <td>0.247324</td>\n",
       "      <td>0.002390</td>\n",
       "    </tr>\n",
       "    <tr>\n",
       "      <th>attention_network_task</th>\n",
       "      <td>0.246710</td>\n",
       "      <td>0.238971</td>\n",
       "      <td>0.094728</td>\n",
       "    </tr>\n",
       "    <tr>\n",
       "      <th>digit_span</th>\n",
       "      <td>0.231641</td>\n",
       "      <td>0.224309</td>\n",
       "      <td>0.106970</td>\n",
       "    </tr>\n",
       "    <tr>\n",
       "      <th>recent_probes</th>\n",
       "      <td>0.227004</td>\n",
       "      <td>0.241386</td>\n",
       "      <td>-0.009620</td>\n",
       "    </tr>\n",
       "    <tr>\n",
       "      <th>go_nogo</th>\n",
       "      <td>0.218165</td>\n",
       "      <td>0.213136</td>\n",
       "      <td>0.063113</td>\n",
       "    </tr>\n",
       "    <tr>\n",
       "      <th>kirby</th>\n",
       "      <td>0.205036</td>\n",
       "      <td>0.210905</td>\n",
       "      <td>0.047141</td>\n",
       "    </tr>\n",
       "    <tr>\n",
       "      <th>spatial_span</th>\n",
       "      <td>0.202608</td>\n",
       "      <td>0.203438</td>\n",
       "      <td>0.066679</td>\n",
       "    </tr>\n",
       "    <tr>\n",
       "      <th>keep_track</th>\n",
       "      <td>0.201514</td>\n",
       "      <td>0.199647</td>\n",
       "      <td>-0.010159</td>\n",
       "    </tr>\n",
       "    <tr>\n",
       "      <th>two_stage_decision</th>\n",
       "      <td>0.184287</td>\n",
       "      <td>0.183940</td>\n",
       "      <td>0.060777</td>\n",
       "    </tr>\n",
       "    <tr>\n",
       "      <th>stroop</th>\n",
       "      <td>0.177385</td>\n",
       "      <td>0.180905</td>\n",
       "      <td>0.075887</td>\n",
       "    </tr>\n",
       "    <tr>\n",
       "      <th>columbia_card_task_hot</th>\n",
       "      <td>0.174480</td>\n",
       "      <td>0.174809</td>\n",
       "      <td>0.024570</td>\n",
       "    </tr>\n",
       "    <tr>\n",
       "      <th>dietary_decision</th>\n",
       "      <td>0.141800</td>\n",
       "      <td>0.144627</td>\n",
       "      <td>-0.039115</td>\n",
       "    </tr>\n",
       "    <tr>\n",
       "      <th>bickel_titrator</th>\n",
       "      <td>0.139423</td>\n",
       "      <td>0.130085</td>\n",
       "      <td>-0.089008</td>\n",
       "    </tr>\n",
       "    <tr>\n",
       "      <th>probabilistic_selection</th>\n",
       "      <td>0.123872</td>\n",
       "      <td>0.127067</td>\n",
       "      <td>-0.065853</td>\n",
       "    </tr>\n",
       "    <tr>\n",
       "      <th>tower_of_london</th>\n",
       "      <td>0.121761</td>\n",
       "      <td>0.114606</td>\n",
       "      <td>-0.074901</td>\n",
       "    </tr>\n",
       "    <tr>\n",
       "      <th>stim_selective_stop_signal</th>\n",
       "      <td>0.112569</td>\n",
       "      <td>0.119783</td>\n",
       "      <td>-0.067616</td>\n",
       "    </tr>\n",
       "    <tr>\n",
       "      <th>cognitive_reflection_survey</th>\n",
       "      <td>0.112041</td>\n",
       "      <td>0.115330</td>\n",
       "      <td>-0.155422</td>\n",
       "    </tr>\n",
       "    <tr>\n",
       "      <th>adaptive_n_back</th>\n",
       "      <td>0.111280</td>\n",
       "      <td>0.102984</td>\n",
       "      <td>-0.072066</td>\n",
       "    </tr>\n",
       "    <tr>\n",
       "      <th>motor_selective_stop_signal</th>\n",
       "      <td>0.110388</td>\n",
       "      <td>0.109882</td>\n",
       "      <td>-0.098126</td>\n",
       "    </tr>\n",
       "    <tr>\n",
       "      <th>dot_pattern_expectancy</th>\n",
       "      <td>0.085309</td>\n",
       "      <td>0.094787</td>\n",
       "      <td>-0.076446</td>\n",
       "    </tr>\n",
       "    <tr>\n",
       "      <th>writing_task</th>\n",
       "      <td>0.065213</td>\n",
       "      <td>0.095869</td>\n",
       "      <td>0.098463</td>\n",
       "    </tr>\n",
       "    <tr>\n",
       "      <th>stop_signal</th>\n",
       "      <td>0.065058</td>\n",
       "      <td>0.052887</td>\n",
       "      <td>-0.153508</td>\n",
       "    </tr>\n",
       "    <tr>\n",
       "      <th>shape_matching</th>\n",
       "      <td>0.061483</td>\n",
       "      <td>0.068367</td>\n",
       "      <td>-0.195264</td>\n",
       "    </tr>\n",
       "    <tr>\n",
       "      <th>angling_risk_task_always_sunny</th>\n",
       "      <td>0.059277</td>\n",
       "      <td>0.078400</td>\n",
       "      <td>-0.250609</td>\n",
       "    </tr>\n",
       "    <tr>\n",
       "      <th>shift_task</th>\n",
       "      <td>0.032513</td>\n",
       "      <td>0.045295</td>\n",
       "      <td>-0.122357</td>\n",
       "    </tr>\n",
       "    <tr>\n",
       "      <th>information_sampling_task</th>\n",
       "      <td>0.027973</td>\n",
       "      <td>0.080108</td>\n",
       "      <td>0.091737</td>\n",
       "    </tr>\n",
       "    <tr>\n",
       "      <th>directed_forgetting</th>\n",
       "      <td>0.025573</td>\n",
       "      <td>0.026646</td>\n",
       "      <td>-0.230519</td>\n",
       "    </tr>\n",
       "    <tr>\n",
       "      <th>hierarchical_rule</th>\n",
       "      <td>-0.021850</td>\n",
       "      <td>-0.016468</td>\n",
       "      <td>-0.276750</td>\n",
       "    </tr>\n",
       "    <tr>\n",
       "      <th>simple_reaction_time</th>\n",
       "      <td>-0.043755</td>\n",
       "      <td>-0.037177</td>\n",
       "      <td>-0.205820</td>\n",
       "    </tr>\n",
       "    <tr>\n",
       "      <th>columbia_card_task_cold</th>\n",
       "      <td>-0.082242</td>\n",
       "      <td>-0.086080</td>\n",
       "      <td>-0.492475</td>\n",
       "    </tr>\n",
       "  </tbody>\n",
       "</table>\n",
       "</div>"
      ],
      "text/plain": [
       "                                                   FA       PCA        RR\n",
       "discount_titrate                             0.623210  0.581091  0.544277\n",
       "psychological_refractory_period_two_choices  0.487201  0.404196  0.469557\n",
       "simon                                        0.479722  0.476415  0.403934\n",
       "local_global_letter                          0.452720  0.444701  0.347550\n",
       "choice_reaction_time                         0.292782  0.284975  0.133343\n",
       "holt_laury_survey                            0.290793  0.292780  0.241212\n",
       "ravens                                       0.287152  0.281594  0.226087\n",
       "threebytwo                                   0.262012  0.247324  0.002390\n",
       "attention_network_task                       0.246710  0.238971  0.094728\n",
       "digit_span                                   0.231641  0.224309  0.106970\n",
       "recent_probes                                0.227004  0.241386 -0.009620\n",
       "go_nogo                                      0.218165  0.213136  0.063113\n",
       "kirby                                        0.205036  0.210905  0.047141\n",
       "spatial_span                                 0.202608  0.203438  0.066679\n",
       "keep_track                                   0.201514  0.199647 -0.010159\n",
       "two_stage_decision                           0.184287  0.183940  0.060777\n",
       "stroop                                       0.177385  0.180905  0.075887\n",
       "columbia_card_task_hot                       0.174480  0.174809  0.024570\n",
       "dietary_decision                             0.141800  0.144627 -0.039115\n",
       "bickel_titrator                              0.139423  0.130085 -0.089008\n",
       "probabilistic_selection                      0.123872  0.127067 -0.065853\n",
       "tower_of_london                              0.121761  0.114606 -0.074901\n",
       "stim_selective_stop_signal                   0.112569  0.119783 -0.067616\n",
       "cognitive_reflection_survey                  0.112041  0.115330 -0.155422\n",
       "adaptive_n_back                              0.111280  0.102984 -0.072066\n",
       "motor_selective_stop_signal                  0.110388  0.109882 -0.098126\n",
       "dot_pattern_expectancy                       0.085309  0.094787 -0.076446\n",
       "writing_task                                 0.065213  0.095869  0.098463\n",
       "stop_signal                                  0.065058  0.052887 -0.153508\n",
       "shape_matching                               0.061483  0.068367 -0.195264\n",
       "angling_risk_task_always_sunny               0.059277  0.078400 -0.250609\n",
       "shift_task                                   0.032513  0.045295 -0.122357\n",
       "information_sampling_task                    0.027973  0.080108  0.091737\n",
       "directed_forgetting                          0.025573  0.026646 -0.230519\n",
       "hierarchical_rule                           -0.021850 -0.016468 -0.276750\n",
       "simple_reaction_time                        -0.043755 -0.037177 -0.205820\n",
       "columbia_card_task_cold                     -0.082242 -0.086080 -0.492475"
      ]
     },
     "execution_count": 133,
     "metadata": {},
     "output_type": "execute_result"
    }
   ],
   "source": [
    "# tasks in order of FA reconstruction success\n",
    "score_df.sort_values(by='FA', ascending=False)"
   ]
  }
 ],
 "metadata": {
  "anaconda-cloud": {},
  "kernelspec": {
   "display_name": "Python [conda env:py34]",
   "language": "python",
   "name": "conda-env-py34-py"
  },
  "language_info": {
   "codemirror_mode": {
    "name": "ipython",
    "version": 3
   },
   "file_extension": ".py",
   "mimetype": "text/x-python",
   "name": "python",
   "nbconvert_exporter": "python",
   "pygments_lexer": "ipython3",
   "version": "3.4.5"
  }
 },
 "nbformat": 4,
 "nbformat_minor": 0
}
