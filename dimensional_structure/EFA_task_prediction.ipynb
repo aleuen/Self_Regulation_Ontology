{
 "cells": [
  {
   "cell_type": "code",
   "execution_count": 169,
   "metadata": {
    "collapsed": false
   },
   "outputs": [],
   "source": [
    "import numpy as np\n",
    "import pandas as pd\n",
    "import seaborn as sns\n",
    "from selfregulation.utils.utils import get_behav_data\n",
    "from sklearn.linear_model import LinearRegression\n",
    "from sklearn.preprocessing import StandardScaler\n",
    "from sklearn.decomposition import FactorAnalysis, PCA\n",
    "from sklearn.model_selection import KFold, cross_val_predict, cross_val_score\n",
    "from sklearn.pipeline import make_pipeline\n",
    "from fancyimpute import SoftImpute\n"
   ]
  },
  {
   "cell_type": "markdown",
   "metadata": {},
   "source": [
    "### Define Helper functions\n"
   ]
  },
  {
   "cell_type": "code",
   "execution_count": 166,
   "metadata": {
    "collapsed": true
   },
   "outputs": [],
   "source": [
    "# using for speed, for the time being\n",
    "def SoftImpute_df(data):\n",
    "    imputed_mat = SoftImpute(verbose=False).complete(data)\n",
    "    return pd.DataFrame(data=imputed_mat, columns=data.columns, index=data.index)\n",
    "\n",
    "def data_reduce(data, n_components, method=FactorAnalysis):\n",
    "    fa=method(n_components)\n",
    "    # Impute (replace with missForest later)\n",
    "    imputed_subset = SoftImpute_df(subset)\n",
    "    # Scale data\n",
    "    scaler = StandardScaler()\n",
    "    scaled_subset = scaler.fit_transform(imputed_subset)\n",
    "    # fit model on subset\n",
    "    transformed_subset = fa.fit_transform(scaled_subset)\n",
    "    return transformed_subset \n",
    "\n",
    "def run_FA(n_components,data,cv):\n",
    "    fa=FactorAnalysis(n_components)\n",
    "    scores = []\n",
    "    # cross-validate fit across different train/test splits\n",
    "    for train_index, test_index in cv.split(data.values):\n",
    "        data_train, data_test = data.iloc[train_index], \\\n",
    "                                data.iloc[test_index]\n",
    "        # Impute (replace with missForest later)\n",
    "        imputed_train = SoftImpute_df(data_train)\n",
    "        imputed_test = SoftImpute_df(data_test)\n",
    "        # Scale data\n",
    "        scaler = StandardScaler()\n",
    "        scaled_train = scaler.fit_transform(imputed_train)\n",
    "        scaled_test = scaler.transform(imputed_test)\n",
    "        # fit model on training\n",
    "        fa.fit(scaled_train)\n",
    "        # score on test set\n",
    "        scores.append(fa.score(scaled_test))\n",
    "    #average score across kfolds\n",
    "    score = np.mean(scores)\n",
    "    return score, fa\n",
    "\n",
    "def find_optimal_components(data, method='sklearn', cv=None):\n",
    "    if method == 'sklearn':\n",
    "        assert cv, \"Must Supply a CV if using sklearn\"\n",
    "        # find best number of components\n",
    "        n_components = range(1,12)\n",
    "        best_c = 0\n",
    "        component_scores = []\n",
    "        for c in n_components:\n",
    "            score, fa = run_FA(c,data,cv)\n",
    "            component_scores.append(score)\n",
    "        best_c = np.argmax(component_scores)+1\n",
    "        print('Best Component: ', best_c)\n",
    "        return best_c, component_scores\n",
    "    elif method == 'psych':\n",
    "        BICs = []\n",
    "        outputs = []\n",
    "        n_components = range(1,12)\n",
    "        scaler = StandardScaler()\n",
    "        scaled_data = scaler.fit_transform(data)\n",
    "        for c in n_components:\n",
    "            fa, output = psychFA(scaled_data, c, method='ml')\n",
    "            BICs.append(output['BIC'])\n",
    "            outputs.append(output)\n",
    "        best_c = np.argmin(BICs)+1\n",
    "        print('Best Component: ', best_c)\n",
    "        return best_c, BICs"
   ]
  },
  {
   "cell_type": "markdown",
   "metadata": {},
   "source": [
    "### Load Data"
   ]
  },
  {
   "cell_type": "code",
   "execution_count": 30,
   "metadata": {
    "collapsed": false
   },
   "outputs": [
    {
     "name": "stdout",
     "output_type": "stream",
     "text": [
      "Getting datasets...:\n",
      " /home/ian/Experiments/expfactory/Self_Regulation_Ontology/Data/Complete_01-16-2017\n"
     ]
    }
   ],
   "source": [
    "datafile = 'Complete_01-16-2017'\n",
    "data = get_behav_data(dataset=datafile, file = 'taskdata_clean.csv')\n"
   ]
  },
  {
   "cell_type": "code",
   "execution_count": 176,
   "metadata": {
    "collapsed": false
   },
   "outputs": [
    {
     "name": "stdout",
     "output_type": "stream",
     "text": [
      "****************************************\n",
      "Leaving out task: ravens\n",
      "FA Accuracy: 0.56 (+/- 0.12)\n",
      "PCA Accuracy: 0.51 (+/- 0.12)\n"
     ]
    },
    {
     "data": {
      "text/plain": [
       "<matplotlib.axes._subplots.AxesSubplot at 0x7f8757ca50f0>"
      ]
     },
     "execution_count": 176,
     "metadata": {},
     "output_type": "execute_result"
    },
    {
     "data": {
      "image/png": "[encoded data removed]",
      "text/plain": [
       "<matplotlib.figure.Figure at 0x7f8757bc8400>"
      ]
     },
     "metadata": {},
     "output_type": "display_data"
    }
   ],
   "source": [
    "def out_of_task_prediction(data, task=None,n_components=None,verbose=True):\n",
    "    if task is None:\n",
    "        tasks = np.unique([i.split('.')[0] for i in data.columns])\n",
    "        target_task = np.random.choice(tasks)\n",
    "    else:\n",
    "        target_task = task\n",
    "    target = data.filter(regex = '^'+target_task+'\\.')\n",
    "    subset = data.drop(target.columns, axis=1)\n",
    "    if n_components is None:\n",
    "        # find optimal number of dimensions\n",
    "        kf = KFold(n_splits = 4)\n",
    "        n_components, component_scores = find_optimal_components(data,cv=kf)\n",
    "    \n",
    "    FA_transformed_subset = data_reduce(subset, n_components)\n",
    "    PCA_transformed_subset = data_reduce(subset, n_components, method=PCA)\n",
    "    # remove nans\n",
    "    data_rows = target.notnull().all(1).nonzero()[0]\n",
    "    target = target.iloc[data_rows,:]\n",
    "    FA_transformed_subset = FA_transformed_subset[data_rows,:]\n",
    "    PCA_transformed_subset = PCA_transformed_subset[data_rows,:]\n",
    "    # predict left out task\n",
    "    lr = LinearRegression()\n",
    "    FA_scores = cross_val_score(lr, FA_transformed_subset, target, cv = 10)\n",
    "    FA_score = FA_scores.mean()\n",
    "    PCA_scores = cross_val_score(lr, PCA_transformed_subset, target, cv = 10)\n",
    "    if verbose:\n",
    "        print('*'*40)\n",
    "        print('Leaving out task: %s' % target_task)\n",
    "        print(\"FA Accuracy: %0.2f (+/- %0.2f)\" % (FA_scores.mean(), FA_scores.std() * 2))\n",
    "        print(\"PCA Accuracy: %0.2f (+/- %0.2f)\" % (PCA_scores.mean(), FA_scores.std() * 2))\n",
    "        \n",
    "    predicted = cross_val_predict(lr, FA_transformed_subset, target, cv=10)\n",
    "    predicted = pd.DataFrame(predicted,index=target.index,columns=[i+'_pred' for i in target.columns])\n",
    "    df = pd.concat([target,predicted], axis=1)\n",
    "    return df, FA_score\n",
    "\n",
    "    \n",
    "    \n",
    "df, score = out_of_task_prediction(data ,n_components=11)\n",
    "    \n",
    "sns.heatmap(df.sort_index(axis=1).corr())"
   ]
  }
 ],
 "metadata": {
  "anaconda-cloud": {},
  "kernelspec": {
   "display_name": "Python [py34]",
   "language": "python",
   "name": "Python [py34]"
  },
  "language_info": {
   "codemirror_mode": {
    "name": "ipython",
    "version": 3
   },
   "file_extension": ".py",
   "mimetype": "text/x-python",
   "name": "python",
   "nbconvert_exporter": "python",
   "pygments_lexer": "ipython3",
   "version": "3.4.5"
  }
 },
 "nbformat": 4,
 "nbformat_minor": 0
}
