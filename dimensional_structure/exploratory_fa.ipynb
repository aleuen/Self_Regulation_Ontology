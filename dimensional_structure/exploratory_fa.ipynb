{
 "cells": [
  {
   "cell_type": "code",
   "execution_count": 1,
   "metadata": {
    "collapsed": false
   },
   "outputs": [
    {
     "name": "stdout",
     "output_type": "stream",
     "text": [
      "Note: no visible global function definition for 'radixsort' \n",
      "\n"
     ]
    },
    {
     "name": "stderr",
     "output_type": "stream",
     "text": [
      "Using TensorFlow backend.\n"
     ]
    }
   ],
   "source": [
    "import igraph\n",
    "import matplotlib.pyplot as plt\n",
    "import numpy as np\n",
    "from os import path\n",
    "import pandas as pd\n",
    "import seaborn as sns\n",
    "from selfregulation.utils.utils import get_behav_data\n",
    "from sklearn.decomposition import FactorAnalysis\n",
    "from sklearn.preprocessing import StandardScaler\n",
    "from sklearn.model_selection import KFold\n",
    "from sklearn.pipeline import make_pipeline\n",
    "from selfregulation.utils.r_to_py_utils import GPArotation, missForest, psychFA\n",
    "from fancyimpute import SoftImpute\n",
    "%matplotlib inline"
   ]
  },
  {
   "cell_type": "markdown",
   "metadata": {},
   "source": [
    "### Load Data\n",
    "\n",
    "Load both cleaned and imputed data. Set up a helper function to quickly impute data within the Kfold split. Can't use data where imputation was performed over the whole dataset as there will be data leakage between training and test."
   ]
  },
  {
   "cell_type": "code",
   "execution_count": 2,
   "metadata": {
    "collapsed": false
   },
   "outputs": [
    {
     "name": "stdout",
     "output_type": "stream",
     "text": [
      "Getting datasets...:\n",
      " /home/ian/Experiments/expfactory/Self_Regulation_Ontology/Data/Complete_05-13-2017\n",
      "Getting datasets...:\n",
      " /home/ian/Experiments/expfactory/Self_Regulation_Ontology/Data/Complete_05-13-2017\n",
      "Getting datasets...:\n",
      " /home/ian/Experiments/expfactory/Self_Regulation_Ontology/Data/Complete_05-13-2017\n",
      "Getting datasets...:\n",
      " /home/ian/Experiments/expfactory/Self_Regulation_Ontology/Data/Complete_05-13-2017\n"
     ]
    }
   ],
   "source": [
    "datafile = 'Complete_05-13-2017'\n",
    "# load data\n",
    "# imputed data\n",
    "imputed_data = get_behav_data(dataset=datafile, file = 'meaningful_variables_imputed.csv')\n",
    "imputed_task_data = get_behav_data(dataset=datafile, file = 'taskdata_imputed.csv')\n",
    "imputed_survey_data = imputed_data.drop(imputed_task_data.columns, axis = 1)\n",
    "imputed_datasets = {'survey': imputed_survey_data, 'task': imputed_task_data, 'complete': imputed_data}\n",
    "# cleaned data \n",
    "cleaned_data = get_behav_data(dataset=datafile, file = 'meaningful_variables_clean.csv')\n",
    "cleaned_task_data = get_behav_data(dataset=datafile, file = 'taskdata_clean.csv')\n",
    "cleaned_survey_data = cleaned_data.drop(cleaned_task_data.columns, axis = 1)\n",
    "cleaned_datasets = {'survey': cleaned_survey_data, 'task': cleaned_task_data, 'complete': cleaned_data}\n",
    "\n",
    "results = {'survey': {}, 'task': {}, 'complete': {}}"
   ]
  },
  {
   "cell_type": "markdown",
   "metadata": {},
   "source": [
    "# Calculate best number of components"
   ]
  },
  {
   "cell_type": "markdown",
   "metadata": {},
   "source": [
    "### Define Helper functions"
   ]
  },
  {
   "cell_type": "code",
   "execution_count": 149,
   "metadata": {
    "collapsed": true
   },
   "outputs": [],
   "source": [
    "# using for speed, for the time being\n",
    "def SoftImpute_df(data):\n",
    "    imputed_mat = SoftImpute(verbose=False).complete(data)\n",
    "    return pd.DataFrame(data=imputed_mat, columns=data.columns, index=data.index)\n",
    "\n",
    "def run_FA(n_components,data,cv):\n",
    "    fa=FactorAnalysis(n_components)\n",
    "    scores = []\n",
    "    # cross-validate fit across different train/test splits\n",
    "    for train_index, test_index in cv.split(data.values):\n",
    "        data_train, data_test = data.iloc[train_index], \\\n",
    "                                data.iloc[test_index]\n",
    "        # Impute (replace with missForest later)\n",
    "        imputed_train = SoftImpute_df(data_train)\n",
    "        imputed_test = SoftImpute_df(data_test)\n",
    "        # Scale data\n",
    "        scaler = StandardScaler()\n",
    "        scaled_train = scaler.fit_transform(imputed_train)\n",
    "        scaled_test = scaler.transform(imputed_test)\n",
    "        # fit model on training\n",
    "        fa.fit(scaled_train)\n",
    "        # score on test set\n",
    "        scores.append(fa.score(scaled_test))\n",
    "    #average score across kfolds\n",
    "    score = np.mean(scores)\n",
    "    return score, fa\n",
    "\n",
    "def find_optimal_components(data, method='sklearn', cv=None):\n",
    "    if method == 'sklearn':\n",
    "        assert cv, \"Must Supply a CV if using sklearn\"\n",
    "        # find best number of components\n",
    "        n_components = range(1,20)\n",
    "        best_c = 0\n",
    "        component_scores = []\n",
    "        for c in n_components:\n",
    "            score, fa = run_FA(c,data,cv)\n",
    "            component_scores.append(score)\n",
    "        best_c = np.argmax(component_scores)+1\n",
    "        print('Best Component: ', best_c)\n",
    "        return best_c, component_scores\n",
    "    elif method == 'psych':\n",
    "        BICs = []\n",
    "        outputs = []\n",
    "        n_components = range(1,20)\n",
    "        scaler = StandardScaler()\n",
    "        scaled_data = scaler.fit_transform(data)\n",
    "        for c in n_components:\n",
    "            fa, output = psychFA(scaled_data, c, method='ml')\n",
    "            BICs.append(output['BIC'])\n",
    "            outputs.append(output)\n",
    "        best_c = np.argmin(BICs)+1\n",
    "        print('Best Component: ', best_c)\n",
    "        return best_c, BICs"
   ]
  },
  {
   "cell_type": "markdown",
   "metadata": {},
   "source": [
    "### Determine optimal number of factors\n",
    "Two methods\n",
    "\n",
    "Sklearn using cross-validated prediction\n",
    "R's Psych package looking for best fitting model across all the data, penalized for complexity (BIC)"
   ]
  },
  {
   "cell_type": "code",
   "execution_count": 7,
   "metadata": {
    "collapsed": false,
    "scrolled": false
   },
   "outputs": [
    {
     "name": "stdout",
     "output_type": "stream",
     "text": [
      "Dataset: task\n",
      "Best Component:  11\n",
      "Dataset: survey\n",
      "Best Component:  11\n",
      "Dataset: complete\n",
      "Best Component:  11\n"
     ]
    },
    {
     "data": {
      "text/plain": [
       "<matplotlib.text.Text at 0x7f17536109e8>"
      ]
     },
     "execution_count": 7,
     "metadata": {},
     "output_type": "execute_result"
    },
    {
     "data": {
      "image/png": "[encoded data removed]",
      "text/plain": [
       "<matplotlib.figure.Figure at 0x7f1753693b38>"
      ]
     },
     "metadata": {},
     "output_type": "display_data"
    }
   ],
   "source": [
    "kf = KFold(n_splits = 4)\n",
    "for label,data in cleaned_datasets.items():\n",
    "    print('Dataset: %s' % label)\n",
    "    best_c, scores= find_optimal_components(data, kf)\n",
    "    results[label]['sklearn_best_c'] = best_c\n",
    "    results[label]['CV_scores'] = scores\n",
    "    \n",
    "for score in [d['CV_scores'] for d in results.values()]:\n",
    "    plt.plot(range(len(score)),score, '-o')\n",
    "plt.legend(results.keys(), loc = 'best')\n",
    "plt.xlabel('# Components')\n",
    "plt.ylabel('Score')"
   ]
  },
  {
   "cell_type": "markdown",
   "metadata": {},
   "source": [
    "### Calculate best number of components using BIC (R Psych package)"
   ]
  },
  {
   "cell_type": "code",
   "execution_count": 151,
   "metadata": {
    "collapsed": false,
    "scrolled": false
   },
   "outputs": [
    {
     "name": "stdout",
     "output_type": "stream",
     "text": [
      "Dataset: survey\n",
      "Best Component:  12\n",
      "Dataset: task\n",
      "Best Component:  8\n",
      "Dataset: complete\n",
      "Best Component:  10\n"
     ]
    },
    {
     "data": {
      "text/plain": [
       "<matplotlib.text.Text at 0x7fbd7f01a668>"
      ]
     },
     "execution_count": 151,
     "metadata": {},
     "output_type": "execute_result"
    },
    {
     "data": {
      "image/png": "[encoded data removed]",
      "text/plain": [
       "<matplotlib.figure.Figure at 0x7fbd80acd5f8>"
      ]
     },
     "metadata": {},
     "output_type": "display_data"
    }
   ],
   "source": [
    "for label,data in imputed_datasets.items():\n",
    "    print('Dataset: %s' % label)\n",
    "    best_c, BICs = find_optimal_components(data, method='psych')\n",
    "    results[label]['psych_best_c'] = best_c\n",
    "    results[label]['psych_BICs'] = BICs\n",
    "\n",
    "fig = plt.figure(figsize=(16,12))\n",
    "for bic in [d['psych_BICs'] for d in results.values()]:\n",
    "    plt.plot(range(1,len(bic)+1),bic, '-o')\n",
    "plt.legend(results.keys(), loc = 'best')\n",
    "plt.xlabel('# Components')\n",
    "plt.ylabel('Score')"
   ]
  },
  {
   "cell_type": "markdown",
   "metadata": {
    "variables": {
     "results['complete']['psych_best_c']": "10",
     "results['survey']['psych_best_c']": "11",
     "results['task']['psych_best_c']": "8"
    }
   },
   "source": [
    "# Interpret Factor Analysis Solutions\n",
    "Above we found that the best number of components were as follows:\n",
    "\n",
    "**Psych**:\n",
    "\n",
    "Task: {{results['task']['psych_best_c']}}\n",
    "\n",
    "Survey: {{results['survey']['psych_best_c']}}\n",
    "\n",
    "Complete: {{results['complete']['psych_best_c']}}\n",
    "\n",
    "Because psych performs rotation, is more widely used, we will use that as our main analysis. All analyses will be repeated with the sklearn pipeline as well. First we will look at the best number of components, then we will look at the solution at each dimensionality and plot the relationships between dimensions"
   ]
  },
  {
   "cell_type": "markdown",
   "metadata": {},
   "source": [
    "## Interpret best components (Psych)\n",
    "\n",
    "Note: percent variance explained is very low for all these models..."
   ]
  },
  {
   "cell_type": "markdown",
   "metadata": {},
   "source": [
    "### Complete\n",
    "\n",
    "For EFA using the psych package, the optimal factor structure for the complete dataset settled on 2 dimensions as optimal."
   ]
  },
  {
   "cell_type": "code",
   "execution_count": 106,
   "metadata": {
    "collapsed": true
   },
   "outputs": [],
   "source": [
    "complete_results = results['complete']\n",
    "best_c = complete_results['psych_best_c']\n",
    "data = imputed_datasets['complete']\n",
    "fa, output = psychFA(data, best_c)"
   ]
  },
  {
   "cell_type": "code",
   "execution_count": 107,
   "metadata": {
    "collapsed": false,
    "scrolled": false
   },
   "outputs": [
    {
     "name": "stdout",
     "output_type": "stream",
     "text": [
      "\n",
      "FACTOR 0\n",
      "choice_reaction_time.hddm_drift          0.765579\n",
      "dot_pattern_expectancy.hddm_drift        0.753353\n",
      "shape_matching.hddm_drift                0.692506\n",
      "directed_forgetting.hddm_drift           0.685221\n",
      "threebytwo.hddm_drift                    0.675468\n",
      "dot_pattern_expectancy.dprime            0.675010\n",
      "simon.hddm_drift                         0.652082\n",
      "recent_probes.hddm_drift                 0.637691\n",
      "stop_signal.hddm_drift                   0.591302\n",
      "stim_selective_stop_signal.hddm_drift    0.578472\n",
      "Name: 0, dtype: float64\n",
      "\n",
      "FACTOR 1\n",
      "time_perspective_survey.future                                      0.868852\n",
      "upps_impulsivity_survey.lack_of_perseverance                       -0.770718\n",
      "bis11_survey.Nonplanning                                           -0.767206\n",
      "upps_impulsivity_survey.lack_of_premeditation                      -0.680496\n",
      "self_regulation_survey.control                                      0.667986\n",
      "selection_optimization_compensation_survey.optimization.ReflogTr   -0.618133\n",
      "ten_item_personality_survey.conscientiousness                       0.616849\n",
      "grit_scale_survey.grit                                              0.568488\n",
      "brief_self_control_survey.self_control                              0.551673\n",
      "bis11_survey.Motor                                                 -0.540277\n",
      "Name: 1, dtype: float64\n",
      "\n",
      "FACTOR 2\n",
      "sensation_seeking_survey.thrill_adventure_seeking    0.928136\n",
      "dospert_rt_survey.recreational                       0.902791\n",
      "impulsive_venture_survey.venturesomeness             0.875380\n",
      "upps_impulsivity_survey.sensation_seeking            0.853125\n",
      "dospert_eb_survey.recreational                       0.756665\n",
      "dospert_rp_survey.recreational                      -0.476194\n",
      "sensation_seeking_survey.experience_seeking          0.423521\n",
      "sensation_seeking_survey.disinhibition               0.414507\n",
      "bis_bas_survey.BAS_fun_seeking                       0.380867\n",
      "dospert_rt_survey.health_safety                      0.360275\n",
      "Name: 2, dtype: float64\n",
      "\n",
      "FACTOR 3\n",
      "ten_item_personality_survey.emotional_stability    -0.677890\n",
      "bis_bas_survey.BIS                                  0.672070\n",
      "five_facet_mindfulness_survey.nonjudge             -0.671252\n",
      "time_perspective_survey.past_negative               0.654868\n",
      "upps_impulsivity_survey.negative_urgency            0.555212\n",
      "mindful_attention_awareness_survey.mindfulness     -0.548536\n",
      "five_facet_mindfulness_survey.act_with_awareness   -0.488595\n",
      "bis11_survey.Attentional                            0.481182\n",
      "eating_survey.uncontrolled_eating                   0.475707\n",
      "eating_survey.emotional_eating                      0.469901\n",
      "Name: 3, dtype: float64\n",
      "\n",
      "FACTOR 4\n",
      "motor_selective_stop_signal.hddm_non_decision    0.601741\n",
      "simon.hddm_non_decision                          0.574974\n",
      "attention_network_task.hddm_non_decision         0.571023\n",
      "stop_signal.SSRT_low                             0.540558\n",
      "choice_reaction_time.hddm_non_decision           0.539991\n",
      "stop_signal.SSRT_high                            0.532699\n",
      "stroop.hddm_non_decision                         0.500490\n",
      "shape_matching.hddm_non_decision                 0.493129\n",
      "stim_selective_stop_signal.SSRT                  0.482140\n",
      "motor_selective_stop_signal.SSRT                 0.482119\n",
      "Name: 4, dtype: float64\n",
      "\n",
      "FACTOR 5\n",
      "adaptive_n_back.mean_load                         0.516896\n",
      "adaptive_n_back.hddm_drift                        0.476438\n",
      "information_sampling_task.Fixed_Win_motivation    0.455732\n",
      "tower_of_london.avg_move_time                    -0.449756\n",
      "dospert_rp_survey.ethical                        -0.412885\n",
      "spatial_span.reverse_span                         0.409094\n",
      "dospert_eb_survey.ethical                         0.404615\n",
      "cognitive_reflection_survey.correct_proportion    0.383834\n",
      "spatial_span.forward_span                         0.380909\n",
      "dospert_rt_survey.ethical                         0.376200\n",
      "Name: 5, dtype: float64\n",
      "\n",
      "FACTOR 6\n",
      "simon.hddm_thresh                               0.548505\n",
      "local_global_letter.hddm_thresh                 0.534685\n",
      "shape_matching.hddm_thresh                      0.529955\n",
      "attention_network_task.hddm_thresh              0.525395\n",
      "threebytwo.hddm_thresh                          0.507269\n",
      "motor_selective_stop_signal.hddm_thresh         0.475459\n",
      "choice_reaction_time.hddm_thresh                0.452985\n",
      "stroop.hddm_thresh                              0.452843\n",
      "directed_forgetting.hddm_thresh                 0.432617\n",
      "stim_selective_stop_signal.hddm_thresh.logTr    0.428545\n",
      "Name: 6, dtype: float64\n",
      "\n",
      "FACTOR 7\n",
      "kirby.hyp_discount_rate_small.logTr               0.952057\n",
      "kirby.hyp_discount_rate_medium.logTr              0.920356\n",
      "kirby.hyp_discount_rate_large.logTr               0.893849\n",
      "discount_titrate.percent_patient                 -0.833633\n",
      "bickel_titrator.hyp_discount_rate_medium.logTr    0.677157\n",
      "bickel_titrator.hyp_discount_rate_large.logTr     0.503199\n",
      "cognitive_reflection_survey.correct_proportion   -0.191349\n",
      "ravens.score                                     -0.141387\n",
      "stroop.hddm_thresh                               -0.134023\n",
      "leisure_time_activity_survey.activity_level      -0.133313\n",
      "Name: 7, dtype: float64\n",
      "\n",
      "FACTOR 8\n",
      "time_perspective_survey.present_hedonistic                0.632263\n",
      "bis_bas_survey.BAS_fun_seeking                            0.568118\n",
      "bis_bas_survey.BAS_drive                                  0.548939\n",
      "bis_bas_survey.BAS_reward_responsiveness                  0.515088\n",
      "ten_item_personality_survey.openness                      0.443908\n",
      "ten_item_personality_survey.extraversion                  0.415135\n",
      "erq_survey.suppression                                   -0.352370\n",
      "bis11_survey.Motor                                        0.351096\n",
      "future_time_perspective_survey.future_time_perspective    0.321787\n",
      "upps_impulsivity_survey.positive_urgency                  0.308857\n",
      "Name: 8, dtype: float64\n",
      "\n",
      "FACTOR 9\n",
      "angling_risk_task_always_sunny.keep_adjusted_clicks       0.853761\n",
      "angling_risk_task_always_sunny.release_adjusted_clicks    0.793493\n",
      "angling_risk_task_always_sunny.keep_loss_percent          0.787026\n",
      "angling_risk_task_always_sunny.release_loss_percent       0.775304\n",
      "columbia_card_task_hot.probability_sensitivity           -0.217982\n",
      "columbia_card_task_cold.information_use                   0.203320\n",
      "columbia_card_task_hot.avg_cards_chosen                   0.199219\n",
      "ravens.score                                              0.185745\n",
      "columbia_card_task_hot.information_use                    0.180273\n",
      "cognitive_reflection_survey.correct_proportion            0.176587\n",
      "Name: 9, dtype: float64\n"
     ]
    }
   ],
   "source": [
    "### Print top variables for each factor\n",
    "def print_top_factors(fa_output, n = 4):\n",
    "    # number of variables to display\n",
    "    loading_df = pd.DataFrame(fa_output['loadings'], index=data.columns)\n",
    "    for i,column in loading_df.iteritems():\n",
    "        sort_index = np.argsort(abs(column))[::-1] # descending order\n",
    "        top_vars = column[sort_index][0:n]\n",
    "        print('\\nFACTOR %s' % i)\n",
    "        print(top_vars)\n",
    "    return loading_df\n",
    "        \n",
    "loading_df = print_top_factors(output, 10)\n",
    "loading_df.loc[:,'task'] = [i.split('.')[0] for i in loading_df.index]"
   ]
  },
  {
   "cell_type": "markdown",
   "metadata": {},
   "source": [
    "Do the components seem to capture surveys and tasks differently?"
   ]
  },
  {
   "cell_type": "code",
   "execution_count": 153,
   "metadata": {
    "collapsed": false,
    "scrolled": false
   },
   "outputs": [
    {
     "data": {
      "text/plain": [
       "<matplotlib.text.Text at 0x7fbd7e6760b8>"
      ]
     },
     "execution_count": 153,
     "metadata": {},
     "output_type": "execute_result"
    },
    {
     "data": {
      "image/png": "[encoded data removed]",
      "text/plain": [
       "<matplotlib.figure.Figure at 0x7fbd7f5e8278>"
      ]
     },
     "metadata": {},
     "output_type": "display_data"
    }
   ],
   "source": [
    "# get absolute average loadings for surveys and tasks per component\n",
    "abs_survey_loadings = loading_df.filter(regex='survey', axis=0).iloc[:,:best_c].abs().mean()\n",
    "abs_task_loadings = loading_df.drop(loading_df.filter(regex='survey', axis=0).index, axis=0).iloc[:,:best_c].abs().mean()\n",
    "abs_average_loadings = pd.concat([abs_survey_loadings, abs_task_loadings],axis=1)\n",
    "abs_average_loadings.columns = ['survey','task']\n",
    "# get average loadings for surveys and tasks per component\n",
    "survey_loadings = loading_df.filter(regex='survey', axis=0).iloc[:,:best_c].mean()\n",
    "task_loadings = loading_df.drop(loading_df.filter(regex='survey', axis=0).index, axis=0).iloc[:,:best_c].mean()\n",
    "average_loadings = pd.concat([survey_loadings, task_loadings],axis=1)\n",
    "average_loadings.columns = ['survey','task']\n",
    "\n",
    "# plot\n",
    "fig, axes = plt.subplots(nrows=1, ncols=2, figsize=(16,6))\n",
    "abs_average_loadings.plot(kind='bar',legend=True, width=.8,  ax = axes[0])\n",
    "plt.xlabel('Component')\n",
    "axes[0].set_title('Average Absolute Loading')\n",
    "# add correlation of two components to plot\n",
    "corr = abs_average_loadings.corr().iloc[0,1]\n",
    "axes[0].text(4,.2, 'r = %.3f' % corr, fontsize=25)\n",
    "\n",
    "average_loadings.plot(kind='bar',legend=True, width=.8,  ax = axes[1])\n",
    "plt.xlabel('Component')\n",
    "axes[1].set_title('Average Loading')\n",
    "# add correlation of two components to plot\n",
    "corr = average_loadings.corr().iloc[0,1]\n",
    "axes[1].text(4,.1, 'r = %.3f' % corr, fontsize=25)"
   ]
  },
  {
   "cell_type": "markdown",
   "metadata": {},
   "source": [
    "### Task"
   ]
  },
  {
   "cell_type": "code",
   "execution_count": 89,
   "metadata": {
    "collapsed": false,
    "scrolled": true
   },
   "outputs": [],
   "source": [
    "task_results = results['task']\n",
    "best_c = task_results['psych_best_c']\n",
    "data = imputed_datasets['task']\n",
    "fa, output = psychFA(data, best_c)"
   ]
  },
  {
   "cell_type": "code",
   "execution_count": 90,
   "metadata": {
    "collapsed": false,
    "scrolled": false
   },
   "outputs": [
    {
     "name": "stdout",
     "output_type": "stream",
     "text": [
      "\n",
      "FACTOR 0\n",
      "stop_signal.hddm_drift                   0.692671\n",
      "simon.hddm_drift                         0.633429\n",
      "choice_reaction_time.hddm_drift          0.614646\n",
      "stroop.hddm_drift                        0.587859\n",
      "threebytwo.hddm_drift                    0.566864\n",
      "stim_selective_stop_signal.hddm_drift    0.557191\n",
      "Name: 0, dtype: float64\n",
      "\n",
      "FACTOR 1\n",
      "columbia_card_task_hot.information_use     0.603298\n",
      "adaptive_n_back.mean_load                  0.558345\n",
      "columbia_card_task_cold.information_use    0.545426\n",
      "columbia_card_task_hot.loss_sensitivity   -0.527985\n",
      "adaptive_n_back.hddm_drift                 0.498297\n",
      "ravens.score                               0.493820\n",
      "Name: 1, dtype: float64\n",
      "\n",
      "FACTOR 2\n",
      "simon.hddm_non_decision                          0.591898\n",
      "motor_selective_stop_signal.hddm_non_decision    0.589239\n",
      "choice_reaction_time.hddm_non_decision           0.546375\n",
      "attention_network_task.hddm_non_decision         0.535560\n",
      "stop_signal.SSRT_low                             0.534905\n",
      "stop_signal.SSRT_high                            0.534557\n",
      "Name: 2, dtype: float64\n",
      "\n",
      "FACTOR 3\n",
      "kirby.hyp_discount_rate_small.logTr               0.949830\n",
      "kirby.hyp_discount_rate_medium.logTr              0.912377\n",
      "kirby.hyp_discount_rate_large.logTr               0.889453\n",
      "discount_titrate.percent_patient                 -0.827875\n",
      "bickel_titrator.hyp_discount_rate_medium.logTr    0.681038\n",
      "bickel_titrator.hyp_discount_rate_large.logTr     0.508696\n",
      "Name: 3, dtype: float64\n",
      "\n",
      "FACTOR 4\n",
      "simon.hddm_thresh                          0.531061\n",
      "threebytwo.hddm_thresh                     0.525740\n",
      "shape_matching.hddm_thresh                 0.521986\n",
      "local_global_letter.hddm_thresh            0.490572\n",
      "attention_network_task.hddm_thresh         0.486699\n",
      "motor_selective_stop_signal.hddm_thresh    0.472832\n",
      "Name: 4, dtype: float64\n",
      "\n",
      "FACTOR 5\n",
      "information_sampling_task.Decreasing_Win_motivation    0.740313\n",
      "information_sampling_task.Fixed_Win_motivation         0.722105\n",
      "tower_of_london.avg_move_time                         -0.590566\n",
      "tower_of_london.num_extra_moves                        0.386304\n",
      "spatial_span.forward_span                              0.362745\n",
      "spatial_span.reverse_span                              0.341339\n",
      "Name: 5, dtype: float64\n",
      "\n",
      "FACTOR 6\n",
      "angling_risk_task_always_sunny.keep_adjusted_clicks       0.846269\n",
      "angling_risk_task_always_sunny.release_adjusted_clicks    0.796299\n",
      "angling_risk_task_always_sunny.keep_loss_percent          0.792465\n",
      "angling_risk_task_always_sunny.release_loss_percent       0.782207\n",
      "columbia_card_task_hot.avg_cards_chosen                   0.265675\n",
      "columbia_card_task_hot.probability_sensitivity           -0.168415\n",
      "Name: 6, dtype: float64\n",
      "\n",
      "FACTOR 7\n",
      "dot_pattern_expectancy.dprime              0.938818\n",
      "dot_pattern_expectancy.bias                0.716361\n",
      "dot_pattern_expectancy.hddm_drift          0.618642\n",
      "dot_pattern_expectancy.hddm_thresh         0.513829\n",
      "dot_pattern_expectancy.BX-BY_hddm_drift    0.460300\n",
      "choice_reaction_time.hddm_drift            0.240918\n",
      "Name: 7, dtype: float64\n"
     ]
    }
   ],
   "source": [
    "### Print top variables for each factor\n",
    "def print_top_factors(fa_output, n = 4):\n",
    "    # number of variables to display\n",
    "    loading_df = pd.DataFrame(fa_output['loadings'], index=data.columns)\n",
    "    for i,column in loading_df.iteritems():\n",
    "        sort_index = np.argsort(abs(column))[::-1] # descending order\n",
    "        top_vars = column[sort_index][0:n]\n",
    "        print('\\nFACTOR %s' % i)\n",
    "        print(top_vars)\n",
    "    return loading_df\n",
    "        \n",
    "loading_df = print_top_factors(output, 6)"
   ]
  },
  {
   "cell_type": "markdown",
   "metadata": {},
   "source": [
    "### Histogram of factor loadings and plot of histogram relationship\n",
    "We can see that factors 4 and 5 are really just pulling from a few variables. They are really \"task\" factors - tapping discounting tasks and the ART task respectively. The CCT Hot \"number of cards chosen\" maps onto factor 5, but to a far smaller extent"
   ]
  },
  {
   "cell_type": "code",
   "execution_count": null,
   "metadata": {
    "collapsed": false,
    "scrolled": false
   },
   "outputs": [],
   "source": [
    "sns.set_context('talk')\n",
    "loading_df.hist()"
   ]
  },
  {
   "cell_type": "markdown",
   "metadata": {},
   "source": [
    "The factors are roughly orthogonal. Orthogonality wasn't enforced, and factors were rotated using \"oblimin\""
   ]
  },
  {
   "cell_type": "code",
   "execution_count": null,
   "metadata": {
    "collapsed": false
   },
   "outputs": [],
   "source": [
    "plt.figure(figsize=(6,4))\n",
    "sns.heatmap(loading_df.corr())"
   ]
  },
  {
   "cell_type": "markdown",
   "metadata": {},
   "source": [
    "### Interpretation/Naming of Factors \n",
    "\n",
    "Factor 0: Speed of Processing (Drift)\n",
    "\n",
    "Factor 1: Memory/Abstraction\n",
    "\n",
    "Factor 2: Stimulus Encoding Time (Non-Decision)\n",
    "\n",
    "Factor 3: Response Caution (Threshold)\n",
    "\n",
    "Factor 4: Dicount Rate\n",
    "\n",
    "Factor 5: Risk Taking"
   ]
  },
  {
   "cell_type": "markdown",
   "metadata": {},
   "source": [
    "## Do the same for all other dimensionalities"
   ]
  },
  {
   "cell_type": "code",
   "execution_count": null,
   "metadata": {
    "collapsed": true
   },
   "outputs": [],
   "source": [
    "factor_names = {}"
   ]
  },
  {
   "cell_type": "code",
   "execution_count": null,
   "metadata": {
    "collapsed": false,
    "scrolled": true
   },
   "outputs": [],
   "source": [
    "fa, output = psychFA(data, 1)\n",
    "loading_df = print_top_factors(output,4)\n",
    "factor_names[1] = ['CogAblty']"
   ]
  },
  {
   "cell_type": "markdown",
   "metadata": {},
   "source": [
    "**One Factor**\n",
    "\n",
    "Factor 0: {{factor_names[1][0]}}\n"
   ]
  },
  {
   "cell_type": "code",
   "execution_count": null,
   "metadata": {
    "collapsed": false
   },
   "outputs": [],
   "source": [
    "fa, output = psychFA(data, 2)\n",
    "loading_df = print_top_factors(output, 6)\n",
    "factor_names[2] = ['Intelligence','Encoding Time']"
   ]
  },
  {
   "cell_type": "markdown",
   "metadata": {},
   "source": [
    "**Two Factors**\n",
    "\n",
    "Factor 0: {{factor_names[2][0]}}\n",
    "\n",
    "Factor 1: {{factor_names[2][1]}}"
   ]
  },
  {
   "cell_type": "code",
   "execution_count": null,
   "metadata": {
    "collapsed": false
   },
   "outputs": [],
   "source": [
    "fa, output = psychFA(data, 3)\n",
    "loading_df = print_top_factors(output, 6)\n",
    "factor_names[3] = ['Drift','Dicount','Encoding Time']"
   ]
  },
  {
   "cell_type": "markdown",
   "metadata": {},
   "source": [
    "**Three Factors**\n",
    "\n",
    "Factor 0: {{factor_names[3][0]}}\n",
    "\n",
    "Factor 1: {{factor_names[3][1]}}\n",
    "\n",
    "Factor 2: {{factor_names[3][2]}}"
   ]
  },
  {
   "cell_type": "code",
   "execution_count": null,
   "metadata": {
    "collapsed": false
   },
   "outputs": [],
   "source": [
    "fa, output = psychFA(data, 4)\n",
    "loading_df = print_top_factors(output, 4)\n",
    "factor_names[4] = ['Drift','Encoding Time','Discount','Mem/Unclear']"
   ]
  },
  {
   "cell_type": "markdown",
   "metadata": {},
   "source": [
    "**Four Factors**\n",
    "\n",
    "Factor 0: {{factor_names[4][0]}}\n",
    "\n",
    "Factor 1: {{factor_names[4][1]}}\n",
    "\n",
    "Factor 2: {{factor_names[4][2]}}\n",
    "\n",
    "Factor 3: {{factor_names[4][3]}}"
   ]
  },
  {
   "cell_type": "code",
   "execution_count": null,
   "metadata": {
    "collapsed": false
   },
   "outputs": [],
   "source": [
    "fa, output = psychFA(data, 5)\n",
    "loading_df = print_top_factors(output, 6)\n",
    "factor_names[5] = ['Drift','Encoding Time','Mem/Unclear','Discount','Thresh']"
   ]
  },
  {
   "cell_type": "markdown",
   "metadata": {},
   "source": [
    "**Five Factors**\n",
    "\n",
    "Factor 0: {{factor_names[5][0]}}\n",
    "\n",
    "Factor 1: {{factor_names[5][1]}}\n",
    "\n",
    "Factor 2: {{factor_names[5][2]}}\n",
    "\n",
    "Factor 3: {{factor_names[5][3]}}\n",
    "\n",
    "Factor 4: {{factor_names[5][4]}}"
   ]
  },
  {
   "cell_type": "code",
   "execution_count": null,
   "metadata": {
    "collapsed": false
   },
   "outputs": [],
   "source": [
    "fa, output = psychFA(data, 6)\n",
    "loading_df = print_top_factors(output)\n",
    "factor_names[6] = ['Drift','Encoding Time','Discount','Thresh','Mem','Risk']"
   ]
  },
  {
   "cell_type": "markdown",
   "metadata": {},
   "source": [
    "**Six Factors**\n",
    "\n",
    "Factor 0: {{factor_names[6][0]}}\n",
    "\n",
    "Factor 1: {{factor_names[6][1]}}\n",
    "\n",
    "Factor 2: {{factor_names[6][2]}}\n",
    "\n",
    "Factor 3: {{factor_names[6][3]}}\n",
    "\n",
    "Factor 4: {{factor_names[6][4]}}\n",
    "\n",
    "Factor 5: {{factor_names[6][5]}}"
   ]
  },
  {
   "cell_type": "markdown",
   "metadata": {},
   "source": [
    "### Plot relationships between solutions at different dimensionalities\n",
    "\n",
    "Each factor analytic solution gives us some components. By correlating the components at one level with the next, we can get a sense for how similar these components are. When we move to 3 dimensions from 2, is it the case that one of the dimensions just split? Or is there a new, non-hierarchical parcellation of the space?\n",
    "\n"
   ]
  },
  {
   "cell_type": "code",
   "execution_count": null,
   "metadata": {
    "collapsed": false
   },
   "outputs": [],
   "source": [
    "# helper functions for plotting dimensionality relations\n",
    "# compute FA with different dimensionalities and quantify similarity\n",
    "def dimensional_similarity(factors, reference):\n",
    "    ''' This function returns an N x M correlation matrix where N is the number\n",
    "    of reference (lower dimension) factors and M is the number of higher dimension\n",
    "    factors\n",
    "    '''\n",
    "    relation = np.corrcoef(reference.T, factors.T)\n",
    "    # each row is a reference factor, each column a new factor\n",
    "    relation=relation[:reference.shape[1], reference.shape[1]:]\n",
    "    return relation\n",
    "\n",
    "def construct_relational_tree(similarities, labels=None, filey=None):\n",
    "    ''' Takes a list of similarities and constructs a tree graph, then plots\n",
    "    '''\n",
    "    G = igraph.Graph()\n",
    "    layer_start = 0\n",
    "    colors = ['red','blue','green','violet']*4\n",
    "    for similarity in similarities:\n",
    "        curr_color = colors.pop()\n",
    "        origin_length = similarity.shape[0]\n",
    "        target_length = similarity.shape[1]\n",
    "        if len(G.vs)==0:\n",
    "            G.add_vertices(origin_length)\n",
    "        G.add_vertices(target_length)\n",
    "        for i in range(origin_length):\n",
    "            for j in range(target_length):\n",
    "                G.add_edge(i+layer_start,j+origin_length+layer_start,\n",
    "                           weight=abs(similarity[i,j]*5),color = curr_color)\n",
    "        layer_start+=similarity.shape[0]\n",
    "    layout = G.layout_reingold_tilford(root = [0])\n",
    "    if labels == None:\n",
    "        labels = G.vs.indices\n",
    "    plot = igraph.plot(G, layout=layout, **{'inline': True, 'vertex_label': labels, \n",
    "                                            'vertex_color': 'white',\n",
    "                                            'vertex_size': 50, \n",
    "                                         'edge_width':[w for w in G.es['weight']], \n",
    "                                         'edge_color': G.es['color'], \n",
    "                                            'bbox': (1000,1000), 'margin':100})\n",
    "    if filey:\n",
    "        plot.save(filey)\n",
    "    #G.write_dot('test.dot')\n",
    "    return G\n"
   ]
  },
  {
   "cell_type": "code",
   "execution_count": null,
   "metadata": {
    "collapsed": false
   },
   "outputs": [],
   "source": [
    "# construct array of component similarities\n",
    "similarities = []\n",
    "components = np.sort(list(factor_names.keys()))\n",
    "reference = None\n",
    "for c in components:\n",
    "    fa, output = psychFA(data,c)\n",
    "    result = pd.DataFrame(output['scores'], data.index)\n",
    "    if reference is not None:\n",
    "        similarity = dimensional_similarity(result,reference)\n",
    "        similarities.append(similarity)\n",
    "    reference = result\n",
    "\n",
    "\n"
   ]
  },
  {
   "cell_type": "code",
   "execution_count": null,
   "metadata": {
    "collapsed": false
   },
   "outputs": [],
   "source": [
    "# plot component similarity tree\n",
    "labels = []\n",
    "for c in components:\n",
    "    labels+=factor_names[c]\n",
    "similarity_tree = construct_relational_tree(similarities, \n",
    "                                            labels=labels, filey=path.join('Plots', 'task_graph.png'))"
   ]
  },
  {
   "cell_type": "markdown",
   "metadata": {},
   "source": [
    "## Interpret best components (Sklearn)\n",
    "\n",
    "Because it doesn't perform rotation, and doesn't give components and scores, this is difficult to interpret.\n",
    "\n",
    "It gives \"components\" (analagous to the scores in FA - a n_component X feature matrix - which is roughly the weight of each feature in calculating the final scores.\n",
    "\n",
    "If you use \"fit_transform\" you can then plot subjects in factor space. This uses the weight matrix (components) to transform the n_sample x n_feature matrix into an n_sample x n_component matrix"
   ]
  },
  {
   "cell_type": "code",
   "execution_count": null,
   "metadata": {
    "collapsed": false
   },
   "outputs": [],
   "source": [
    "complete_results = results['complete']\n",
    "best_c = complete_results['sklearn_best_c']\n",
    "data = imputed_datasets['complete']\n",
    "fa=FactorAnalysis(best_c)\n",
    "fa.fit(data)\n",
    "loading_df = pd.DataFrame(fa.components_.T,index=data.columns)"
   ]
  },
  {
   "cell_type": "code",
   "execution_count": null,
   "metadata": {
    "collapsed": false,
    "scrolled": false
   },
   "outputs": [],
   "source": [
    "### Print top variables for each factor\n",
    "def print_top_factors(loading_df, n = 4):\n",
    "    for i,column in loading_df.iteritems():\n",
    "        sort_index = np.argsort(abs(column))[::-1] # descending order\n",
    "        top_vars = column[sort_index][0:n]\n",
    "        print('\\nFACTOR %s' % i)\n",
    "        print(top_vars)\n",
    "        \n",
    "print_top_factors(loading_df, 6)\n"
   ]
  },
  {
   "cell_type": "markdown",
   "metadata": {},
   "source": [
    "# Comparing methods to ensure identical results"
   ]
  },
  {
   "cell_type": "code",
   "execution_count": 8,
   "metadata": {
    "collapsed": true
   },
   "outputs": [],
   "source": [
    "data = imputed_datasets['task']\n",
    "n_components = 7\n",
    "scaler = StandardScaler()"
   ]
  },
  {
   "cell_type": "code",
   "execution_count": 87,
   "metadata": {
    "collapsed": false
   },
   "outputs": [],
   "source": [
    "# run sklearn fa\n",
    "fa = FactorAnalysis(n_components)\n",
    "pipeline = make_pipeline(scaler, fa)\n",
    "scipy_data = pd.DataFrame(pipeline.fit_transform(data), columns=['sklearn_%s' % i for i in range(n_components)])\n",
    "# run psych fa\n",
    "psych_fa, output = psychFA(data,n_components,rotate='none', method='ml')\n",
    "psych_data = pd.DataFrame(output['scores'],columns=['psych_%s' % i for i in range(n_components)])"
   ]
  },
  {
   "cell_type": "code",
   "execution_count": 90,
   "metadata": {
    "collapsed": false,
    "scrolled": false
   },
   "outputs": [
    {
     "data": {
      "text/plain": [
       "<matplotlib.text.Text at 0x7fb7184f0d30>"
      ]
     },
     "execution_count": 90,
     "metadata": {},
     "output_type": "execute_result"
    },
    {
     "data": {
      "image/png": "[encoded data removed]",
      "text/plain": [
       "<matplotlib.figure.Figure at 0x7fb718877f60>"
      ]
     },
     "metadata": {},
     "output_type": "display_data"
    }
   ],
   "source": [
    "sklearn_loadings = pd.DataFrame(fa.components_.T, columns=['sklearn_%s' % i for i in range(n_components)])\n",
    "psych_loadings = pd.DataFrame(output['loadings'],columns=['psych_%s' % i for i in range(n_components)])\n",
    "both_loadings = pd.concat([psych_loadings,sklearn_loadings], axis=1)\n",
    "# visualize relationship between components\n",
    "loadings_corr = both_loadings.corr()\n",
    "sns.heatmap(loadings_corr)\n",
    "plt.title('Correlation between psych factors and sklearn factors')"
   ]
  },
  {
   "cell_type": "code",
   "execution_count": 72,
   "metadata": {
    "collapsed": false
   },
   "outputs": [
    {
     "name": "stdout",
     "output_type": "stream",
     "text": [
      "Highest correlation between components: psych_0    0.984638\n",
      "psych_1    0.990667\n",
      "psych_2    0.946791\n",
      "psych_3    0.975696\n",
      "psych_4    0.693679\n",
      "psych_5    0.690884\n",
      "psych_6    0.433781\n",
      "dtype: float64\n",
      "\n",
      "Best matching component: psych_0    sklearn_0\n",
      "psych_1    sklearn_2\n",
      "psych_2    sklearn_1\n",
      "psych_3    sklearn_3\n",
      "psych_4    sklearn_5\n",
      "psych_5    sklearn_5\n",
      "psych_6    sklearn_5\n",
      "dtype: object\n",
      "\n"
     ]
    }
   ],
   "source": [
    "# report the sklearn components that have the maximal absolute correlation with the psych components\n",
    "max_mapping = abs(loadings_corr.iloc[7:,0:7]).max()\n",
    "best_mapping = abs(loadings_corr.iloc[7:,0:7]).idxmax()\n",
    "signed_corr = (loadings_corr>0)*2-1\n",
    "signed_mapping = [signed_corr.loc[i] for i in best_mapping]\n",
    "print('Highest correlation between components: %s\\n' % max_mapping)\n",
    "print('Best matching component: %s\\n' %best_mapping)"
   ]
  },
  {
   "cell_type": "markdown",
   "metadata": {},
   "source": [
    "To interrogate whether the output is the same, look at the loadings of the first variable onto components. The loadings are completely different values"
   ]
  },
  {
   "cell_type": "code",
   "execution_count": 91,
   "metadata": {
    "collapsed": false
   },
   "outputs": [
    {
     "data": {
      "text/plain": [
       "<matplotlib.text.Text at 0x7fb7184533c8>"
      ]
     },
     "execution_count": 91,
     "metadata": {},
     "output_type": "execute_result"
    },
    {
     "data": {
      "image/png": "[encoded data removed]",
      "text/plain": [
       "<matplotlib.figure.Figure at 0x7fb718593be0>"
      ]
     },
     "metadata": {},
     "output_type": "display_data"
    }
   ],
   "source": [
    "sns.heatmap(pd.concat([scipy_data,psych_data], axis=1).corr())\n",
    "plt.title('Correlation between psych scores and sklearn reconstruction')"
   ]
  }
 ],
 "metadata": {
  "anaconda-cloud": {},
  "kernelspec": {
   "display_name": "Python [py34]",
   "language": "python",
   "name": "Python [py34]"
  },
  "language_info": {
   "codemirror_mode": {
    "name": "ipython",
    "version": 3
   },
   "file_extension": ".py",
   "mimetype": "text/x-python",
   "name": "python",
   "nbconvert_exporter": "python",
   "pygments_lexer": "ipython3",
   "version": "3.4.5"
  },
  "toc": {
   "colors": {
    "hover_highlight": "#DAA520",
    "running_highlight": "#FF0000",
    "selected_highlight": "#FFD700"
   },
   "moveMenuLeft": true,
   "nav_menu": {
    "height": "300px",
    "width": "252px"
   },
   "navigate_menu": true,
   "number_sections": true,
   "sideBar": true,
   "threshold": 4,
   "toc_cell": false,
   "toc_section_display": "block",
   "toc_window_display": false
  }
 },
 "nbformat": 4,
 "nbformat_minor": 0
}
