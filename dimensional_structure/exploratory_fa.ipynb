{
 "cells": [
  {
   "cell_type": "code",
   "execution_count": 1,
   "metadata": {
    "collapsed": false
   },
   "outputs": [
    {
     "name": "stderr",
     "output_type": "stream",
     "text": [
      "Using TensorFlow backend.\n"
     ]
    }
   ],
   "source": [
    "import igraph\n",
    "import matplotlib.pyplot as plt\n",
    "import numpy as np\n",
    "from os import path\n",
    "import pandas as pd\n",
    "import seaborn as sns\n",
    "from selfregulation.utils.utils import get_behav_data\n",
    "from sklearn.decomposition import FactorAnalysis\n",
    "from sklearn.model_selection import KFold\n",
    "from selfregulation.utils.r_to_py_utils import GPArotation, missForest, psychFA\n",
    "from fancyimpute import SoftImpute\n",
    "%matplotlib inline"
   ]
  },
  {
   "cell_type": "markdown",
   "metadata": {},
   "source": [
    "# Calculate best number of components based on CV ML (SKlearn)"
   ]
  },
  {
   "cell_type": "markdown",
   "metadata": {},
   "source": [
    "### Load Data\n",
    "\n",
    "Load both cleaned and imputed data. Set up a helper function to quickly impute data within the Kfold split. Can't use data where imputation was performed over the whole dataset as there will be data leakage between training and test."
   ]
  },
  {
   "cell_type": "code",
   "execution_count": 2,
   "metadata": {
    "collapsed": true
   },
   "outputs": [],
   "source": [
    "# using for speed, for the time being\n",
    "def SoftImpute_df(data):\n",
    "    imputed_mat = SoftImpute(verbose=False).complete(data)\n",
    "    return pd.DataFrame(data=imputed_mat, columns=data.columns, index=data.index)"
   ]
  },
  {
   "cell_type": "code",
   "execution_count": 3,
   "metadata": {
    "collapsed": false
   },
   "outputs": [
    {
     "name": "stdout",
     "output_type": "stream",
     "text": [
      "Getting datasets...:\n",
      " /home/ian/Experiments/expfactory/Self_Regulation_Ontology/Data/Discovery_01-16-2017\n",
      " /home/ian/Experiments/expfactory/Self_Regulation_Ontology/Data/Validation_01-16-2017\n",
      "Getting datasets...:\n",
      " /home/ian/Experiments/expfactory/Self_Regulation_Ontology/Data/Complete_12-15-2016\n",
      "Getting datasets...:\n",
      " /home/ian/Experiments/expfactory/Self_Regulation_Ontology/Data/Complete_12-15-2016\n",
      "Getting datasets...:\n",
      " /home/ian/Experiments/expfactory/Self_Regulation_Ontology/Data/Complete_12-15-2016\n",
      "Getting datasets...:\n",
      " /home/ian/Experiments/expfactory/Self_Regulation_Ontology/Data/Complete_12-15-2016\n"
     ]
    }
   ],
   "source": [
    "# load data\n",
    "data = get_behav_data(file = 'taskdata_clean.csv', full_dataset = True)\n",
    "# imputed data\n",
    "imputed_data = get_behav_data(dataset = 'Complete_12-15-2016', file = 'meaningful_variables_imputed.csv')\n",
    "imputed_task_data = get_behav_data(dataset = 'Complete_12-15-2016', file = 'taskdata_imputed.csv')\n",
    "imputed_survey_data = imputed_data.drop(imputed_task_data.columns, axis = 1)\n",
    "imputed_datasets = {'survey': imputed_survey_data, 'task': imputed_task_data, 'complete': imputed_data}\n",
    "# cleaned data \n",
    "cleaned_data = get_behav_data(dataset = 'Complete_12-15-2016', file = 'meaningful_variables_clean.csv')\n",
    "cleaned_task_data = get_behav_data(dataset = 'Complete_12-15-2016', file = 'taskdata_clean.csv')\n",
    "cleaned_survey_data = cleaned_data.drop(cleaned_task_data.columns, axis = 1)\n",
    "cleaned_datasets = {'survey': cleaned_survey_data, 'task': cleaned_task_data, 'complete': cleaned_data}\n",
    "\n",
    "results = {'survey': {}, 'task': {}, 'complete': {}}"
   ]
  },
  {
   "cell_type": "markdown",
   "metadata": {},
   "source": [
    "### Determine optimal number of factors\n",
    "Two methods\n",
    "\n",
    "Sklearn using cross-validated prediction\n",
    "R's Psych package looking for best fitting model across all the data, penalized for complexity (BIC)"
   ]
  },
  {
   "cell_type": "code",
   "execution_count": 4,
   "metadata": {
    "collapsed": false,
    "scrolled": false
   },
   "outputs": [
    {
     "name": "stdout",
     "output_type": "stream",
     "text": [
      "Dataset: task\n",
      "Best Component:  7\n",
      "Dataset: complete\n",
      "Best Component:  8\n",
      "Dataset: survey\n",
      "Best Component:  10\n"
     ]
    },
    {
     "data": {
      "text/plain": [
       "<matplotlib.text.Text at 0x7f4600b11c18>"
      ]
     },
     "execution_count": 4,
     "metadata": {},
     "output_type": "execute_result"
    },
    {
     "data": {
      "image/png": "[encoded data removed]",
      "text/plain": [
       "<matplotlib.figure.Figure at 0x7f460bb8d978>"
      ]
     },
     "metadata": {},
     "output_type": "display_data"
    }
   ],
   "source": [
    "def CV_optimal_components(data, cv):\n",
    "    # find best number of components\n",
    "    n_components = range(1,12)\n",
    "    best_c = 0\n",
    "    component_scores = []\n",
    "    for c in n_components:\n",
    "        fa=FactorAnalysis(c)\n",
    "        scores = []\n",
    "        # cross-validate fit across different train/test splits\n",
    "        for train_index, test_index in kf.split(data.values):\n",
    "            data_train, data_test = data.iloc[train_index], \\\n",
    "                                    data.iloc[test_index]\n",
    "            # Impute (replace with missForest later)\n",
    "            imputed_train = SoftImpute_df(data_train)\n",
    "            imputed_test = SoftImpute_df(data_test)\n",
    "            # fit model on training\n",
    "            fa.fit(imputed_train)\n",
    "            # score on test set\n",
    "            scores.append(fa.score(imputed_test))\n",
    "        #average score across kfolds\n",
    "        score = np.mean(scores)\n",
    "        component_scores.append(score)\n",
    "    best_c = np.argmax(component_scores)\n",
    "    print('Best Component: ', best_c)\n",
    "    return best_c, component_scores\n",
    "\n",
    "kf = KFold(n_splits = 4)\n",
    "for label,data in cleaned_datasets.items():\n",
    "    print('Dataset: %s' % label)\n",
    "    best_c, scores= CV_optimal_components(data, kf)\n",
    "    results[label]['sklearn_best_c'] = best_c\n",
    "    results[label]['CV_scores'] = scores\n",
    "    \n",
    "for score in [d['CV_scores'] for d in results.values()]:\n",
    "    plt.plot(range(len(score)),score, '-o')\n",
    "plt.legend(results.keys(), loc = 'best')\n",
    "plt.xlabel('# Components')\n",
    "plt.ylabel('Score')"
   ]
  },
  {
   "cell_type": "markdown",
   "metadata": {},
   "source": [
    "### Calculate best number of components using BIC (R Psych package)"
   ]
  },
  {
   "cell_type": "code",
   "execution_count": 5,
   "metadata": {
    "collapsed": false,
    "scrolled": false
   },
   "outputs": [
    {
     "name": "stdout",
     "output_type": "stream",
     "text": [
      "Dataset: task\n"
     ]
    },
    {
     "name": "stderr",
     "output_type": "stream",
     "text": [
      "/home/ian/miniconda3/envs/py34/lib/python3.4/site-packages/rpy2/rinterface/__init__.py:186: RRuntimeWarning: Loading required namespace: GPArotation\n",
      "\n",
      "  warnings.warn(x, RRuntimeWarning)\n"
     ]
    },
    {
     "name": "stdout",
     "output_type": "stream",
     "text": [
      "Best Component:  6\n",
      "Dataset: complete\n",
      "Best Component:  9\n",
      "Dataset: survey\n",
      "Best Component:  10\n"
     ]
    },
    {
     "data": {
      "text/plain": [
       "<matplotlib.text.Text at 0x7f45ffb12518>"
      ]
     },
     "execution_count": 5,
     "metadata": {},
     "output_type": "execute_result"
    },
    {
     "data": {
      "image/png": "[encoded data removed]",
      "text/plain": [
       "<matplotlib.figure.Figure at 0x7f460bb67390>"
      ]
     },
     "metadata": {},
     "output_type": "display_data"
    }
   ],
   "source": [
    "def BIC_optimal_components(data):\n",
    "    BICs = []\n",
    "    outputs = []\n",
    "    n_components = range(1,12)\n",
    "    for c in n_components:\n",
    "        fa, output = psychFA(data, c)\n",
    "        BICs.append(output['BIC'])\n",
    "        outputs.append(output)\n",
    "    best_c = np.argmin(BICs)\n",
    "    print('Best Component: ', best_c)\n",
    "    return best_c, BICs\n",
    "\n",
    "for label,data in imputed_datasets.items():\n",
    "    print('Dataset: %s' % label)\n",
    "    best_c, BICs = BIC_optimal_components(data)\n",
    "    results[label]['psych_best_c'] = best_c\n",
    "    results[label]['psych_BICs'] = BICs\n",
    "    \n",
    "for bic in [d['psych_BICs'] for d in results.values()]:\n",
    "    plt.plot(range(len(bic)),bic, '-o')\n",
    "plt.legend(results.keys(), loc = 'best')\n",
    "plt.xlabel('# Components')\n",
    "plt.ylabel('Score')"
   ]
  },
  {
   "cell_type": "markdown",
   "metadata": {
    "variables": {
     "results['complete']['psych_best_c']": "9",
     "results['complete']['sklearn_best_c']": "8",
     "results['survey']['psych_best_c']": "10",
     "results['survey']['sklearn_best_c']": "10",
     "results['task']['psych_best_c']": "6",
     "results['task']['sklearn_best_c']": "7"
    }
   },
   "source": [
    "# Interpret Task Factor Analysis Solution\n",
    "Above we found that the best number of components were as follows:\n",
    "\n",
    "**SKlearn**:\n",
    "\n",
    "Task: {{results['task']['sklearn_best_c']}}\n",
    "\n",
    "Survey: {{results['survey']['sklearn_best_c']}}\n",
    "\n",
    "Complete: {{results['complete']['sklearn_best_c']}}\n",
    "\n",
    "**Psych**:\n",
    "\n",
    "Task: {{results['task']['psych_best_c']}}\n",
    "\n",
    "Survey: {{results['survey']['psych_best_c']}}\n",
    "\n",
    "Complete: {{results['complete']['psych_best_c']}}\n",
    "\n",
    "Because psych performs rotation, is more widely used, we will use that as our main analysis. All analyses will be repeated with the sklearn pipeline as well. First we will look at the best number of components, then we will look at the solution at each dimensionality and plot the relationships between dimensions"
   ]
  },
  {
   "cell_type": "markdown",
   "metadata": {},
   "source": [
    "### Interpret best components"
   ]
  },
  {
   "cell_type": "code",
   "execution_count": 6,
   "metadata": {
    "collapsed": false,
    "scrolled": true
   },
   "outputs": [],
   "source": [
    "task_results = results['task']\n",
    "best_c = task_results['psych_best_c']\n",
    "data = imputed_datasets['task']\n",
    "fa, output = psychFA(data, best_c)"
   ]
  },
  {
   "cell_type": "code",
   "execution_count": 7,
   "metadata": {
    "collapsed": false,
    "scrolled": false
   },
   "outputs": [
    {
     "name": "stdout",
     "output_type": "stream",
     "text": [
      "\n",
      "FACTOR 0\n",
      "choice_reaction_time.hddm_drift      0.797634\n",
      "shape_matching.hddm_drift            0.688741\n",
      "simon.hddm_drift                     0.680350\n",
      "dot_pattern_expectancy.hddm_drift    0.652253\n",
      "stop_signal.hddm_drift               0.649992\n",
      "directed_forgetting.hddm_drift       0.606682\n",
      "Name: 0, dtype: float64\n",
      "\n",
      "FACTOR 1\n",
      "adaptive_n_back.mean_load                         0.648858\n",
      "adaptive_n_back.hddm_drift                        0.580791\n",
      "spatial_span.reverse_span                         0.553749\n",
      "spatial_span.forward_span                         0.550134\n",
      "cognitive_reflection_survey.correct_proportion    0.533210\n",
      "ravens.score                                      0.493185\n",
      "Name: 1, dtype: float64\n",
      "\n",
      "FACTOR 2\n",
      "motor_selective_stop_signal.hddm_non_decision    0.612371\n",
      "attention_network_task.hddm_non_decision         0.573814\n",
      "simon.hddm_non_decision                          0.572454\n",
      "stop_signal.SSRT_high                            0.553527\n",
      "stop_signal.SSRT_low                             0.552724\n",
      "choice_reaction_time.hddm_non_decision           0.531540\n",
      "Name: 2, dtype: float64\n",
      "\n",
      "FACTOR 3\n",
      "shape_matching.hddm_thresh                 0.539046\n",
      "simon.hddm_thresh                          0.524926\n",
      "local_global_letter.hddm_thresh            0.518721\n",
      "motor_selective_stop_signal.hddm_thresh    0.509523\n",
      "threebytwo.hddm_thresh                     0.506954\n",
      "attention_network_task.hddm_thresh         0.506226\n",
      "Name: 3, dtype: float64\n",
      "\n",
      "FACTOR 4\n",
      "kirby.hyp_discount_rate_small.logTr               0.947289\n",
      "kirby.hyp_discount_rate_medium.logTr              0.913142\n",
      "kirby.hyp_discount_rate_large.logTr               0.893898\n",
      "discount_titrate.percent_patient                 -0.826691\n",
      "bickel_titrator.hyp_discount_rate_medium.logTr    0.683602\n",
      "bickel_titrator.hyp_discount_rate_large.logTr     0.501872\n",
      "Name: 4, dtype: float64\n",
      "\n",
      "FACTOR 5\n",
      "angling_risk_task_always_sunny.keep_adjusted_clicks       0.850245\n",
      "angling_risk_task_always_sunny.keep_loss_percent          0.797778\n",
      "angling_risk_task_always_sunny.release_adjusted_clicks    0.783397\n",
      "angling_risk_task_always_sunny.release_loss_percent       0.774018\n",
      "columbia_card_task_hot.avg_cards_chosen                   0.217015\n",
      "columbia_card_task_hot.probability_sensitivity           -0.189114\n",
      "Name: 5, dtype: float64\n"
     ]
    }
   ],
   "source": [
    "### Print top variables for each factor\n",
    "def print_top_factors(fa_output, n = 4):\n",
    "    # number of variables to display\n",
    "    loading_df = pd.DataFrame(fa_output['loadings'], index=data.columns)\n",
    "    for i,column in loading_df.iteritems():\n",
    "        sort_index = np.argsort(abs(column))[::-1] # descending order\n",
    "        top_vars = column[sort_index][0:n]\n",
    "        print('\\nFACTOR %s' % i)\n",
    "        print(top_vars)\n",
    "    return loading_df\n",
    "        \n",
    "loading_df = print_top_factors(output, 6)"
   ]
  },
  {
   "cell_type": "markdown",
   "metadata": {},
   "source": [
    "### Histogram of factor loadings and plot of histogram relationship\n",
    "We can see that factors 4 and 5 are really just pulling from a few variables. They are really \"task\" factors - tapping discounting tasks and the ART task respectively. The CCT Hot \"number of cards chosen\" maps onto factor 5, but to a far smaller extent"
   ]
  },
  {
   "cell_type": "code",
   "execution_count": 8,
   "metadata": {
    "collapsed": false,
    "scrolled": false
   },
   "outputs": [
    {
     "data": {
      "text/plain": [
       "array([[<matplotlib.axes._subplots.AxesSubplot object at 0x7f45ffb63e48>,\n",
       "        <matplotlib.axes._subplots.AxesSubplot object at 0x7f45ffa967b8>],\n",
       "       [<matplotlib.axes._subplots.AxesSubplot object at 0x7f45ff7d68d0>,\n",
       "        <matplotlib.axes._subplots.AxesSubplot object at 0x7f45ff8134a8>],\n",
       "       [<matplotlib.axes._subplots.AxesSubplot object at 0x7f45ff7ad4e0>,\n",
       "        <matplotlib.axes._subplots.AxesSubplot object at 0x7f45ff7682b0>]], dtype=object)"
      ]
     },
     "execution_count": 8,
     "metadata": {},
     "output_type": "execute_result"
    },
    {
     "data": {
      "image/png": "[encoded data removed]",
      "text/plain": [
       "<matplotlib.figure.Figure at 0x7f45ffb4aeb8>"
      ]
     },
     "metadata": {},
     "output_type": "display_data"
    }
   ],
   "source": [
    "sns.set_context('talk')\n",
    "loading_df.hist()"
   ]
  },
  {
   "cell_type": "markdown",
   "metadata": {},
   "source": [
    "The factors are roughly orthogonal. Orthogonality wasn't enforced, and factors were rotated using \"oblimin\""
   ]
  },
  {
   "cell_type": "code",
   "execution_count": 9,
   "metadata": {
    "collapsed": false
   },
   "outputs": [
    {
     "data": {
      "text/plain": [
       "<matplotlib.axes._subplots.AxesSubplot at 0x7f45ff6fa240>"
      ]
     },
     "execution_count": 9,
     "metadata": {},
     "output_type": "execute_result"
    },
    {
     "data": {
      "image/png": "[encoded data removed]",
      "text/plain": [
       "<matplotlib.figure.Figure at 0x7f45ff6c21d0>"
      ]
     },
     "metadata": {},
     "output_type": "display_data"
    }
   ],
   "source": [
    "plt.figure(figsize=(6,4))\n",
    "sns.heatmap(loading_df.corr())"
   ]
  },
  {
   "cell_type": "markdown",
   "metadata": {},
   "source": [
    "### Interpretation/Naming of Factors \n",
    "\n",
    "Factor 0: Speed of Processing (Drift)\n",
    "\n",
    "Factor 1: Memory/Abstraction\n",
    "\n",
    "Factor 2: Stimulus Encoding Time (Non-Decision)\n",
    "\n",
    "Factor 3: Response Caution (Threshold)\n",
    "\n",
    "Factor 4: Dicount Rate\n",
    "\n",
    "Factor 5: Risk Taking"
   ]
  },
  {
   "cell_type": "markdown",
   "metadata": {},
   "source": [
    "## Do the same for all other dimensionalities"
   ]
  },
  {
   "cell_type": "code",
   "execution_count": 10,
   "metadata": {
    "collapsed": true
   },
   "outputs": [],
   "source": [
    "factor_names = {}"
   ]
  },
  {
   "cell_type": "markdown",
   "metadata": {},
   "source": [
    "**One Factor**\n",
    "\n",
    "Factor 0: Cognitive Ability"
   ]
  },
  {
   "cell_type": "code",
   "execution_count": 11,
   "metadata": {
    "collapsed": false,
    "scrolled": true
   },
   "outputs": [
    {
     "name": "stdout",
     "output_type": "stream",
     "text": [
      "\n",
      "FACTOR 0\n",
      "threebytwo.hddm_drift             0.690205\n",
      "directed_forgetting.hddm_drift    0.638651\n",
      "adaptive_n_back.mean_load         0.626469\n",
      "ravens.score                      0.626214\n",
      "Name: 0, dtype: float64\n"
     ]
    }
   ],
   "source": [
    "fa, output = psychFA(data, 1)\n",
    "loading_df = print_top_factors(output)\n",
    "factor_names[1] = ['CogAblty']"
   ]
  },
  {
   "cell_type": "markdown",
   "metadata": {},
   "source": [
    "**Two Factors**\n",
    "\n",
    "Factor 0: Speed of Processing (Drift)\n",
    "\n",
    "Factor 1: Discount Rate"
   ]
  },
  {
   "cell_type": "code",
   "execution_count": 12,
   "metadata": {
    "collapsed": false
   },
   "outputs": [
    {
     "name": "stdout",
     "output_type": "stream",
     "text": [
      "\n",
      "FACTOR 0\n",
      "threebytwo.hddm_drift                0.702483\n",
      "directed_forgetting.hddm_drift       0.701207\n",
      "dot_pattern_expectancy.hddm_drift    0.694666\n",
      "choice_reaction_time.hddm_drift      0.670296\n",
      "simon.hddm_drift                     0.643229\n",
      "recent_probes.hddm_drift             0.639076\n",
      "Name: 0, dtype: float64\n",
      "\n",
      "FACTOR 1\n",
      "kirby.hyp_discount_rate_small.logTr               0.930875\n",
      "kirby.hyp_discount_rate_medium.logTr              0.915449\n",
      "kirby.hyp_discount_rate_large.logTr               0.889102\n",
      "discount_titrate.percent_patient                 -0.827890\n",
      "bickel_titrator.hyp_discount_rate_medium.logTr    0.693354\n",
      "bickel_titrator.hyp_discount_rate_large.logTr     0.517001\n",
      "Name: 1, dtype: float64\n"
     ]
    }
   ],
   "source": [
    "fa, output = psychFA(data, 2)\n",
    "loading_df = print_top_factors(output, 6)\n",
    "factor_names[2] = ['Drift','Discount']"
   ]
  },
  {
   "cell_type": "markdown",
   "metadata": {},
   "source": [
    "**Three Factors**\n",
    "\n",
    "Factor 0: Speed of Processing (Drift)\n",
    "\n",
    "Factor 1: Encoding Time (Non-Decision)\n",
    "\n",
    "Factor 2: Discount Rate"
   ]
  },
  {
   "cell_type": "code",
   "execution_count": 13,
   "metadata": {
    "collapsed": false
   },
   "outputs": [
    {
     "name": "stdout",
     "output_type": "stream",
     "text": [
      "\n",
      "FACTOR 0\n",
      "threebytwo.hddm_drift                0.703120\n",
      "dot_pattern_expectancy.hddm_drift    0.696188\n",
      "directed_forgetting.hddm_drift       0.694761\n",
      "choice_reaction_time.hddm_drift      0.691004\n",
      "simon.hddm_drift                     0.667436\n",
      "stop_signal.hddm_drift               0.633982\n",
      "Name: 0, dtype: float64\n",
      "\n",
      "FACTOR 1\n",
      "shape_matching.hddm_non_decision            0.518774\n",
      "tower_of_london.avg_move_time               0.513429\n",
      "recent_probes.hddm_non_decision             0.497421\n",
      "attention_network_task.hddm_non_decision    0.493765\n",
      "simon.hddm_non_decision                     0.487786\n",
      "stroop.hddm_non_decision                    0.477281\n",
      "Name: 1, dtype: float64\n",
      "\n",
      "FACTOR 2\n",
      "kirby.hyp_discount_rate_small.logTr               0.899093\n",
      "kirby.hyp_discount_rate_medium.logTr              0.888203\n",
      "kirby.hyp_discount_rate_large.logTr               0.879032\n",
      "discount_titrate.percent_patient                 -0.834151\n",
      "bickel_titrator.hyp_discount_rate_medium.logTr    0.702829\n",
      "bickel_titrator.hyp_discount_rate_large.logTr     0.529467\n",
      "Name: 2, dtype: float64\n"
     ]
    }
   ],
   "source": [
    "fa, output = psychFA(data, 3)\n",
    "loading_df = print_top_factors(output, 6)\n",
    "factor_names[3] = ['Drift','Non-Dec','Discount']"
   ]
  },
  {
   "cell_type": "markdown",
   "metadata": {},
   "source": [
    "**Four Factors**\n",
    "\n",
    "Factor 0: Speed of Processing (Drift)\n",
    "\n",
    "Factor 1: Memory/Abstraction\n",
    "\n",
    "Factor 2: Encoding Time (Non-Decision)\n",
    "\n",
    "Factor 3: Discount Rate"
   ]
  },
  {
   "cell_type": "code",
   "execution_count": 14,
   "metadata": {
    "collapsed": false
   },
   "outputs": [
    {
     "name": "stdout",
     "output_type": "stream",
     "text": [
      "\n",
      "FACTOR 0\n",
      "choice_reaction_time.hddm_drift           0.744881\n",
      "stop_signal.hddm_drift                    0.694226\n",
      "simon.hddm_drift                          0.687702\n",
      "shape_matching.hddm_drift                 0.654776\n",
      "dot_pattern_expectancy.hddm_drift         0.630557\n",
      "motor_selective_stop_signal.hddm_drift    0.626186\n",
      "Name: 0, dtype: float64\n",
      "\n",
      "FACTOR 1\n",
      "adaptive_n_back.mean_load                         0.609246\n",
      "cognitive_reflection_survey.correct_proportion    0.579291\n",
      "spatial_span.forward_span                         0.555796\n",
      "ravens.score                                      0.545280\n",
      "adaptive_n_back.hddm_drift                        0.528406\n",
      "spatial_span.reverse_span                         0.511955\n",
      "Name: 1, dtype: float64\n",
      "\n",
      "FACTOR 2\n",
      "simon.hddm_non_decision                          0.542066\n",
      "recent_probes.hddm_non_decision                  0.515235\n",
      "stroop.hddm_non_decision                         0.510139\n",
      "shape_matching.hddm_non_decision                 0.507694\n",
      "attention_network_task.hddm_non_decision         0.492312\n",
      "motor_selective_stop_signal.hddm_non_decision    0.472680\n",
      "Name: 2, dtype: float64\n",
      "\n",
      "FACTOR 3\n",
      "kirby.hyp_discount_rate_small.logTr               0.927354\n",
      "kirby.hyp_discount_rate_medium.logTr              0.910262\n",
      "kirby.hyp_discount_rate_large.logTr               0.893017\n",
      "discount_titrate.percent_patient                 -0.824911\n",
      "bickel_titrator.hyp_discount_rate_medium.logTr    0.686633\n",
      "bickel_titrator.hyp_discount_rate_large.logTr     0.505515\n",
      "Name: 3, dtype: float64\n"
     ]
    }
   ],
   "source": [
    "fa, output = psychFA(data, 4)\n",
    "loading_df = print_top_factors(output, 6)\n",
    "factor_names[4] = ['Drift','Mem','Non-Dec','Discount']"
   ]
  },
  {
   "cell_type": "markdown",
   "metadata": {},
   "source": [
    "**Five Factors**\n",
    "\n",
    "Factor 0: Speed of Processing (Drfit)\n",
    "\n",
    "Factor 1: Memory/Abstraction \n",
    "\n",
    "Factor 2: Encoding Time (Non-Decision)\n",
    "\n",
    "Factor 3: Response Caution (Threshold)\n",
    "\n",
    "Factor 4: Discount Rate"
   ]
  },
  {
   "cell_type": "code",
   "execution_count": 15,
   "metadata": {
    "collapsed": false
   },
   "outputs": [
    {
     "name": "stdout",
     "output_type": "stream",
     "text": [
      "\n",
      "FACTOR 0\n",
      "choice_reaction_time.hddm_drift      0.787855\n",
      "shape_matching.hddm_drift            0.696617\n",
      "simon.hddm_drift                     0.677757\n",
      "dot_pattern_expectancy.hddm_drift    0.660450\n",
      "stop_signal.hddm_drift               0.649928\n",
      "directed_forgetting.hddm_drift       0.621092\n",
      "Name: 0, dtype: float64\n",
      "\n",
      "FACTOR 1\n",
      "adaptive_n_back.mean_load                         0.612685\n",
      "cognitive_reflection_survey.correct_proportion    0.578158\n",
      "spatial_span.forward_span                         0.553909\n",
      "ravens.score                                      0.545772\n",
      "adaptive_n_back.hddm_drift                        0.523774\n",
      "spatial_span.reverse_span                         0.516017\n",
      "Name: 1, dtype: float64\n",
      "\n",
      "FACTOR 2\n",
      "motor_selective_stop_signal.hddm_non_decision    0.610784\n",
      "attention_network_task.hddm_non_decision         0.576721\n",
      "simon.hddm_non_decision                          0.570750\n",
      "stop_signal.SSRT_high                            0.556045\n",
      "stop_signal.SSRT_low                             0.554953\n",
      "choice_reaction_time.hddm_non_decision           0.530017\n",
      "Name: 2, dtype: float64\n",
      "\n",
      "FACTOR 3\n",
      "shape_matching.hddm_thresh                 0.543355\n",
      "simon.hddm_thresh                          0.527942\n",
      "local_global_letter.hddm_thresh            0.512179\n",
      "threebytwo.hddm_thresh                     0.509737\n",
      "motor_selective_stop_signal.hddm_thresh    0.509384\n",
      "attention_network_task.hddm_thresh         0.507935\n",
      "Name: 3, dtype: float64\n",
      "\n",
      "FACTOR 4\n",
      "kirby.hyp_discount_rate_small.logTr               0.940265\n",
      "kirby.hyp_discount_rate_medium.logTr              0.913547\n",
      "kirby.hyp_discount_rate_large.logTr               0.894108\n",
      "discount_titrate.percent_patient                 -0.825419\n",
      "bickel_titrator.hyp_discount_rate_medium.logTr    0.683614\n",
      "bickel_titrator.hyp_discount_rate_large.logTr     0.501724\n",
      "Name: 4, dtype: float64\n"
     ]
    }
   ],
   "source": [
    "fa, output = psychFA(data, 5)\n",
    "loading_df = print_top_factors(output, 6)\n",
    "factor_names[5] = ['Drift','Mem','Non-Dec','Thresh','Discount']"
   ]
  },
  {
   "cell_type": "markdown",
   "metadata": {},
   "source": [
    "**Six Factors**\n",
    "\n",
    "Factor 0: Speed of Processing (Drift)\n",
    "\n",
    "Factor 1: Memory/Abstraction\n",
    "\n",
    "Factor 2: Stimulus Encoding Time (Non-Decision)\n",
    "\n",
    "Factor 3: Response Caution (Threshold)\n",
    "\n",
    "Factor 4: Dicount Rate\n",
    "\n",
    "Factor 5: Risk Taking"
   ]
  },
  {
   "cell_type": "code",
   "execution_count": 16,
   "metadata": {
    "collapsed": false
   },
   "outputs": [
    {
     "name": "stdout",
     "output_type": "stream",
     "text": [
      "\n",
      "FACTOR 0\n",
      "choice_reaction_time.hddm_drift      0.797634\n",
      "shape_matching.hddm_drift            0.688741\n",
      "simon.hddm_drift                     0.680350\n",
      "dot_pattern_expectancy.hddm_drift    0.652253\n",
      "Name: 0, dtype: float64\n",
      "\n",
      "FACTOR 1\n",
      "adaptive_n_back.mean_load     0.648858\n",
      "adaptive_n_back.hddm_drift    0.580791\n",
      "spatial_span.reverse_span     0.553749\n",
      "spatial_span.forward_span     0.550134\n",
      "Name: 1, dtype: float64\n",
      "\n",
      "FACTOR 2\n",
      "motor_selective_stop_signal.hddm_non_decision    0.612371\n",
      "attention_network_task.hddm_non_decision         0.573814\n",
      "simon.hddm_non_decision                          0.572454\n",
      "stop_signal.SSRT_high                            0.553527\n",
      "Name: 2, dtype: float64\n",
      "\n",
      "FACTOR 3\n",
      "shape_matching.hddm_thresh                 0.539046\n",
      "simon.hddm_thresh                          0.524926\n",
      "local_global_letter.hddm_thresh            0.518721\n",
      "motor_selective_stop_signal.hddm_thresh    0.509523\n",
      "Name: 3, dtype: float64\n",
      "\n",
      "FACTOR 4\n",
      "kirby.hyp_discount_rate_small.logTr     0.947289\n",
      "kirby.hyp_discount_rate_medium.logTr    0.913142\n",
      "kirby.hyp_discount_rate_large.logTr     0.893898\n",
      "discount_titrate.percent_patient       -0.826691\n",
      "Name: 4, dtype: float64\n",
      "\n",
      "FACTOR 5\n",
      "angling_risk_task_always_sunny.keep_adjusted_clicks       0.850245\n",
      "angling_risk_task_always_sunny.keep_loss_percent          0.797778\n",
      "angling_risk_task_always_sunny.release_adjusted_clicks    0.783397\n",
      "angling_risk_task_always_sunny.release_loss_percent       0.774018\n",
      "Name: 5, dtype: float64\n"
     ]
    }
   ],
   "source": [
    "fa, output = psychFA(data, 6)\n",
    "loading_df = print_top_factors(output)\n",
    "factor_names[6] = ['Drift','Mem','Non-Dec','Thresh','Discount','Risk']"
   ]
  },
  {
   "cell_type": "markdown",
   "metadata": {},
   "source": [
    "**Seven Factors**\n",
    "\n",
    "Factor 0: Speed of Processing (Drift)\n",
    "\n",
    "Factor 1: Information Use\n",
    "\n",
    "Factor 2: Stimulus Encoding Time (Non-Decision)\n",
    "\n",
    "Factor 3: Dicount Rate\n",
    "\n",
    "Factor 4: Response Caution (Threshold)\n",
    "\n",
    "Factor 5: Response Caution (Speed of action)\n",
    "\n",
    "Factor 6: Risk Taking"
   ]
  },
  {
   "cell_type": "code",
   "execution_count": 17,
   "metadata": {
    "collapsed": false
   },
   "outputs": [
    {
     "name": "stdout",
     "output_type": "stream",
     "text": [
      "\n",
      "FACTOR 0\n",
      "choice_reaction_time.hddm_drift           0.775411\n",
      "simon.hddm_drift                          0.713011\n",
      "stop_signal.hddm_drift                    0.696627\n",
      "shape_matching.hddm_drift                 0.694164\n",
      "dot_pattern_expectancy.hddm_drift         0.647852\n",
      "stim_selective_stop_signal.hddm_drift     0.642268\n",
      "threebytwo.hddm_drift                     0.630646\n",
      "motor_selective_stop_signal.hddm_drift    0.618789\n",
      "Name: 0, dtype: float64\n",
      "\n",
      "FACTOR 1\n",
      "columbia_card_task_hot.information_use            0.610768\n",
      "columbia_card_task_hot.loss_sensitivity          -0.543181\n",
      "columbia_card_task_cold.information_use           0.541362\n",
      "columbia_card_task_hot.gain_sensitivity           0.502019\n",
      "adaptive_n_back.mean_load                         0.473825\n",
      "ravens.score                                      0.468719\n",
      "cognitive_reflection_survey.correct_proportion    0.449960\n",
      "columbia_card_task_cold.gain_sensitivity          0.433732\n",
      "Name: 1, dtype: float64\n",
      "\n",
      "FACTOR 2\n",
      "motor_selective_stop_signal.hddm_non_decision    0.612312\n",
      "simon.hddm_non_decision                          0.594090\n",
      "choice_reaction_time.hddm_non_decision           0.545398\n",
      "attention_network_task.hddm_non_decision         0.535469\n",
      "stop_signal.SSRT_low                             0.519462\n",
      "stop_signal.SSRT_high                            0.519115\n",
      "stroop.hddm_non_decision                         0.514321\n",
      "simple_reaction_time.avg_rt                      0.510150\n",
      "Name: 2, dtype: float64\n",
      "\n",
      "FACTOR 3\n",
      "kirby.hyp_discount_rate_small.logTr               0.945166\n",
      "kirby.hyp_discount_rate_medium.logTr              0.920597\n",
      "kirby.hyp_discount_rate_large.logTr               0.892024\n",
      "discount_titrate.percent_patient                 -0.827312\n",
      "bickel_titrator.hyp_discount_rate_medium.logTr    0.688138\n",
      "bickel_titrator.hyp_discount_rate_large.logTr     0.507783\n",
      "cognitive_reflection_survey.correct_proportion   -0.177389\n",
      "ravens.score                                     -0.131341\n",
      "Name: 3, dtype: float64\n",
      "\n",
      "FACTOR 4\n",
      "simon.hddm_thresh                               0.539511\n",
      "shape_matching.hddm_thresh                      0.526699\n",
      "threebytwo.hddm_thresh                          0.501759\n",
      "attention_network_task.hddm_thresh              0.501750\n",
      "motor_selective_stop_signal.hddm_thresh         0.499363\n",
      "local_global_letter.hddm_thresh                 0.494767\n",
      "stroop.hddm_thresh                              0.447009\n",
      "stim_selective_stop_signal.hddm_thresh.logTr    0.437452\n",
      "Name: 4, dtype: float64\n",
      "\n",
      "FACTOR 5\n",
      "information_sampling_task.Decreasing_Win_motivation    0.721081\n",
      "information_sampling_task.Fixed_Win_motivation         0.713451\n",
      "tower_of_london.avg_move_time                         -0.605416\n",
      "spatial_span.forward_span                              0.395434\n",
      "spatial_span.reverse_span                              0.380325\n",
      "tower_of_london.num_extra_moves                        0.373325\n",
      "tower_of_london.planning_time                         -0.326139\n",
      "adaptive_n_back.hddm_drift                             0.287616\n",
      "Name: 5, dtype: float64\n",
      "\n",
      "FACTOR 6\n",
      "angling_risk_task_always_sunny.keep_adjusted_clicks       0.851250\n",
      "angling_risk_task_always_sunny.keep_loss_percent          0.797329\n",
      "angling_risk_task_always_sunny.release_adjusted_clicks    0.792174\n",
      "angling_risk_task_always_sunny.release_loss_percent       0.785144\n",
      "columbia_card_task_hot.avg_cards_chosen                   0.254163\n",
      "two_stage_decision.model_free                             0.170702\n",
      "columbia_card_task_hot.probability_sensitivity           -0.166472\n",
      "columbia_card_task_cold.avg_cards_chosen                  0.160664\n",
      "Name: 6, dtype: float64\n"
     ]
    }
   ],
   "source": [
    "fa, output = psychFA(data, 7)\n",
    "loading_df = print_top_factors(output, 8)\n",
    "factor_names[7] = ['Drift','Inf-Use','Non-Dec','Discount','Thresh','Speed', 'Risk']"
   ]
  },
  {
   "cell_type": "markdown",
   "metadata": {},
   "source": [
    "**Eight Factors**\n",
    "\n",
    "Factor 0: Speed of Processing (Drift)\n",
    "\n",
    "Factor 1: Memory/Abstraction\n",
    "\n",
    "Factor 2: Stimulus Encoding Time (Non-Decision)\n",
    "\n",
    "Factor 3: Dicount Rate\n",
    "\n",
    "Factor 4: Response Caution (Threshold)\n",
    "\n",
    "Factor 5: Risk Taking\n",
    "\n",
    "Factor 6: Information Use (CCT information)\n",
    "\n",
    "Factor 7: Response Caution (Speed of action on IST and TOL)\n"
   ]
  },
  {
   "cell_type": "code",
   "execution_count": 18,
   "metadata": {
    "collapsed": false
   },
   "outputs": [
    {
     "name": "stdout",
     "output_type": "stream",
     "text": [
      "\n",
      "FACTOR 0\n",
      "choice_reaction_time.hddm_drift          0.743173\n",
      "stop_signal.hddm_drift                   0.702812\n",
      "simon.hddm_drift                         0.683427\n",
      "shape_matching.hddm_drift                0.662477\n",
      "stim_selective_stop_signal.hddm_drift    0.628049\n",
      "stroop.hddm_drift                        0.602784\n",
      "Name: 0, dtype: float64\n",
      "\n",
      "FACTOR 1\n",
      "ravens.score                                      0.625303\n",
      "adaptive_n_back.mean_load                         0.606866\n",
      "cognitive_reflection_survey.correct_proportion    0.542445\n",
      "adaptive_n_back.hddm_drift                        0.523075\n",
      "spatial_span.reverse_span                         0.491270\n",
      "digit_span.reverse_span                           0.485729\n",
      "Name: 1, dtype: float64\n",
      "\n",
      "FACTOR 2\n",
      "motor_selective_stop_signal.hddm_non_decision    0.624591\n",
      "simon.hddm_non_decision                          0.613980\n",
      "stroop.hddm_non_decision                         0.553390\n",
      "choice_reaction_time.hddm_non_decision           0.542577\n",
      "attention_network_task.hddm_non_decision         0.539374\n",
      "stop_signal.hddm_non_decision                    0.526914\n",
      "Name: 2, dtype: float64\n",
      "\n",
      "FACTOR 3\n",
      "kirby.hyp_discount_rate_small.logTr               0.947923\n",
      "kirby.hyp_discount_rate_medium.logTr              0.905636\n",
      "kirby.hyp_discount_rate_large.logTr               0.889295\n",
      "discount_titrate.percent_patient                 -0.825400\n",
      "bickel_titrator.hyp_discount_rate_medium.logTr    0.700095\n",
      "bickel_titrator.hyp_discount_rate_large.logTr     0.518724\n",
      "Name: 3, dtype: float64\n",
      "\n",
      "FACTOR 4\n",
      "simon.hddm_thresh                          0.537440\n",
      "shape_matching.hddm_thresh                 0.526321\n",
      "threebytwo.hddm_thresh                     0.501562\n",
      "attention_network_task.hddm_thresh         0.496799\n",
      "motor_selective_stop_signal.hddm_thresh    0.493109\n",
      "local_global_letter.hddm_thresh            0.477827\n",
      "Name: 4, dtype: float64\n",
      "\n",
      "FACTOR 5\n",
      "angling_risk_task_always_sunny.keep_adjusted_clicks       0.843947\n",
      "angling_risk_task_always_sunny.release_adjusted_clicks    0.795295\n",
      "angling_risk_task_always_sunny.keep_loss_percent          0.788374\n",
      "angling_risk_task_always_sunny.release_loss_percent       0.787515\n",
      "columbia_card_task_hot.avg_cards_chosen                   0.262367\n",
      "columbia_card_task_cold.avg_cards_chosen                  0.170550\n",
      "Name: 5, dtype: float64\n",
      "\n",
      "FACTOR 6\n",
      "columbia_card_task_hot.information_use      0.725317\n",
      "columbia_card_task_hot.loss_sensitivity    -0.676813\n",
      "columbia_card_task_hot.gain_sensitivity     0.631010\n",
      "columbia_card_task_cold.information_use     0.508810\n",
      "columbia_card_task_cold.gain_sensitivity    0.485149\n",
      "columbia_card_task_cold.loss_sensitivity   -0.453533\n",
      "Name: 6, dtype: float64\n",
      "\n",
      "FACTOR 7\n",
      "information_sampling_task.Fixed_Win_motivation        -0.799476\n",
      "information_sampling_task.Decreasing_Win_motivation   -0.783438\n",
      "tower_of_london.avg_move_time                          0.557982\n",
      "tower_of_london.num_extra_moves                       -0.449937\n",
      "tower_of_london.planning_time                          0.359641\n",
      "spatial_span.forward_span                             -0.270423\n",
      "Name: 7, dtype: float64\n"
     ]
    }
   ],
   "source": [
    "fa, output = psychFA(data, 8)\n",
    "loading_df = print_top_factors(output, 6)\n",
    "factor_names[8] = ['Drift','Mem','Non-Dec','Discount','Thresh','Risk','Inf-Use','Speed']"
   ]
  },
  {
   "cell_type": "markdown",
   "metadata": {},
   "source": [
    "### Plot relationships between solutions at different dimensionalities\n",
    "\n",
    "Each factor analytic solution gives us some components. By correlating the components at one level with the next, we can get a sense for how similar these components are. When we move to 3 dimensions from 2, is it the case that one of the dimensions just split? Or is there a new, non-hierarchical parcellation of the space?\n",
    "\n"
   ]
  },
  {
   "cell_type": "code",
   "execution_count": 19,
   "metadata": {
    "collapsed": false
   },
   "outputs": [],
   "source": [
    "# helper functions for plotting dimensionality relations\n",
    "# compute FA with different dimensionalities and quantify similarity\n",
    "def dimensional_similarity(factors, reference):\n",
    "    ''' This function returns an N x M correlation matrix where N is the number\n",
    "    of reference (lower dimension) factors and M is the number of higher dimension\n",
    "    factors\n",
    "    '''\n",
    "    relation = np.corrcoef(reference.T, factors.T)\n",
    "    # each row is a reference factor, each column a new factor\n",
    "    relation=relation[:reference.shape[1], reference.shape[1]:]\n",
    "    return relation\n",
    "\n",
    "def construct_relational_tree(similarities, labels=None, filey=None):\n",
    "    ''' Takes a list of similarities and constructs a tree graph, then plots\n",
    "    '''\n",
    "    G = igraph.Graph()\n",
    "    layer_start = 0\n",
    "    colors = ['red','blue','green','violet']*4\n",
    "    for similarity in similarities:\n",
    "        curr_color = colors.pop()\n",
    "        origin_length = similarity.shape[0]\n",
    "        target_length = similarity.shape[1]\n",
    "        if len(G.vs)==0:\n",
    "            G.add_vertices(origin_length)\n",
    "        G.add_vertices(target_length)\n",
    "        for i in range(origin_length):\n",
    "            for j in range(target_length):\n",
    "                G.add_edge(i+layer_start,j+origin_length+layer_start,\n",
    "                           weight=abs(similarity[i,j]*5),color = curr_color)\n",
    "        layer_start+=similarity.shape[0]\n",
    "    layout = G.layout_reingold_tilford(root = [0])\n",
    "    if labels == None:\n",
    "        labels = G.vs.indices\n",
    "    plot = igraph.plot(G, layout=layout, **{'inline': True, 'vertex_label': labels, \n",
    "                                            'vertex_color': 'white',\n",
    "                                            'vertex_size': 50, \n",
    "                                         'edge_width':[w for w in G.es['weight']], \n",
    "                                         'edge_color': G.es['color'], \n",
    "                                            'bbox': (1000,1000), 'margin':100})\n",
    "    if filey:\n",
    "        plot.save(filey)\n",
    "    #G.write_dot('test.dot')\n",
    "    return G\n"
   ]
  },
  {
   "cell_type": "code",
   "execution_count": 20,
   "metadata": {
    "collapsed": false
   },
   "outputs": [],
   "source": [
    "# construct array of component similarities\n",
    "similarities = []\n",
    "components = np.sort(list(factor_names.keys()))\n",
    "reference = None\n",
    "for c in components:\n",
    "    fa, output = psychFA(data,c)\n",
    "    result = pd.DataFrame(output['scores'], data.index)\n",
    "    if reference is not None:\n",
    "        similarity = dimensional_similarity(result,reference)\n",
    "        similarities.append(similarity)\n",
    "    reference = result\n",
    "\n",
    "\n"
   ]
  },
  {
   "cell_type": "code",
   "execution_count": 21,
   "metadata": {
    "collapsed": false
   },
   "outputs": [],
   "source": [
    "# plot component similarity tree\n",
    "labels = []\n",
    "for c in components:\n",
    "    labels+=factor_names[c]\n",
    "similarity_tree = construct_relational_tree(similarities, labels=labels, filey=path.join('Plots', 'task_graph.png'))"
   ]
  },
  {
   "cell_type": "markdown",
   "metadata": {},
   "source": [
    "# Scrap"
   ]
  },
  {
   "cell_type": "code",
   "execution_count": 22,
   "metadata": {
    "collapsed": false
   },
   "outputs": [
    {
     "ename": "NameError",
     "evalue": "name 'task_data' is not defined",
     "output_type": "error",
     "traceback": [
      "\u001b[0;31m---------------------------------------------------------------------------\u001b[0m",
      "\u001b[0;31mNameError\u001b[0m                                 Traceback (most recent call last)",
      "\u001b[0;32m<ipython-input-22-1fb200fc8ce5>\u001b[0m in \u001b[0;36m<module>\u001b[0;34m()\u001b[0m\n\u001b[1;32m      1\u001b[0m \u001b[0;32mfor\u001b[0m \u001b[0mlabel\u001b[0m\u001b[0;34m,\u001b[0m\u001b[0mdata\u001b[0m \u001b[0;32min\u001b[0m \u001b[0mimputed_datasets\u001b[0m\u001b[0;34m.\u001b[0m\u001b[0mitems\u001b[0m\u001b[0;34m(\u001b[0m\u001b[0;34m)\u001b[0m\u001b[0;34m:\u001b[0m\u001b[0;34m\u001b[0m\u001b[0m\n\u001b[0;32m----> 2\u001b[0;31m     \u001b[0mbest_c\u001b[0m \u001b[0;34m=\u001b[0m \u001b[0mtask_data\u001b[0m\u001b[0;34m[\u001b[0m\u001b[0;34m'sklearn_best_c'\u001b[0m\u001b[0;34m]\u001b[0m\u001b[0;34m\u001b[0m\u001b[0m\n\u001b[0m\u001b[1;32m      3\u001b[0m     \u001b[0;31m# construct array of component similarities\u001b[0m\u001b[0;34m\u001b[0m\u001b[0;34m\u001b[0m\u001b[0m\n\u001b[1;32m      4\u001b[0m     \u001b[0msimilarities\u001b[0m \u001b[0;34m=\u001b[0m \u001b[0;34m[\u001b[0m\u001b[0;34m]\u001b[0m\u001b[0;34m\u001b[0m\u001b[0m\n\u001b[1;32m      5\u001b[0m     \u001b[0mcomponents\u001b[0m \u001b[0;34m=\u001b[0m \u001b[0mrange\u001b[0m\u001b[0;34m(\u001b[0m\u001b[0;36m1\u001b[0m\u001b[0;34m,\u001b[0m\u001b[0mbest_c\u001b[0m\u001b[0;34m+\u001b[0m\u001b[0;36m2\u001b[0m\u001b[0;34m)\u001b[0m\u001b[0;34m\u001b[0m\u001b[0m\n",
      "\u001b[0;31mNameError\u001b[0m: name 'task_data' is not defined"
     ]
    }
   ],
   "source": [
    "for label,data in imputed_datasets.items():\n",
    "    best_c = task_data['sklearn_best_c']\n",
    "    # construct array of component similarities\n",
    "    similarities = []\n",
    "    components = range(1,best_c+2)\n",
    "    reference = None\n",
    "    for c in components:\n",
    "        fa=FactorAnalysis(c)\n",
    "        result = pd.DataFrame(fa.fit_transform(data.values), data.index)\n",
    "        if c>1:\n",
    "            result = GPArotation(result, method='oblimin')\n",
    "        if reference is not None:\n",
    "            similarity = dimensional_similarity(result,reference)\n",
    "            similarities.append(similarity)\n",
    "        reference = result\n",
    "\n",
    "    # plot tree\n",
    "    labels = []\n",
    "    for c in np.sort(list(factor_names.keys())):\n",
    "        labels+=factor_names[c]\n",
    "    similarity_tree = construct_relational_tree(similarities, filey=path.join('Plots', + label +'_graph.png'))\n"
   ]
  },
  {
   "cell_type": "code",
   "execution_count": null,
   "metadata": {
    "collapsed": false
   },
   "outputs": [],
   "source": [
    "\"\"\"\n",
    "# Take max for each dimension?\n",
    "binarized_similarities = []\n",
    "for s in similarities:\n",
    "    r,c = s.shape\n",
    "    binarized_similarities.append(s==np.resize(s.max(axis=1),(c,r)).T)\n",
    "\"\"\"\n",
    "thresh = .5\n",
    "binarized_similarities = []\n",
    "for s in similarities:\n",
    "    binarized_similarities.append((s>thresh)*1)"
   ]
  },
  {
   "cell_type": "markdown",
   "metadata": {},
   "source": [
    "## Visualization of optimal factor structure"
   ]
  },
  {
   "cell_type": "markdown",
   "metadata": {},
   "source": [
    "### Sum over task variables (extrememly questionable) and then plot the relationships across tasks"
   ]
  },
  {
   "cell_type": "code",
   "execution_count": null,
   "metadata": {
    "collapsed": false
   },
   "outputs": [],
   "source": [
    "from plot_utils import dendroheatmap_left\n",
    "# *****************************************************************************\n",
    "# sum over tasks\n",
    "# *****************************************************************************\n",
    "tasks = np.unique([i.split('.')[0] for i in data.columns])\n",
    "task_sums = {}\n",
    "for task in tasks:  \n",
    "    task_sums[task] = result.filter(regex=task,axis=0).sum()\n",
    "task_sums = pd.DataFrame(task_sums).T\n",
    "dendroheatmap = dendroheatmap_left(task_sums.T.corr())"
   ]
  },
  {
   "cell_type": "markdown",
   "metadata": {},
   "source": [
    "### multidimensional scaling"
   ]
  },
  {
   "cell_type": "code",
   "execution_count": null,
   "metadata": {
    "collapsed": false
   },
   "outputs": [],
   "source": [
    "# *****************************************************************************\n",
    "# visualize the similarity of the measurements in FA space\n",
    "# *****************************************************************************\n",
    "\n",
    "from data_preparation_utils import convert_var_names\n",
    "from graph_utils import distcorr_mat\n",
    "from sklearn import manifold\n",
    "from sklearn.metrics import euclidean_distances\n",
    "import seaborn as sns\n",
    "\n",
    "seed = np.random.RandomState(seed=3)\n",
    "mds = manifold.MDS(n_components=2, max_iter=3000, eps=1e-9, random_state=seed,\n",
    "                   dissimilarity=\"precomputed\", n_jobs=1)\n",
    "\n",
    "tsne = manifold.TSNE(n_components=2, random_state=seed, metric=\"precomputed\")\n",
    "\n",
    "# compute distances between variables\n",
    "# using distance correlation\n",
    "# result_distances = 1-distcorr_mat(result.T.values)\n",
    "# euclidean\n",
    "result_distances = euclidean_distances(result)\n",
    "# transform\n",
    "mds_transform = mds.fit_transform(result_distances)\n",
    "tsne_transform = tsne.fit_transform(result_distances)\n",
    "\n",
    "# plot\n",
    "tasks = [i.split('.')[0] for i in result.index]\n",
    "colors = sns.color_palette(\"husl\", len(np.unique(tasks)))\n",
    "\n",
    "fig, ax = sns.plt.subplots(figsize = (20,20))\n",
    "ax.scatter(mds_transform[:,0], mds_transform[:,1])\n",
    "\n",
    "variables = convert_var_names(list(result.index))\n",
    "for i, txt in enumerate(variables):\n",
    "    ax.annotate(txt, (mds_transform[i,0],mds_transform[i,1]), size = 15)\n"
   ]
  }
 ],
 "metadata": {
  "anaconda-cloud": {},
  "kernelspec": {
   "display_name": "Python [conda env:py34]",
   "language": "python",
   "name": "conda-env-py34-py"
  },
  "language_info": {
   "codemirror_mode": {
    "name": "ipython",
    "version": 3
   },
   "file_extension": ".py",
   "mimetype": "text/x-python",
   "name": "python",
   "nbconvert_exporter": "python",
   "pygments_lexer": "ipython3",
   "version": "3.4.5"
  }
 },
 "nbformat": 4,
 "nbformat_minor": 0
}
