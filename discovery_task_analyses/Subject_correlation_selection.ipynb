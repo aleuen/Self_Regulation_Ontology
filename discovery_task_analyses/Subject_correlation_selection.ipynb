{
 "cells": [
  {
   "cell_type": "markdown",
   "metadata": {},
   "source": [
    "This notebook outlines the results from the subset selection analysis performed using two different approaches.  \n",
    "\n",
    "__Recapitulation of intersubject correlations__:\n",
    "\n",
    "The rationale for this analysis is as follows:  One can conceive one of the goals of our project as finding the subset of tests that best captures the variance across subjects across the entire set of variables. That is: What subset of variables would let one best recapitulate the individual differences observed in the sample.  To assess this, we took all possible subsets of 8 tasks from the full dataset (32 choose 8, which is about 10 million) and for each of these subsets computed the correlation matrix across subjects using the reduced dataset.  Then, we computed the correlation between the upper triangle of this matrix with the upper triangle of the same matrix computed from the full dataset.  The point is to find which set of tasks could most effectively recapitulate the observed pattern of individual differences.  This analysis was performed on the TACC Wrangler cluster using discovery_task_analyses/task_subjectsim_prediction.py in the repo.\n",
    "\n",
    "The notebook below loads the data saved on Wrangler and does some summary analyses on them."
   ]
  },
  {
   "cell_type": "code",
   "execution_count": 8,
   "metadata": {
    "collapsed": false
   },
   "outputs": [
    {
     "name": "stdout",
     "output_type": "stream",
     "text": [
      "using dataset: Discovery_10-14-2016\n"
     ]
    },
    {
     "data": {
      "image/png": "[encoded data removed]",
      "text/plain": [
       "<matplotlib.figure.Figure at 0x11475ffd0>"
      ]
     },
     "metadata": {},
     "output_type": "display_data"
    }
   ],
   "source": [
    "\n",
    "import os,glob,sys,itertools\n",
    "import numpy,pandas\n",
    "import json\n",
    "import scipy.stats\n",
    "import matplotlib.pyplot as plt\n",
    "\n",
    "# this is kludgey but it works\n",
    "sys.path.append('../utils')\n",
    "from utils import get_info,get_behav_data\n",
    "\n",
    "dataset=get_info('dataset')\n",
    "print('using dataset:',dataset)\n",
    "basedir=get_info('base_directory')\n",
    "derived_dir=os.path.join(basedir,'Data/Derived_Data/%s'%dataset)\n",
    "data=pandas.read_csv(os.path.join(derived_dir,'taskdata_clean_cutoff3.00IQR_imputed.csv'))\n",
    "# get task names and indicator\n",
    "tasknames=[i.split('.')[0] for i in data.columns]\n",
    "tasks=list(set(tasknames))\n",
    "tasks.sort()\n",
    "taskpresence=numpy.zeros(len(tasks))\n",
    "\n",
    "#load correlations and get top 1%\n",
    "cc=numpy.load('cc.npy')\n",
    "%matplotlib inline\n",
    "foo=plt.hist(cc,100)"
   ]
  },
  {
   "cell_type": "markdown",
   "metadata": {},
   "source": [
    "Grab the highest correlations (according to the threshold set in the call to scipy.stats.scoreatpercentile) and then sort those."
   ]
  },
  {
   "cell_type": "code",
   "execution_count": 9,
   "metadata": {
    "collapsed": false
   },
   "outputs": [
    {
     "name": "stdout",
     "output_type": "stream",
     "text": [
      "thresh= 0.741287891138\n",
      "1052 observations\n"
     ]
    }
   ],
   "source": [
    "allcombs=[i for i in itertools.combinations(range(32),8)]\n",
    "thresh=scipy.stats.scoreatpercentile(cc,99.99)\n",
    "print('thresh=',thresh)\n",
    "goodcc=[c for i,c in enumerate(cc) if c>thresh]\n",
    "print('%d observations'%len(goodcc))\n",
    "goodcombs=numpy.array([allcombs[i] for i,c in enumerate(cc) if c>thresh])\n",
    "goodcc_idx=numpy.argsort(goodcc)[::-1]\n"
   ]
  },
  {
   "cell_type": "markdown",
   "metadata": {},
   "source": [
    "Print best combination of tasks"
   ]
  },
  {
   "cell_type": "code",
   "execution_count": 10,
   "metadata": {
    "collapsed": false
   },
   "outputs": [
    {
     "name": "stdout",
     "output_type": "stream",
     "text": [
      "best combination:\n",
      "columbia_card_task_cold\n",
      "dot_pattern_expectancy\n",
      "information_sampling_task\n",
      "local_global_letter\n",
      "simon\n",
      "stop_signal\n",
      "stroop\n",
      "threebytwo\n",
      "\n"
     ]
    }
   ],
   "source": [
    "print('best combination:')\n",
    "for i in goodcombs[goodcc_idx[0]]:\n",
    "    print(tasks[i])\n",
    "print('')\n"
   ]
  },
  {
   "cell_type": "markdown",
   "metadata": {},
   "source": [
    "Print tasks that show up most often across the top selections."
   ]
  },
  {
   "cell_type": "code",
   "execution_count": 11,
   "metadata": {
    "collapsed": false
   },
   "outputs": [
    {
     "name": "stdout",
     "output_type": "stream",
     "text": [
      "0.125 (10):threebytwo\n",
      "0.116 (10):dot_pattern_expectancy\n",
      "0.109 (6):stroop\n",
      "0.086 (6):simon\n",
      "0.070 (6):information_sampling_task\n",
      "0.067 (9):local_global_letter\n",
      "0.062 (5):tower_of_london\n",
      "0.057 (7):stop_signal\n",
      "0.055 (6):attention_network_task\n",
      "0.050 (5):columbia_card_task_cold\n",
      "0.043 (5):columbia_card_task_hot\n",
      "0.040 (6):motor_selective_stop_signal\n",
      "0.031 (6):directed_forgetting\n",
      "0.018 (3):choice_reaction_time\n",
      "0.018 (4):adaptive_n_back\n",
      "0.015 (6):recent_probes\n",
      "0.014 (4):stim_selective_stop_signal\n",
      "0.008 (4):angling_risk_task_always_sunny\n",
      "0.007 (2):psychological_refractory_period_two_choices\n",
      "0.003 (2):two_stage_decision\n",
      "0.003 (3):probabilistic_selection\n",
      "0.001 (2):dietary_decision\n",
      "0.000 (2):spatial_span\n",
      "0.000 (2):digit_span\n",
      "0.000 (2):writing_task\n",
      "0.000 (1):discount_titrate\n",
      "0.000 (1):go_nogo\n",
      "0.000 (1):hierarchical_rule\n",
      "0.000 (1):keep_track\n",
      "0.000 (1):ravens\n",
      "0.000 (1):shift_task\n",
      "0.000 (1):kirby\n"
     ]
    }
   ],
   "source": [
    "for i,task in enumerate(tasks):\n",
    "    taskpresence[i]=numpy.mean(goodcombs==i)\n",
    "taskidx=numpy.argsort(taskpresence)[::-1]\n",
    "for i in taskidx:\n",
    "    nvars=len([t for j,t in enumerate(tasknames) if t==tasks[i]])\n",
    "    print('%0.3f (%d):%s'%(taskpresence[i],nvars,tasks[i]))\n"
   ]
  },
  {
   "cell_type": "markdown",
   "metadata": {
    "collapsed": false
   },
   "source": [
    "__Data reconstruction__:\n",
    "\n",
    "NOTE: This is still WIP"
   ]
  },
  {
   "cell_type": "code",
   "execution_count": 16,
   "metadata": {
    "collapsed": false
   },
   "outputs": [
    {
     "name": "stdout",
     "output_type": "stream",
     "text": [
      "0.0870957174414\n"
     ]
    },
    {
     "data": {
      "image/png": "[encoded data removed]",
      "text/plain": [
       "<matplotlib.figure.Figure at 0x1033a0e48>"
      ]
     },
     "metadata": {},
     "output_type": "display_data"
    }
   ],
   "source": [
    "#load correlations and get top 1%\n",
    "cc=numpy.load('reconstruction_cc.npy')\n",
    "foo=plt.hist(cc,100)\n",
    "print(numpy.max(cc))"
   ]
  },
  {
   "cell_type": "code",
   "execution_count": 18,
   "metadata": {
    "collapsed": false
   },
   "outputs": [
    {
     "name": "stdout",
     "output_type": "stream",
     "text": [
      "thresh= 0.0772960113644\n",
      "1052 observations\n",
      "best combination:\n",
      "angling_risk_task_always_sunny\n",
      "hierarchical_rule\n",
      "keep_track\n",
      "kirby\n",
      "psychological_refractory_period_two_choices\n",
      "shift_task\n",
      "spatial_span\n",
      "tower_of_london\n",
      "\n",
      "0.125 (5):tower_of_london\n",
      "0.125 (4):angling_risk_task_always_sunny\n",
      "0.096 (2):psychological_refractory_period_two_choices\n",
      "0.082 (1):hierarchical_rule\n",
      "0.061 (1):shift_task\n",
      "0.061 (1):discount_titrate\n",
      "0.060 (1):kirby\n",
      "0.058 (1):keep_track\n",
      "0.053 (1):go_nogo\n",
      "0.053 (1):ravens\n",
      "0.040 (2):digit_span\n",
      "0.038 (2):spatial_span\n",
      "0.037 (2):dietary_decision\n",
      "0.037 (2):two_stage_decision\n",
      "0.033 (2):writing_task\n",
      "0.022 (3):probabilistic_selection\n",
      "0.008 (4):stim_selective_stop_signal\n",
      "0.005 (6):motor_selective_stop_signal\n",
      "0.001 (3):choice_reaction_time\n",
      "0.001 (5):columbia_card_task_cold\n",
      "0.001 (4):adaptive_n_back\n",
      "0.001 (7):stop_signal\n",
      "0.001 (5):columbia_card_task_hot\n",
      "0.000 (6):information_sampling_task\n",
      "0.000 (6):attention_network_task\n",
      "0.000 (6):stroop\n",
      "0.000 (10):threebytwo\n",
      "0.000 (9):local_global_letter\n",
      "0.000 (10):dot_pattern_expectancy\n",
      "0.000 (6):simon\n",
      "0.000 (6):recent_probes\n",
      "0.000 (6):directed_forgetting\n"
     ]
    }
   ],
   "source": [
    "thresh=scipy.stats.scoreatpercentile(cc,99.99)\n",
    "print('thresh=',thresh)\n",
    "goodcc=[c for i,c in enumerate(cc) if c>thresh]\n",
    "print('%d observations'%len(goodcc))\n",
    "goodcombs=numpy.array([allcombs[i] for i,c in enumerate(cc) if c>thresh])\n",
    "goodcc_idx=numpy.argsort(goodcc)[::-1]\n",
    "\n",
    "print('best combination:')\n",
    "for i in goodcombs[goodcc_idx[0]]:\n",
    "    print(tasks[i])\n",
    "print('')\n",
    "\n",
    "for i,task in enumerate(tasks):\n",
    "    taskpresence[i]=numpy.mean(goodcombs==i)\n",
    "taskidx=numpy.argsort(taskpresence)[::-1]\n",
    "for i in taskidx:\n",
    "    nvars=len([t for j,t in enumerate(tasknames) if t==tasks[i]])\n",
    "    print('%0.3f (%d):%s'%(taskpresence[i],nvars,tasks[i]))\n",
    "\n"
   ]
  },
  {
   "cell_type": "code",
   "execution_count": null,
   "metadata": {
    "collapsed": true
   },
   "outputs": [],
   "source": []
  }
 ],
 "metadata": {
  "kernelspec": {
   "display_name": "Python 3",
   "language": "python",
   "name": "python3"
  },
  "language_info": {
   "codemirror_mode": {
    "name": "ipython",
    "version": 3
   },
   "file_extension": ".py",
   "mimetype": "text/x-python",
   "name": "python",
   "nbconvert_exporter": "python",
   "pygments_lexer": "ipython3",
   "version": "3.4.4"
  }
 },
 "nbformat": 4,
 "nbformat_minor": 1
}
